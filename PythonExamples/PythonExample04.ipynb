{
 "cells": [
  {
   "cell_type": "markdown",
   "id": "794d3305-d3ce-430e-a1bb-64007c28b591",
   "metadata": {},
   "source": [
    "# Loop Statement\n",
    "----------------\n",
    "\n",
    "1. While Loop\n",
    "2. For Loop"
   ]
  },
  {
   "cell_type": "markdown",
   "id": "32ec59a1-3c46-442d-9963-cd9bdd982ae5",
   "metadata": {},
   "source": [
    "# 1. While Loop\n",
    "----------------"
   ]
  },
  {
   "cell_type": "code",
   "execution_count": 4,
   "id": "bf83b1f7-3d3c-4110-984b-a005b00e1eef",
   "metadata": {},
   "outputs": [
    {
     "name": "stdout",
     "output_type": "stream",
     "text": [
      "0\n",
      "1\n",
      "2\n",
      "3\n",
      "4\n",
      "5\n",
      "6\n",
      "7\n",
      "8\n",
      "9\n"
     ]
    }
   ],
   "source": [
    "\n",
    "i = 0\n",
    "\n",
    "while i < 10:\n",
    "    print(i)\n",
    "    i = i + 1"
   ]
  },
  {
   "cell_type": "code",
   "execution_count": 5,
   "id": "cc24bed4-2be3-40ca-8ed0-b33d8ddd3101",
   "metadata": {},
   "outputs": [
    {
     "name": "stdout",
     "output_type": "stream",
     "text": [
      "0\n",
      "2\n",
      "4\n",
      "6\n",
      "8\n"
     ]
    }
   ],
   "source": [
    "# To Print Even numbers\n",
    "\n",
    "i = 0\n",
    "\n",
    "while i < 10:\n",
    "    print(i)\n",
    "    i = i + 2"
   ]
  },
  {
   "cell_type": "code",
   "execution_count": 6,
   "id": "b377c269-ad4f-46c9-afcd-6f844d382298",
   "metadata": {},
   "outputs": [
    {
     "name": "stdout",
     "output_type": "stream",
     "text": [
      "1\n",
      "3\n",
      "5\n",
      "7\n",
      "9\n"
     ]
    }
   ],
   "source": [
    "# To Print Odd numbers\n",
    "\n",
    "i = 1\n",
    "\n",
    "while i < 10:\n",
    "    print(i)\n",
    "    i = i + 2"
   ]
  },
  {
   "cell_type": "code",
   "execution_count": 9,
   "id": "9489213a-664f-4b21-b8ac-c5978308c461",
   "metadata": {},
   "outputs": [
    {
     "name": "stdin",
     "output_type": "stream",
     "text": [
      "Enter a Limit value :  15\n"
     ]
    },
    {
     "name": "stdout",
     "output_type": "stream",
     "text": [
      "1\n",
      "3\n",
      "5\n",
      "7\n",
      "9\n",
      "11\n",
      "13\n"
     ]
    }
   ],
   "source": [
    "i = 1\n",
    "\n",
    "n = int(input('Enter a Limit value : '))\n",
    "\n",
    "while i < n:\n",
    "    print(i)\n",
    "    i = i + 2"
   ]
  },
  {
   "cell_type": "code",
   "execution_count": null,
   "id": "163e919b-f583-4498-9b65-6f2553f7a435",
   "metadata": {},
   "outputs": [],
   "source": [
    "'''\n",
    "To Write the Python Code for Below Output using While Loop\n",
    "----------------------------------------------------------\n",
    "1 * 2 = 2\n",
    "2 * 2 = 4\n",
    "3 * 2 = 6\n",
    "4 * 2 = 8\n",
    "5 * 2 = 10\n",
    "'''"
   ]
  },
  {
   "cell_type": "code",
   "execution_count": 11,
   "id": "78fda1e5-b25a-4687-bfde-93288f0d88c5",
   "metadata": {},
   "outputs": [
    {
     "name": "stdout",
     "output_type": "stream",
     "text": [
      "1  *  2  =  2\n",
      "2  *  2  =  4\n",
      "3  *  2  =  6\n",
      "4  *  2  =  8\n",
      "5  *  2  =  10\n"
     ]
    }
   ],
   "source": [
    "i = 1\n",
    "\n",
    "n = 5\n",
    "\n",
    "t = 2\n",
    "\n",
    "while i <= n:\n",
    "    result = i * t\n",
    "\n",
    "    print(i, ' * ', t, ' = ', result)\n",
    "\n",
    "    i = i + 1"
   ]
  },
  {
   "cell_type": "code",
   "execution_count": null,
   "id": "7f05903d-06a1-436c-ac04-1f5f8bc95e1e",
   "metadata": {},
   "outputs": [],
   "source": [
    "'''\n",
    "ToDay Task\n",
    "----------\n",
    "\n",
    "Question 01:\n",
    "To Write the Python Code for Below Output using While Loop\n",
    "\n",
    "Enter a Table value : 3\n",
    "\n",
    "Enter a Table Limt value : 4\n",
    "\n",
    "1 * 3 = 3\n",
    "2 * 3 = 6\n",
    "3 * 3 = 9\n",
    "4 * 3 = 12\n",
    "\n",
    "\n",
    "Question 02:\n",
    "To Write the Python Code for Below Output using While Loop\n",
    "\n",
    "Enter a Table value : 3\n",
    "\n",
    "Enter a Table Limt value : 4\n",
    "\n",
    "3 * 1 = 3\n",
    "3 * 2 = 6\n",
    "3 * 3 = 9\n",
    "3 * 4 = 12\n",
    "\n",
    "'''"
   ]
  }
 ],
 "metadata": {
  "kernelspec": {
   "display_name": "Python 3 (ipykernel)",
   "language": "python",
   "name": "python3"
  },
  "language_info": {
   "codemirror_mode": {
    "name": "ipython",
    "version": 3
   },
   "file_extension": ".py",
   "mimetype": "text/x-python",
   "name": "python",
   "nbconvert_exporter": "python",
   "pygments_lexer": "ipython3",
   "version": "3.11.9"
  }
 },
 "nbformat": 4,
 "nbformat_minor": 5
}
