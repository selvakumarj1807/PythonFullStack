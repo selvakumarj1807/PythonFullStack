{
 "cells": [
  {
   "cell_type": "markdown",
   "id": "2e868901-f555-4389-a284-80ef2da90e84",
   "metadata": {},
   "source": [
    "Function Arguments :\n",
    "--------------------"
   ]
  },
  {
   "cell_type": "markdown",
   "id": "8b9bd544-5348-427f-9733-b61221c3d47f",
   "metadata": {},
   "source": [
    "# 1. Arbitrary Argument Function\n",
    "--------------------------------"
   ]
  },
  {
   "cell_type": "code",
   "execution_count": 7,
   "id": "fca85a67-3131-472a-bbc8-634a182e11af",
   "metadata": {},
   "outputs": [],
   "source": [
    "def age(*age):\n",
    "    print(age, type(age))"
   ]
  },
  {
   "cell_type": "code",
   "execution_count": 8,
   "id": "9b4994cc-91f2-44c7-8b61-e3b0703363f6",
   "metadata": {},
   "outputs": [
    {
     "name": "stdout",
     "output_type": "stream",
     "text": [
      "(21, 32, 12, 10, 21, 24) <class 'tuple'>\n"
     ]
    }
   ],
   "source": [
    "age(21, 32, 12, 10, 21, 24)"
   ]
  },
  {
   "cell_type": "markdown",
   "id": "80d54aee-fa70-4a2b-b817-a528289dd2e4",
   "metadata": {},
   "source": [
    "# 2. Key Word Argument Function\n",
    "-------------------------------"
   ]
  },
  {
   "cell_type": "code",
   "execution_count": 9,
   "id": "6a9bb2be-815e-4693-bb98-0a07f95b514f",
   "metadata": {},
   "outputs": [],
   "source": [
    "def details(name, age):\n",
    "    print(name, ' your age is ', age)"
   ]
  },
  {
   "cell_type": "code",
   "execution_count": 10,
   "id": "8604a795-9ea7-4ac5-a3c5-97a14b7fd49d",
   "metadata": {},
   "outputs": [
    {
     "name": "stdout",
     "output_type": "stream",
     "text": [
      "Sara  your age is  25\n"
     ]
    }
   ],
   "source": [
    "details('Sara', 25)"
   ]
  },
  {
   "cell_type": "code",
   "execution_count": 12,
   "id": "40c8d3dc-aa1a-49d8-b6e1-e8d3ee427ce5",
   "metadata": {},
   "outputs": [
    {
     "name": "stdout",
     "output_type": "stream",
     "text": [
      "Thara  your age is  26\n"
     ]
    }
   ],
   "source": [
    "details(age=26, name='Thara')"
   ]
  },
  {
   "cell_type": "markdown",
   "id": "542f85f5-3be6-481b-bb22-ce95214559c2",
   "metadata": {},
   "source": [
    "# 3. Key Word Arbitrary Argument Function\n",
    "-----------------------------------------"
   ]
  },
  {
   "cell_type": "code",
   "execution_count": 18,
   "id": "cdec42c2-8644-4de4-8627-fab0d5baee2c",
   "metadata": {},
   "outputs": [],
   "source": [
    "def details(**detail):\n",
    "    print(detail, type(detail))"
   ]
  },
  {
   "cell_type": "code",
   "execution_count": 19,
   "id": "e40ee3c3-3960-42f2-90f3-1f65036d782e",
   "metadata": {},
   "outputs": [
    {
     "name": "stdout",
     "output_type": "stream",
     "text": [
      "{'age': 26, 'name': 'Thara', 'mobile': 9500912258, 'gmail': 'thara@gmail.com'} <class 'dict'>\n"
     ]
    }
   ],
   "source": [
    "details(age=26, name='Thara', mobile = 9500912258, gmail = 'thara@gmail.com')"
   ]
  },
  {
   "cell_type": "code",
   "execution_count": null,
   "id": "f0c75020-0843-4481-8cb6-9d11ea8026f5",
   "metadata": {},
   "outputs": [],
   "source": [
    "'''\n",
    "ToDay Task\n",
    "\n",
    "To write the python code for below Output using Key Word Aribtrary Argument Function\n",
    "\n",
    "Thara  your age is  26, 9500912258 - thara@gmail.com\n",
    "\n",
    "'''"
   ]
  },
  {
   "cell_type": "markdown",
   "id": "bdf33dd2-a8f5-42df-8be8-c436166c5b1c",
   "metadata": {},
   "source": [
    "# 4. List values in argument\n",
    "----------------------------"
   ]
  },
  {
   "cell_type": "code",
   "execution_count": 22,
   "id": "8f6a1619-85a4-4d1f-9a05-54ed2d964f8f",
   "metadata": {},
   "outputs": [],
   "source": [
    "def age(age):\n",
    "    print(age, type(age))"
   ]
  },
  {
   "cell_type": "code",
   "execution_count": 23,
   "id": "c3c41b5f-4549-4611-987e-85af77b3668a",
   "metadata": {},
   "outputs": [
    {
     "name": "stdout",
     "output_type": "stream",
     "text": [
      "[21, 32, 12, 10, 21, 24] <class 'list'>\n"
     ]
    }
   ],
   "source": [
    "age([21, 32, 12, 10, 21, 24])"
   ]
  },
  {
   "cell_type": "markdown",
   "id": "8b942b13-f8d5-4af2-8055-856ee179f1fa",
   "metadata": {},
   "source": [
    "# 5. Default Parameter Function\n",
    "-------------------------------"
   ]
  },
  {
   "cell_type": "code",
   "execution_count": 25,
   "id": "c1b309a5-7b9c-4f28-800c-a27541dc6466",
   "metadata": {},
   "outputs": [],
   "source": [
    "def details(name, age, state = 'TN'):\n",
    "    print(name, ' your age is ', age, ' - ', state)"
   ]
  },
  {
   "cell_type": "code",
   "execution_count": 26,
   "id": "14b1e7f5-4633-4704-af49-ed7fec3f5801",
   "metadata": {},
   "outputs": [
    {
     "name": "stdout",
     "output_type": "stream",
     "text": [
      "Sara  your age is  25  -  TN\n"
     ]
    }
   ],
   "source": [
    "details('Sara', 25)"
   ]
  },
  {
   "cell_type": "code",
   "execution_count": 27,
   "id": "a4a8d3e4-8f44-44f9-87e1-e5717d17c919",
   "metadata": {},
   "outputs": [
    {
     "name": "stdout",
     "output_type": "stream",
     "text": [
      "Tara  your age is  23  -  KL\n"
     ]
    }
   ],
   "source": [
    "details('Tara', 23, 'KL')"
   ]
  },
  {
   "cell_type": "code",
   "execution_count": null,
   "id": "46aa157e-eb20-48b6-9628-84d479168247",
   "metadata": {},
   "outputs": [],
   "source": []
  }
 ],
 "metadata": {
  "kernelspec": {
   "display_name": "Python 3 (ipykernel)",
   "language": "python",
   "name": "python3"
  },
  "language_info": {
   "codemirror_mode": {
    "name": "ipython",
    "version": 3
   },
   "file_extension": ".py",
   "mimetype": "text/x-python",
   "name": "python",
   "nbconvert_exporter": "python",
   "pygments_lexer": "ipython3",
   "version": "3.11.9"
  }
 },
 "nbformat": 4,
 "nbformat_minor": 5
}
