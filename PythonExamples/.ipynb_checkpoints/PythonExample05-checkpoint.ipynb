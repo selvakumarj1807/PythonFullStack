{
 "cells": [
  {
   "cell_type": "code",
   "execution_count": 1,
   "id": "3de5179f-af38-4859-b0c0-a839ddb5e43d",
   "metadata": {},
   "outputs": [
    {
     "name": "stdout",
     "output_type": "stream",
     "text": [
      "0\n",
      "1\n",
      "2\n",
      "3\n",
      "4\n",
      "5\n",
      "6\n",
      "7\n",
      "8\n",
      "9\n"
     ]
    }
   ],
   "source": [
    "i = 0\n",
    "\n",
    "while i < 10:\n",
    "    print(i)\n",
    "    i = i + 1"
   ]
  },
  {
   "cell_type": "markdown",
   "id": "1b25d5da-fdb9-4861-8c6e-8ef30a527fa3",
   "metadata": {},
   "source": [
    "Break Statement in While Loop\n",
    "-----------------------------"
   ]
  },
  {
   "cell_type": "code",
   "execution_count": 5,
   "id": "1c40180b-4fbf-4ef7-bc27-852c7a3d240a",
   "metadata": {},
   "outputs": [
    {
     "name": "stdout",
     "output_type": "stream",
     "text": [
      "0\n",
      "1\n",
      "2\n",
      "3\n",
      "4\n"
     ]
    }
   ],
   "source": [
    "i = 0\n",
    "\n",
    "while i < 10:\n",
    "\n",
    "    if i == 5:\n",
    "        i = i + 1\n",
    "        break\n",
    "        print('Break Statement Excecute')\n",
    "        \n",
    "    print(i)\n",
    "    i = i + 1\n",
    "    "
   ]
  },
  {
   "cell_type": "markdown",
   "id": "ae989253-c8ca-4dfd-87bd-c7af710d8a01",
   "metadata": {},
   "source": [
    "Pass Statement in While Loop\n",
    "----------------------------"
   ]
  },
  {
   "cell_type": "code",
   "execution_count": 6,
   "id": "02689d18-88ec-4c7b-92fa-3b04bcd71554",
   "metadata": {},
   "outputs": [
    {
     "name": "stdout",
     "output_type": "stream",
     "text": [
      "0\n",
      "1\n",
      "2\n",
      "3\n",
      "4\n",
      "Pass Statement Excecute\n",
      "6\n",
      "7\n",
      "8\n",
      "9\n"
     ]
    }
   ],
   "source": [
    "i = 0\n",
    "\n",
    "while i < 10:\n",
    "\n",
    "    if i == 5:\n",
    "        i = i + 1\n",
    "        pass\n",
    "        print('Pass Statement Excecute')\n",
    "        \n",
    "    print(i)\n",
    "    i = i + 1"
   ]
  },
  {
   "cell_type": "markdown",
   "id": "612c51e0-8461-417e-aa99-a69cd9976e8d",
   "metadata": {},
   "source": [
    "Continue Statement in While Loop\n",
    "--------------------------------"
   ]
  },
  {
   "cell_type": "code",
   "execution_count": 4,
   "id": "1f555327-a8aa-4333-9b9c-7739f82caf7d",
   "metadata": {},
   "outputs": [
    {
     "name": "stdout",
     "output_type": "stream",
     "text": [
      "0\n",
      "1\n",
      "2\n",
      "3\n",
      "4\n",
      "6\n",
      "7\n",
      "8\n",
      "9\n"
     ]
    }
   ],
   "source": [
    "i = 0\n",
    "\n",
    "while i < 10:\n",
    "\n",
    "    if i == 5:\n",
    "        i = i + 1\n",
    "        continue\n",
    "        print('Continue Statement Excecute')\n",
    "        \n",
    "    print(i)\n",
    "    i = i + 1"
   ]
  },
  {
   "cell_type": "code",
   "execution_count": null,
   "id": "75e8964a-1985-417f-bd61-cf6abf4b5a31",
   "metadata": {},
   "outputs": [],
   "source": []
  }
 ],
 "metadata": {
  "kernelspec": {
   "display_name": "Python 3 (ipykernel)",
   "language": "python",
   "name": "python3"
  },
  "language_info": {
   "codemirror_mode": {
    "name": "ipython",
    "version": 3
   },
   "file_extension": ".py",
   "mimetype": "text/x-python",
   "name": "python",
   "nbconvert_exporter": "python",
   "pygments_lexer": "ipython3",
   "version": "3.11.9"
  }
 },
 "nbformat": 4,
 "nbformat_minor": 5
}
