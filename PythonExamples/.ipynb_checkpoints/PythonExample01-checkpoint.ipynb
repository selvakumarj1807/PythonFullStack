{
 "cells": [
  {
   "cell_type": "markdown",
   "id": "78f93806-7fdb-48c1-9fcb-5955354a5cac",
   "metadata": {},
   "source": [
    "Python Data type & variables\n",
    "----------------------------"
   ]
  },
  {
   "cell_type": "code",
   "execution_count": 3,
   "id": "30615937-df8e-4951-83f7-588e19c69f43",
   "metadata": {},
   "outputs": [
    {
     "name": "stdout",
     "output_type": "stream",
     "text": [
      "Welcom Python\n"
     ]
    }
   ],
   "source": [
    "# Single Line Comment\n",
    "\n",
    "'''\n",
    "Multi\n",
    "Line\n",
    "Comment\n",
    "'''\n",
    "\n",
    "print('Welcom Python')"
   ]
  },
  {
   "cell_type": "code",
   "execution_count": 10,
   "id": "7e7bcbbe-4284-46f0-a8ef-ffb81b7973ee",
   "metadata": {},
   "outputs": [
    {
     "name": "stdout",
     "output_type": "stream",
     "text": [
      "Admin\n",
      "25\n",
      "90.5\n",
      "True\n"
     ]
    }
   ],
   "source": [
    "# Variables\n",
    "\n",
    "name = 'Admin'\n",
    "\n",
    "age = 25\n",
    "\n",
    "average = 90.5\n",
    "\n",
    "married = True\n",
    "\n",
    "print(name)\n",
    "\n",
    "print(age)\n",
    "\n",
    "print(average)\n",
    "\n",
    "print(married)"
   ]
  },
  {
   "cell_type": "markdown",
   "id": "54dbafbd-8665-4ed6-a303-8986d65e85ae",
   "metadata": {},
   "source": [
    "Data Types\n",
    "----------\n",
    "    1. int(Integer)   - 0 to 9\n",
    "    2. float          - 10.5,...(decimal values)\n",
    "    3. str(String)    - a to z, A to Z, Special Charecters (!, @, #, $,....), all numeric values used with in Single quote (' ')\n",
    "    4. bool(Boolean)  - True, False"
   ]
  },
  {
   "cell_type": "code",
   "execution_count": 11,
   "id": "5c1100c1-5f90-40dc-8b40-1a9361ba4d1f",
   "metadata": {},
   "outputs": [
    {
     "name": "stdout",
     "output_type": "stream",
     "text": [
      "name <class 'str'>\n",
      "25 <class 'int'>\n",
      "90.5 <class 'float'>\n",
      "True <class 'bool'>\n"
     ]
    }
   ],
   "source": [
    "# Data Types\n",
    "\n",
    "print(name, type(name))\n",
    "\n",
    "print(age, type(age))\n",
    "\n",
    "print(average, type(average))\n",
    "\n",
    "print(married, type(married))"
   ]
  },
  {
   "cell_type": "markdown",
   "id": "c090df3a-6a70-4022-a9c5-d622efe1a188",
   "metadata": {},
   "source": [
    "Concotination\n",
    "-------------"
   ]
  },
  {
   "cell_type": "code",
   "execution_count": 29,
   "id": "ebe04ddd-c567-41ac-bbca-6611b37ff82c",
   "metadata": {},
   "outputs": [
    {
     "name": "stdout",
     "output_type": "stream",
     "text": [
      "Admin age is 25 - 9500912258\n"
     ]
    }
   ],
   "source": [
    "name = 'Admin'\n",
    "\n",
    "age = 25\n",
    "\n",
    "mobile = 9500912258\n",
    "\n",
    "print(name, 'age is', age, '-', mobile)"
   ]
  },
  {
   "cell_type": "markdown",
   "id": "8d159928-fdb5-45b0-88c8-aa2e09deeccc",
   "metadata": {},
   "source": [
    "Addition of Two Numbers\n",
    "-----------------------"
   ]
  },
  {
   "cell_type": "code",
   "execution_count": 19,
   "id": "bf2e0db1-e874-4bc7-84e1-ea3bd9d7a8c9",
   "metadata": {},
   "outputs": [
    {
     "name": "stdout",
     "output_type": "stream",
     "text": [
      "30\n"
     ]
    }
   ],
   "source": [
    "value01 = 10\n",
    "\n",
    "value02 = 20\n",
    "\n",
    "print(value01 + value02)"
   ]
  },
  {
   "cell_type": "markdown",
   "id": "bce33f38-2293-437b-9d20-f5ca50bf168a",
   "metadata": {},
   "source": [
    "Subtraction of Two Numbers\n",
    "--------------------------"
   ]
  },
  {
   "cell_type": "code",
   "execution_count": 9,
   "id": "0e2d0fd7-662d-4dd9-9ff1-3ee665c13d3e",
   "metadata": {},
   "outputs": [
    {
     "name": "stdout",
     "output_type": "stream",
     "text": [
      "30 - 20 = 10\n",
      "30 + 20 = 50\n"
     ]
    }
   ],
   "source": [
    "value01 = 30\n",
    "\n",
    "value02 = 20\n",
    "\n",
    "subtraction = value01 - value02\n",
    "\n",
    "print(value01, '-', value02, '=', subtraction) # 30 - 20 = 10\n",
    "\n",
    "print(value01, '+', value02, '=', value01 + value02) # 30 - 20 = 10"
   ]
  },
  {
   "cell_type": "markdown",
   "id": "93b8eea8-af54-469c-b543-f52424a1f1d6",
   "metadata": {},
   "source": [
    "Python Input:\n",
    "-------------"
   ]
  },
  {
   "cell_type": "code",
   "execution_count": 4,
   "id": "ffdef4be-e397-4481-9276-86245c882bd7",
   "metadata": {},
   "outputs": [
    {
     "name": "stdin",
     "output_type": "stream",
     "text": [
      "Enter your name :  Admin\n"
     ]
    },
    {
     "name": "stdout",
     "output_type": "stream",
     "text": [
      "Admin <class 'str'>\n"
     ]
    }
   ],
   "source": [
    "name = input('Enter your name : ')\n",
    "\n",
    "print(name, type(name))"
   ]
  },
  {
   "cell_type": "code",
   "execution_count": 8,
   "id": "330ea1dc-a3bf-4d94-b294-6b62568edcc8",
   "metadata": {},
   "outputs": [
    {
     "name": "stdin",
     "output_type": "stream",
     "text": [
      "Enter your Birth Year :  1999\n"
     ]
    },
    {
     "name": "stdout",
     "output_type": "stream",
     "text": [
      "1999 <class 'int'>\n",
      "------------------------\n",
      "Your age is :  26\n"
     ]
    }
   ],
   "source": [
    "BOY = int(input('Enter your Birth Year : '))\n",
    "\n",
    "print(BOY, type(BOY))\n",
    "\n",
    "print('------------------------')\n",
    "\n",
    "age = 2025 - BOY\n",
    "\n",
    "print('Your age is : ', age)"
   ]
  },
  {
   "cell_type": "code",
   "execution_count": null,
   "id": "51d4b434-3163-4c1e-82c0-170f76fbc8a0",
   "metadata": {},
   "outputs": [],
   "source": [
    "'''\n",
    "Today Task:\n",
    "\n",
    "To write the python code for this Output\n",
    "\n",
    "Enter a value01 = 20\n",
    "\n",
    "Enter a value02 = 30\n",
    "\n",
    "20 + 30 = 50\n",
    "20 - 30 = -10\n",
    "20 * 30 = 600\n",
    "20 / 30 = 0.66666\n",
    "'''"
   ]
  },
  {
   "cell_type": "code",
   "execution_count": null,
   "id": "97a2d669-895b-4434-aa32-bef574e8bb07",
   "metadata": {},
   "outputs": [],
   "source": []
  }
 ],
 "metadata": {
  "kernelspec": {
   "display_name": "Python 3 (ipykernel)",
   "language": "python",
   "name": "python3"
  },
  "language_info": {
   "codemirror_mode": {
    "name": "ipython",
    "version": 3
   },
   "file_extension": ".py",
   "mimetype": "text/x-python",
   "name": "python",
   "nbconvert_exporter": "python",
   "pygments_lexer": "ipython3",
   "version": "3.11.9"
  }
 },
 "nbformat": 4,
 "nbformat_minor": 5
}
