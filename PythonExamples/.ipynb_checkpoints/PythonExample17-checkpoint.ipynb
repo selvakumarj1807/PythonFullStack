{
 "cells": [
  {
   "cell_type": "markdown",
   "id": "8f9356ca-3e3a-4272-a9ad-5e833a89287b",
   "metadata": {},
   "source": [
    "Exception Handling or Error Handling:\n",
    "-------------------------------------"
   ]
  },
  {
   "cell_type": "code",
   "execution_count": 6,
   "id": "54d41ee1-4d22-4a84-bdd7-8744f1c1fad5",
   "metadata": {},
   "outputs": [
    {
     "ename": "ZeroDivisionError",
     "evalue": "division by zero",
     "output_type": "error",
     "traceback": [
      "\u001b[31m---------------------------------------------------------------------------\u001b[39m",
      "\u001b[31mZeroDivisionError\u001b[39m                         Traceback (most recent call last)",
      "\u001b[36mCell\u001b[39m\u001b[36m \u001b[39m\u001b[32mIn[6]\u001b[39m\u001b[32m, line 5\u001b[39m\n\u001b[32m      1\u001b[39m a = \u001b[32m10\u001b[39m\n\u001b[32m      3\u001b[39m b = \u001b[32m0\u001b[39m\n\u001b[32m----> \u001b[39m\u001b[32m5\u001b[39m c = \u001b[43ma\u001b[49m\u001b[43m \u001b[49m\u001b[43m/\u001b[49m\u001b[43m \u001b[49m\u001b[43mb\u001b[49m\n\u001b[32m      7\u001b[39m \u001b[38;5;28mprint\u001b[39m(c)\n",
      "\u001b[31mZeroDivisionError\u001b[39m: division by zero"
     ]
    }
   ],
   "source": [
    "a = 10\n",
    "\n",
    "b = 0\n",
    "\n",
    "c = a / b\n",
    "\n",
    "print(c)"
   ]
  },
  {
   "cell_type": "markdown",
   "id": "a378dc55-ea33-4b25-a581-65d3c30cac2b",
   "metadata": {},
   "source": [
    "try & except\n",
    "------------"
   ]
  },
  {
   "cell_type": "code",
   "execution_count": 15,
   "id": "5f1c3f65-205f-4a90-9931-fdbb129b554a",
   "metadata": {},
   "outputs": [
    {
     "name": "stdout",
     "output_type": "stream",
     "text": [
      "Dinominator cannot be zero\n"
     ]
    }
   ],
   "source": [
    "# Example 01\n",
    "\n",
    "try:\n",
    "    a = 10\n",
    "\n",
    "    b = 0\n",
    "    \n",
    "    c = a / b\n",
    "\n",
    "except:\n",
    "    print('Dinominator cannot be zero')"
   ]
  },
  {
   "cell_type": "code",
   "execution_count": 16,
   "id": "11d9486d-43ac-483a-8793-09ba8d24ddf3",
   "metadata": {},
   "outputs": [
    {
     "name": "stdout",
     "output_type": "stream",
     "text": [
      "division by zero\n"
     ]
    }
   ],
   "source": [
    "# Example 02\n",
    "\n",
    "try:\n",
    "    a = 10\n",
    "\n",
    "    b = 0\n",
    "    \n",
    "    c = a / b\n",
    "\n",
    "except Exception as errorMessage:\n",
    "    print(errorMessage)"
   ]
  },
  {
   "cell_type": "markdown",
   "id": "44e6c6bb-d09e-4d87-ae8f-00b76bad10e9",
   "metadata": {},
   "source": [
    "try & except & else\n",
    "-------------------"
   ]
  },
  {
   "cell_type": "code",
   "execution_count": 17,
   "id": "50236612-7e43-4e58-a131-5e169dbd46cb",
   "metadata": {},
   "outputs": [
    {
     "name": "stdout",
     "output_type": "stream",
     "text": [
      "2.0\n"
     ]
    }
   ],
   "source": [
    "try:\n",
    "    a = 10\n",
    "\n",
    "    b = 5\n",
    "    \n",
    "    c = a / b\n",
    "\n",
    "except Exception as errorMessage:\n",
    "    print(errorMessage)\n",
    "\n",
    "else:\n",
    "    print(c)"
   ]
  },
  {
   "cell_type": "markdown",
   "id": "e881230e-a6b0-4ec0-b20e-df4fce718b4d",
   "metadata": {},
   "source": [
    "try & except & else & finally\n",
    "-----------------------------"
   ]
  },
  {
   "cell_type": "code",
   "execution_count": 19,
   "id": "be93a298-5a1d-4f8f-905f-334237829769",
   "metadata": {},
   "outputs": [
    {
     "name": "stdout",
     "output_type": "stream",
     "text": [
      "2.0\n",
      "Thank You\n"
     ]
    }
   ],
   "source": [
    "# Example 01\n",
    "\n",
    "try:\n",
    "    a = 10\n",
    "\n",
    "    b = 5\n",
    "    \n",
    "    c = a / b\n",
    "\n",
    "except Exception as errorMessage:\n",
    "    print(errorMessage)\n",
    "\n",
    "else:\n",
    "    print(c)\n",
    "\n",
    "finally:\n",
    "    print('Thank You')"
   ]
  },
  {
   "cell_type": "code",
   "execution_count": 20,
   "id": "b782db6a-78f7-4887-b894-ec32a6d11931",
   "metadata": {},
   "outputs": [
    {
     "name": "stdout",
     "output_type": "stream",
     "text": [
      "division by zero\n",
      "Thank You\n"
     ]
    }
   ],
   "source": [
    "# Example 02\n",
    "\n",
    "try:\n",
    "    a = 10\n",
    "\n",
    "    b = 0\n",
    "    \n",
    "    c = a / b\n",
    "\n",
    "except Exception as errorMessage:\n",
    "    print(errorMessage)\n",
    "\n",
    "else:\n",
    "    print(c)\n",
    "\n",
    "finally:\n",
    "    print('Thank You')"
   ]
  },
  {
   "cell_type": "markdown",
   "id": "717012fe-476b-40f1-9c3a-c17c9982fa93",
   "metadata": {},
   "source": [
    "To Find the Number of Errors in Python:\n",
    "---------------------------------------"
   ]
  },
  {
   "cell_type": "code",
   "execution_count": 21,
   "id": "79435d9d-4d3f-4fbb-a9c0-ef8c0e2747f3",
   "metadata": {},
   "outputs": [
    {
     "name": "stdout",
     "output_type": "stream",
     "text": [
      "['ArithmeticError', 'AssertionError', 'AttributeError', 'BaseException', 'BaseExceptionGroup', 'BlockingIOError', 'BrokenPipeError', 'BufferError', 'BytesWarning', 'ChildProcessError', 'ConnectionAbortedError', 'ConnectionError', 'ConnectionRefusedError', 'ConnectionResetError', 'DeprecationWarning', 'EOFError', 'Ellipsis', 'EncodingWarning', 'EnvironmentError', 'Exception', 'ExceptionGroup', 'False', 'FileExistsError', 'FileNotFoundError', 'FloatingPointError', 'FutureWarning', 'GeneratorExit', 'IOError', 'ImportError', 'ImportWarning', 'IndentationError', 'IndexError', 'InterruptedError', 'IsADirectoryError', 'KeyError', 'KeyboardInterrupt', 'LookupError', 'MemoryError', 'ModuleNotFoundError', 'NameError', 'None', 'NotADirectoryError', 'NotImplemented', 'NotImplementedError', 'OSError', 'OverflowError', 'PendingDeprecationWarning', 'PermissionError', 'ProcessLookupError', 'PythonFinalizationError', 'RecursionError', 'ReferenceError', 'ResourceWarning', 'RuntimeError', 'RuntimeWarning', 'StopAsyncIteration', 'StopIteration', 'SyntaxError', 'SyntaxWarning', 'SystemError', 'SystemExit', 'TabError', 'TimeoutError', 'True', 'TypeError', 'UnboundLocalError', 'UnicodeDecodeError', 'UnicodeEncodeError', 'UnicodeError', 'UnicodeTranslateError', 'UnicodeWarning', 'UserWarning', 'ValueError', 'Warning', 'WindowsError', 'ZeroDivisionError', '_IncompleteInputError', '__IPYTHON__', '__build_class__', '__debug__', '__doc__', '__import__', '__loader__', '__name__', '__package__', '__spec__', 'abs', 'aiter', 'all', 'anext', 'any', 'ascii', 'bin', 'bool', 'breakpoint', 'bytearray', 'bytes', 'callable', 'chr', 'classmethod', 'compile', 'complex', 'copyright', 'credits', 'delattr', 'dict', 'dir', 'display', 'divmod', 'enumerate', 'eval', 'exec', 'execfile', 'filter', 'float', 'format', 'frozenset', 'get_ipython', 'getattr', 'globals', 'hasattr', 'hash', 'help', 'hex', 'id', 'input', 'int', 'isinstance', 'issubclass', 'iter', 'len', 'license', 'list', 'locals', 'map', 'max', 'memoryview', 'min', 'next', 'object', 'oct', 'open', 'ord', 'pow', 'print', 'property', 'range', 'repr', 'reversed', 'round', 'runfile', 'set', 'setattr', 'slice', 'sorted', 'staticmethod', 'str', 'sum', 'super', 'tuple', 'type', 'vars', 'zip']\n"
     ]
    }
   ],
   "source": [
    "print(dir(locals()['__builtins__']))"
   ]
  },
  {
   "cell_type": "code",
   "execution_count": 22,
   "id": "d01f9788-1e19-4a6e-8068-2d328aee3037",
   "metadata": {},
   "outputs": [
    {
     "name": "stdout",
     "output_type": "stream",
     "text": [
      "163\n"
     ]
    }
   ],
   "source": [
    "print(len(dir(locals()['__builtins__'])))"
   ]
  },
  {
   "cell_type": "markdown",
   "id": "f094f90e-5c67-45e2-b8c7-1defe84251c7",
   "metadata": {},
   "source": [
    "Example 01: Name Error\n",
    "----------------------"
   ]
  },
  {
   "cell_type": "code",
   "execution_count": 25,
   "id": "8d7e0b67-b1d6-4b9f-9a36-a36b21d5d728",
   "metadata": {},
   "outputs": [
    {
     "name": "stdout",
     "output_type": "stream",
     "text": [
      "name 'age' is not defined\n"
     ]
    }
   ],
   "source": [
    "try:\n",
    "    print(age)\n",
    "\n",
    "except Exception as errorMessage:\n",
    "    print(errorMessage)"
   ]
  },
  {
   "cell_type": "markdown",
   "id": "871d6276-aea0-40ea-a710-32ad763701ae",
   "metadata": {},
   "source": [
    "Example 02: IndexError\n",
    "----------------------"
   ]
  },
  {
   "cell_type": "code",
   "execution_count": 27,
   "id": "a7aeaeb8-66ec-4c56-91c6-17c5890e5e7e",
   "metadata": {},
   "outputs": [
    {
     "name": "stdout",
     "output_type": "stream",
     "text": [
      "list index out of range\n"
     ]
    }
   ],
   "source": [
    "try:\n",
    "    age = [10, 20, 30]\n",
    "\n",
    "    print(age[10])\n",
    "\n",
    "except Exception as errorMessage:\n",
    "    print(errorMessage)"
   ]
  },
  {
   "cell_type": "markdown",
   "id": "cc7334ce-6340-4dc3-98d3-ae658aa8967c",
   "metadata": {},
   "source": [
    "Example 03: ValueError\n",
    "----------------------"
   ]
  },
  {
   "cell_type": "code",
   "execution_count": 31,
   "id": "dca5912e-f4a9-4abd-8ce5-91fce436e547",
   "metadata": {},
   "outputs": [
    {
     "name": "stdin",
     "output_type": "stream",
     "text": [
      "Enter your age : two three\n"
     ]
    },
    {
     "name": "stdout",
     "output_type": "stream",
     "text": [
      "invalid literal for int() with base 10: 'two three'\n"
     ]
    }
   ],
   "source": [
    "try:\n",
    "    age = int(input('Enter your age :'))\n",
    "\n",
    "except Exception as errorMessage:\n",
    "    print(errorMessage)\n",
    "\n",
    "else:\n",
    "    print(age)"
   ]
  },
  {
   "cell_type": "code",
   "execution_count": 37,
   "id": "2afbb1af-0431-4732-ba57-2006c8c2a823",
   "metadata": {},
   "outputs": [
    {
     "name": "stdin",
     "output_type": "stream",
     "text": [
      "Enter your age : 23\n"
     ]
    },
    {
     "name": "stdout",
     "output_type": "stream",
     "text": [
      "23\n"
     ]
    }
   ],
   "source": [
    "try:\n",
    "    age = int(input('Enter your age :'))\n",
    "\n",
    "except Exception as errorMessage:\n",
    "    print(errorMessage)\n",
    "    print('Enter numeric value only')\n",
    "    age = int(input('Enter your age value in except block :'))\n",
    "    \n",
    "finally:\n",
    "    print(age)"
   ]
  },
  {
   "cell_type": "code",
   "execution_count": null,
   "id": "c32fac1b-24f4-4f89-86fe-7a7feb7d1053",
   "metadata": {},
   "outputs": [],
   "source": []
  }
 ],
 "metadata": {
  "kernelspec": {
   "display_name": "Python 3 (ipykernel)",
   "language": "python",
   "name": "python3"
  },
  "language_info": {
   "codemirror_mode": {
    "name": "ipython",
    "version": 3
   },
   "file_extension": ".py",
   "mimetype": "text/x-python",
   "name": "python",
   "nbconvert_exporter": "python",
   "pygments_lexer": "ipython3",
   "version": "3.13.2"
  }
 },
 "nbformat": 4,
 "nbformat_minor": 5
}
