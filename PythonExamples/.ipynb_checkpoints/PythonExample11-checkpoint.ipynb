{
 "cells": [
  {
   "cell_type": "markdown",
   "id": "4636a235-6774-4cb1-9936-66e679fdfef4",
   "metadata": {},
   "source": [
    "Dictionary\n",
    "----------\n",
    "\n",
    "1. Dictionary is a Collection of Data Type\n",
    "2. Declare with in {key : values}\n",
    "3. It's used for store multiple values and Diffrent Data type values can store in a single variable.\n",
    "4. It's Values are store non index based It access Key Based\n",
    "5. It's Used for Remove Duplicate values also"
   ]
  },
  {
   "cell_type": "code",
   "execution_count": 9,
   "id": "b6c34a7c-a53f-4ccb-8d9f-32db0e9542e9",
   "metadata": {},
   "outputs": [
    {
     "name": "stdout",
     "output_type": "stream",
     "text": [
      "{'name': 'Sara', 'age': 25, 'gender': 'male'} <class 'dict'>\n"
     ]
    }
   ],
   "source": [
    "user = {'name': 'Sara', 'age': 25, 'gender': 'male'}\n",
    "\n",
    "print(user, type(user))"
   ]
  },
  {
   "cell_type": "code",
   "execution_count": 14,
   "id": "29396a9c-a6d8-4fc9-aded-617d990aba72",
   "metadata": {},
   "outputs": [
    {
     "name": "stdout",
     "output_type": "stream",
     "text": [
      "Sara\n",
      "25\n",
      "male\n"
     ]
    }
   ],
   "source": [
    "print(user['name'])\n",
    "\n",
    "print(user['age'])\n",
    "\n",
    "print(user['gender'])"
   ]
  },
  {
   "cell_type": "code",
   "execution_count": 16,
   "id": "7f0fdc95-7c96-4940-ae86-fc33bfb629b1",
   "metadata": {},
   "outputs": [
    {
     "name": "stdout",
     "output_type": "stream",
     "text": [
      "{'name': 'Sara', 'age': 25, 'gender': 'male'} <class 'dict'>\n",
      "----------------------------------------------------------\n",
      "name  -  Sara\n",
      "age  -  25\n",
      "gender  -  male\n"
     ]
    }
   ],
   "source": [
    "user = {'name': 'Sara', 'age': 25, 'gender': 'male'}\n",
    "\n",
    "print(user, type(user))\n",
    "\n",
    "print('----------------------------------------------------------')\n",
    "\n",
    "for i in user:\n",
    "    print(i, ' - ', user[i])"
   ]
  },
  {
   "cell_type": "code",
   "execution_count": 41,
   "id": "b5e8982b-b74b-4eed-ae65-5fd3f65399dc",
   "metadata": {},
   "outputs": [
    {
     "name": "stdout",
     "output_type": "stream",
     "text": [
      "{'name': 'Sara', 'age': 25, 'gender': 'male'} <class 'dict'>\n",
      "----------------------------------------------------------\n",
      "name\n",
      "age\n",
      "gender\n"
     ]
    }
   ],
   "source": [
    "user = {'name': 'Sara', 'age': 25, 'gender': 'male'}\n",
    "\n",
    "print(user, type(user))\n",
    "\n",
    "print('----------------------------------------------------------')\n",
    "\n",
    "for i in user.keys():\n",
    "    print(i)"
   ]
  },
  {
   "cell_type": "code",
   "execution_count": 18,
   "id": "0808faeb-79a2-4ea3-947e-3b678a6772d1",
   "metadata": {},
   "outputs": [
    {
     "name": "stdout",
     "output_type": "stream",
     "text": [
      "dict_keys(['name', 'age', 'gender'])\n",
      "dict_values(['Sara', 25, 'male'])\n",
      "dict_items([('name', 'Sara'), ('age', 25), ('gender', 'male')])\n"
     ]
    }
   ],
   "source": [
    "print(user.keys())\n",
    "\n",
    "print(user.values())\n",
    "\n",
    "print(user.items())"
   ]
  },
  {
   "cell_type": "markdown",
   "id": "389f89c0-6a33-40a9-87e9-0918ff1236b3",
   "metadata": {},
   "source": [
    "Add Values\n",
    "----------"
   ]
  },
  {
   "cell_type": "code",
   "execution_count": 21,
   "id": "4e8c9f57-99d8-4851-a67e-fd1f98a865b8",
   "metadata": {},
   "outputs": [
    {
     "name": "stdout",
     "output_type": "stream",
     "text": [
      "{'name': 'Sara', 'age': 25, 'gender': 'male'} <class 'dict'>\n",
      "----------------------------------------------------------\n",
      "{'name': 'Sara', 'age': 25, 'gender': 'male', 'married': 'No'}\n",
      "----------------------------------------------------------\n",
      "{'name': 'Sara', 'age': 25, 'gender': 'male', 'married': 'No', 'bankName': 'HDFC', 'AccNumber': 1234567890}\n"
     ]
    }
   ],
   "source": [
    "# Add values for given Dictionary Variable\n",
    "\n",
    "user = {'name': 'Sara', 'age': 25, 'gender': 'male'}\n",
    "\n",
    "print(user, type(user))\n",
    "\n",
    "print('----------------------------------------------------------')\n",
    "\n",
    "user.update({'married': 'No'})\n",
    "\n",
    "print(user)\n",
    "\n",
    "print('----------------------------------------------------------')\n",
    "\n",
    "bankDetails = {'bankName': 'HDFC', 'AccNumber': 1234567890}\n",
    "\n",
    "user.update(bankDetails)\n",
    "\n",
    "print(user)"
   ]
  },
  {
   "cell_type": "markdown",
   "id": "3d8781ac-dc16-4c30-be99-53a113cc6ab4",
   "metadata": {},
   "source": [
    "Change the Values\n",
    "-----------------"
   ]
  },
  {
   "cell_type": "code",
   "execution_count": 22,
   "id": "bb05ed46-50db-4614-87be-25a857d028d2",
   "metadata": {},
   "outputs": [
    {
     "name": "stdout",
     "output_type": "stream",
     "text": [
      "{'name': 'Sara', 'age': 25, 'gender': 'male'} <class 'dict'>\n",
      "----------------------------------------------------------\n",
      "{'name': 'Developer', 'age': 25, 'gender': 'male'}\n"
     ]
    }
   ],
   "source": [
    "user = {'name': 'Sara', 'age': 25, 'gender': 'male'}\n",
    "\n",
    "print(user, type(user))\n",
    "\n",
    "print('----------------------------------------------------------')\n",
    "\n",
    "user['name'] = 'Developer'\n",
    "\n",
    "print(user)"
   ]
  },
  {
   "cell_type": "markdown",
   "id": "081d69dd-0c39-4dd2-8850-e810f619e9ec",
   "metadata": {},
   "source": [
    "Remove Values\n",
    "-------------"
   ]
  },
  {
   "cell_type": "code",
   "execution_count": 37,
   "id": "fa7202bf-4791-40d0-896f-b5b3c5fab12c",
   "metadata": {},
   "outputs": [
    {
     "name": "stdout",
     "output_type": "stream",
     "text": [
      "{'name': 'Sara', 'age': 25, 'gender': 'male'} <class 'dict'>\n",
      "----------------------------------------------------------\n",
      "{'name': 'Sara', 'age': 25}\n"
     ]
    }
   ],
   "source": [
    "user = {'name': 'Sara', 'age': 25, 'gender': 'male'}\n",
    "\n",
    "print(user, type(user))\n",
    "\n",
    "print('----------------------------------------------------------')\n",
    "\n",
    "user.pop('gender')\n",
    "\n",
    "print(user)"
   ]
  },
  {
   "cell_type": "markdown",
   "id": "325d6b14-920b-450d-86e4-da648100ebd8",
   "metadata": {},
   "source": [
    "Declare Complex values in Dictionary\n",
    "------------------------------------"
   ]
  },
  {
   "cell_type": "code",
   "execution_count": 40,
   "id": "c967d54d-fe64-44f8-8cc5-a5530a4bcdb7",
   "metadata": {},
   "outputs": [
    {
     "name": "stdout",
     "output_type": "stream",
     "text": [
      "{'user1': {'name': 'Sara', 'age': 25, 'gender': 'Male'}, 'user2': {'name': 'Developer', 'age': 28, 'gender': 'Female'}, 'user3': {'name': 'Tara', 'age': 22, 'gender': 'Female'}} <class 'dict'>\n",
      "----------------------------------------------------------\n",
      "User 01 Name :  Sara\n",
      "User 01 Age :  25\n",
      "----------------------------------------------------------\n",
      "User 02 Name :  Developer\n",
      "User 02 Age :  28\n",
      "----------------------------------------------------------\n",
      "User 03 Name :  Tara\n",
      "User 03 Age :  22\n"
     ]
    }
   ],
   "source": [
    "users = {\n",
    "    'user1': {'name': 'Sara', 'age': 25, 'gender': 'Male'},\n",
    "    'user2': {'name': 'Developer', 'age': 28, 'gender': 'Female'},\n",
    "    'user3': {'name': 'Tara', 'age': 22, 'gender': 'Female'}\n",
    "}\n",
    "\n",
    "print(users, type(users))\n",
    "\n",
    "print('----------------------------------------------------------')\n",
    "\n",
    "print('User 01 Name : ', users['user1'] ['name'])\n",
    "\n",
    "print('User 01 Age : ', users['user1'] ['age'])\n",
    "\n",
    "print('----------------------------------------------------------')\n",
    "\n",
    "print('User 02 Name : ', users['user2'] ['name'])\n",
    "\n",
    "print('User 02 Age : ', users['user2'] ['age'])\n",
    "\n",
    "print('----------------------------------------------------------')\n",
    "\n",
    "print('User 03 Name : ', users['user3'] ['name'])\n",
    "\n",
    "print('User 03 Age : ', users['user3'] ['age'])"
   ]
  },
  {
   "cell_type": "code",
   "execution_count": null,
   "id": "6dedba70-8164-4285-bc3d-34f099d439b0",
   "metadata": {},
   "outputs": [],
   "source": []
  }
 ],
 "metadata": {
  "kernelspec": {
   "display_name": "Python 3 (ipykernel)",
   "language": "python",
   "name": "python3"
  },
  "language_info": {
   "codemirror_mode": {
    "name": "ipython",
    "version": 3
   },
   "file_extension": ".py",
   "mimetype": "text/x-python",
   "name": "python",
   "nbconvert_exporter": "python",
   "pygments_lexer": "ipython3",
   "version": "3.11.9"
  }
 },
 "nbformat": 4,
 "nbformat_minor": 5
}
