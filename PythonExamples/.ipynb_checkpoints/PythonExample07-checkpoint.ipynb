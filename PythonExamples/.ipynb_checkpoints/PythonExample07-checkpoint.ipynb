{
 "cells": [
  {
   "cell_type": "markdown",
   "id": "154efa26-5236-4f74-be66-70077ae97dc0",
   "metadata": {},
   "source": [
    "Nested For Loop:\n",
    "----------------"
   ]
  },
  {
   "cell_type": "code",
   "execution_count": 5,
   "id": "0d6102f8-a5e2-4d31-89c1-92ea472de167",
   "metadata": {},
   "outputs": [
    {
     "name": "stdout",
     "output_type": "stream",
     "text": [
      "\n",
      "1\n",
      "22\n",
      "333\n",
      "4444\n",
      "55555\n"
     ]
    }
   ],
   "source": [
    "'''\n",
    "Outer Loop:\n",
    "i = 0 True\n",
    "\n",
    "Inner Loop:\n",
    "j = 0\n",
    "i = 0(False)\n",
    "\n",
    "Outer Loop\n",
    "i = 1 True\n",
    "\n",
    "Inner Loop\n",
    "j = 0\n",
    "i = 1 True\n",
    "\n",
    "i = 1\n",
    "j = 1 False\n",
    "\n",
    "Outer Loop\n",
    "i = 2 True\n",
    "\n",
    "Inner Loop\n",
    "j = 0\n",
    "i = 2\n",
    "'''\n",
    "# Example 01\n",
    "\n",
    "for i in range(6):\n",
    "    for j in range(i):\n",
    "        print(i, end ='')\n",
    "    print('')"
   ]
  },
  {
   "cell_type": "code",
   "execution_count": 7,
   "id": "33f2367c-e62f-4c3a-8b90-9db6b2df4ed2",
   "metadata": {},
   "outputs": [
    {
     "name": "stdout",
     "output_type": "stream",
     "text": [
      "\n",
      "*\n",
      "**\n",
      "***\n",
      "****\n",
      "*****\n"
     ]
    }
   ],
   "source": [
    "# Example 02\n",
    "\n",
    "for i in range(6):\n",
    "    for j in range(i):\n",
    "        print('*', end ='')\n",
    "    print('')"
   ]
  },
  {
   "cell_type": "code",
   "execution_count": 11,
   "id": "7d9d7e2a-1bc8-4f6c-83a0-eade2e7e0f63",
   "metadata": {},
   "outputs": [
    {
     "name": "stdout",
     "output_type": "stream",
     "text": [
      "\n",
      "1\n",
      "12\n",
      "123\n",
      "1234\n",
      "12345\n"
     ]
    }
   ],
   "source": [
    "# Example 03\n",
    "\n",
    "for i in range(6):\n",
    "    for j in range(1, i+1):\n",
    "        print(j, end ='')\n",
    "    print('')"
   ]
  },
  {
   "cell_type": "code",
   "execution_count": 14,
   "id": "2af6a3f8-541a-48c8-b37f-c273cadc6772",
   "metadata": {},
   "outputs": [
    {
     "name": "stdout",
     "output_type": "stream",
     "text": [
      "65  -  A\n"
     ]
    }
   ],
   "source": [
    "'''\n",
    "A - Z = 65 - 90 (asci Value)\n",
    "a - z = 97 - 122 (asci Value)\n",
    "'''\n",
    "\n",
    "print(65,' - ', chr(65))"
   ]
  },
  {
   "cell_type": "code",
   "execution_count": 17,
   "id": "969ef422-5a3b-42fe-bfdd-686ee225da31",
   "metadata": {},
   "outputs": [
    {
     "name": "stdout",
     "output_type": "stream",
     "text": [
      "65  -  A\n",
      "66  -  B\n",
      "67  -  C\n",
      "68  -  D\n",
      "69  -  E\n",
      "70  -  F\n",
      "71  -  G\n",
      "72  -  H\n",
      "73  -  I\n",
      "74  -  J\n",
      "75  -  K\n",
      "76  -  L\n",
      "77  -  M\n",
      "78  -  N\n",
      "79  -  O\n",
      "80  -  P\n",
      "81  -  Q\n",
      "82  -  R\n",
      "83  -  S\n",
      "84  -  T\n",
      "85  -  U\n",
      "86  -  V\n",
      "87  -  W\n",
      "88  -  X\n",
      "89  -  Y\n",
      "90  -  Z\n"
     ]
    }
   ],
   "source": [
    "for i in range(65, 91):\n",
    "    print(i,' - ', chr(i))\n",
    "  "
   ]
  },
  {
   "cell_type": "code",
   "execution_count": 19,
   "id": "5989da3e-b05c-4ec4-9337-9e1b20090ec1",
   "metadata": {},
   "outputs": [
    {
     "name": "stdout",
     "output_type": "stream",
     "text": [
      "97  -  a\n",
      "98  -  b\n",
      "99  -  c\n",
      "100  -  d\n",
      "101  -  e\n",
      "102  -  f\n",
      "103  -  g\n",
      "104  -  h\n",
      "105  -  i\n",
      "106  -  j\n",
      "107  -  k\n",
      "108  -  l\n",
      "109  -  m\n",
      "110  -  n\n",
      "111  -  o\n",
      "112  -  p\n",
      "113  -  q\n",
      "114  -  r\n",
      "115  -  s\n",
      "116  -  t\n",
      "117  -  u\n",
      "118  -  v\n",
      "119  -  w\n",
      "120  -  x\n",
      "121  -  y\n",
      "122  -  z\n"
     ]
    }
   ],
   "source": [
    "for i in range(97, 123):\n",
    "    print(i,' - ', chr(i))\n",
    "  "
   ]
  },
  {
   "cell_type": "code",
   "execution_count": 22,
   "id": "b0987353-706d-466a-8ceb-1134cd094193",
   "metadata": {},
   "outputs": [
    {
     "name": "stdout",
     "output_type": "stream",
     "text": [
      "A\n",
      "BB\n",
      "CCC\n",
      "DDDD\n",
      "EEEEE\n"
     ]
    }
   ],
   "source": [
    "# Example 04\n",
    "\n",
    "for i in range(65, 70):\n",
    "    for j in range(65, i+1):\n",
    "        print(chr(i), end ='')\n",
    "    print('')"
   ]
  },
  {
   "cell_type": "code",
   "execution_count": 23,
   "id": "1093f270-e2a7-4d8d-b277-62142928a1aa",
   "metadata": {},
   "outputs": [
    {
     "name": "stdout",
     "output_type": "stream",
     "text": [
      "A\n",
      "AB\n",
      "ABC\n",
      "ABCD\n",
      "ABCDE\n"
     ]
    }
   ],
   "source": [
    "# Example 05\n",
    "\n",
    "for i in range(65, 70):\n",
    "    for j in range(65, i+1):\n",
    "        print(chr(j), end ='')\n",
    "    print('')"
   ]
  },
  {
   "cell_type": "code",
   "execution_count": null,
   "id": "ca690357-bd7a-4f73-bf04-20bd3b47437d",
   "metadata": {},
   "outputs": [],
   "source": [
    "'''\n",
    "ToDay Task:\n",
    "-----------\n",
    "\n",
    "Q1. To Write the Python Code for Below OutPut using Nested Loop\n",
    "\n",
    "54321\n",
    "4321\n",
    "321\n",
    "21\n",
    "1\n",
    "\n",
    "Q2. To Write the Python Code for Below OutPut using Nested Loop\n",
    "\n",
    "ABCDE\n",
    "ABCDE\n",
    "ABCDE\n",
    "ABCDE\n",
    "ABCDE\n",
    "\n",
    "Q3. To Write the Python Code for Below OutPut using Nested Loop\n",
    "\n",
    "AAAAA\n",
    "BBBBB\n",
    "CCCCC\n",
    "DDDDD\n",
    "EEEEE\n",
    "'''"
   ]
  }
 ],
 "metadata": {
  "kernelspec": {
   "display_name": "Python 3 (ipykernel)",
   "language": "python",
   "name": "python3"
  },
  "language_info": {
   "codemirror_mode": {
    "name": "ipython",
    "version": 3
   },
   "file_extension": ".py",
   "mimetype": "text/x-python",
   "name": "python",
   "nbconvert_exporter": "python",
   "pygments_lexer": "ipython3",
   "version": "3.11.9"
  }
 },
 "nbformat": 4,
 "nbformat_minor": 5
}
