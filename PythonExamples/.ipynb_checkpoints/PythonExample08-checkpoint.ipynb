{
 "cells": [
  {
   "cell_type": "markdown",
   "id": "403a02ff-ca70-4a4e-b3a9-f9093ab0461e",
   "metadata": {},
   "source": [
    "List\n",
    "----\n",
    "\n",
    "1. List is a Collection of Data Type\n",
    "2. Declare with in [ ]\n",
    "3. It's used for store multiple values and Diffrent Data type values can store in a single variable.\n",
    "4. It's Values are store index based."
   ]
  },
  {
   "cell_type": "code",
   "execution_count": 5,
   "id": "1e06868c-8ff7-402c-80bd-bd4e65090c19",
   "metadata": {},
   "outputs": [
    {
     "name": "stdout",
     "output_type": "stream",
     "text": [
      "20 <class 'int'>\n"
     ]
    }
   ],
   "source": [
    "age = 20\n",
    "\n",
    "print(age, type(age))"
   ]
  },
  {
   "cell_type": "code",
   "execution_count": 3,
   "id": "85320ad0-bff5-433d-8ef8-981da9866970",
   "metadata": {},
   "outputs": [
    {
     "name": "stdout",
     "output_type": "stream",
     "text": [
      "[10, 20, 30, 18, 25, 28] <class 'list'>\n"
     ]
    }
   ],
   "source": [
    "ageValues = [10, 20, 30, 18, 25, 28]\n",
    "\n",
    "print(ageValues, type(ageValues))"
   ]
  },
  {
   "cell_type": "code",
   "execution_count": 7,
   "id": "1fb6d479-4601-4412-9b44-d7bcd9593ebe",
   "metadata": {},
   "outputs": [
    {
     "name": "stdout",
     "output_type": "stream",
     "text": [
      "10\n",
      "20\n",
      "30\n",
      "18\n",
      "25\n",
      "28\n"
     ]
    }
   ],
   "source": [
    "# For Loop\n",
    "\n",
    "for i in ageValues:\n",
    "    print(i)"
   ]
  },
  {
   "cell_type": "code",
   "execution_count": 8,
   "id": "41e4652d-b9a8-4223-b871-c8686c138ba0",
   "metadata": {},
   "outputs": [
    {
     "name": "stdout",
     "output_type": "stream",
     "text": [
      "[30, 18]\n"
     ]
    }
   ],
   "source": [
    "# List Manipulation\n",
    "\n",
    "print(ageValues[2:4])"
   ]
  },
  {
   "cell_type": "code",
   "execution_count": 10,
   "id": "77fc17eb-db08-4494-8c5a-2cb4148a8f82",
   "metadata": {},
   "outputs": [
    {
     "name": "stdout",
     "output_type": "stream",
     "text": [
      "70 is not There\n"
     ]
    }
   ],
   "source": [
    "# If \n",
    "\n",
    "age = 70\n",
    "\n",
    "if age in ageValues:\n",
    "    print(age, 'is There')\n",
    "else:\n",
    "    print(age, 'is not There')"
   ]
  },
  {
   "cell_type": "markdown",
   "id": "d2fc8a94-da08-41ac-a583-55cd55a12b57",
   "metadata": {},
   "source": [
    "Sort\n",
    "----\n",
    "\n",
    "1. smallest values to largest values\n",
    "2. largest values to smallest values"
   ]
  },
  {
   "cell_type": "code",
   "execution_count": 11,
   "id": "fbe3d6a6-012c-4604-aef4-380e8225e089",
   "metadata": {},
   "outputs": [
    {
     "name": "stdout",
     "output_type": "stream",
     "text": [
      "[10, 20, 30, 18, 25, 28]\n"
     ]
    }
   ],
   "source": [
    "print(ageValues)"
   ]
  },
  {
   "cell_type": "code",
   "execution_count": 12,
   "id": "35458802-8dbf-44de-8222-1fe914040939",
   "metadata": {},
   "outputs": [
    {
     "name": "stdout",
     "output_type": "stream",
     "text": [
      "[10, 18, 20, 25, 28, 30]\n"
     ]
    }
   ],
   "source": [
    "# smallest values to largest values\n",
    "\n",
    "ageValues.sort()\n",
    "\n",
    "print(ageValues)"
   ]
  },
  {
   "cell_type": "code",
   "execution_count": 13,
   "id": "c865ba8c-1b99-4026-a46a-e40256920471",
   "metadata": {},
   "outputs": [
    {
     "name": "stdout",
     "output_type": "stream",
     "text": [
      "[30, 28, 25, 20, 18, 10]\n"
     ]
    }
   ],
   "source": [
    "# largest values to smallest values\n",
    "\n",
    "ageValues.sort(reverse=True)\n",
    "\n",
    "print(ageValues)"
   ]
  },
  {
   "cell_type": "code",
   "execution_count": 19,
   "id": "768636e1-091a-4e08-828e-e2592c0eed07",
   "metadata": {},
   "outputs": [
    {
     "name": "stdout",
     "output_type": "stream",
     "text": [
      "['sa', 'tara', 'sara dev', 'sri', 'kowsalya', 'deepa'] <class 'list'>\n",
      "['deepa', 'kowsalya', 'sa', 'sara dev', 'sri', 'tara']\n",
      "['sa', 'sri', 'tara', 'deepa', 'kowsalya', 'sara dev']\n"
     ]
    }
   ],
   "source": [
    "# Sorting String Values\n",
    "\n",
    "names = ['sa', 'tara', 'sara dev', 'sri', 'kowsalya', 'deepa']\n",
    "\n",
    "print(names, type(names))\n",
    "\n",
    "# a -> z sorting \n",
    "names.sort()\n",
    "\n",
    "print(names)\n",
    "\n",
    "# sorting Key length values\n",
    "\n",
    "names.sort(key = len)\n",
    "\n",
    "print(names)"
   ]
  },
  {
   "cell_type": "code",
   "execution_count": 14,
   "id": "cbba6d86-ec49-41e3-ab1f-b27d7695650e",
   "metadata": {},
   "outputs": [
    {
     "name": "stdout",
     "output_type": "stream",
     "text": [
      "[101, 'Sara', 25, 9500912258, 'TN'] <class 'list'>\n"
     ]
    }
   ],
   "source": [
    "studentDetails = [101, 'Sara', 25, 9500912258, 'TN']\n",
    "\n",
    "print(studentDetails, type(studentDetails))"
   ]
  },
  {
   "cell_type": "code",
   "execution_count": 15,
   "id": "18faeba5-ee21-4586-9771-3cc9704e8eec",
   "metadata": {},
   "outputs": [
    {
     "name": "stdout",
     "output_type": "stream",
     "text": [
      "Sara\n"
     ]
    }
   ],
   "source": [
    "print(studentDetails[1])"
   ]
  },
  {
   "cell_type": "code",
   "execution_count": null,
   "id": "8606f6eb-cff8-460d-96f0-2d3f3344cef1",
   "metadata": {},
   "outputs": [],
   "source": [
    "'''\n",
    "ToDay Task:\n",
    "-----------\n",
    "\n",
    "Q1. \n",
    "To write the python code for below output using Python List\n",
    "\n",
    "Id : 101\n",
    "Name : Sara\n",
    "Age : 25\n",
    "Mobile : 9500912258\n",
    "State : TN\n",
    "\n",
    "Q2.\n",
    "To write the python code for below output using Python List\n",
    "\n",
    "[30, 28, 25, 20, 18, 10]\n",
    "\n",
    "Odd age values:\n",
    "25\n",
    "\n",
    "Even age values:\n",
    "10, 18, 20, 28, 30\n",
    "\n",
    "'''"
   ]
  },
  {
   "cell_type": "markdown",
   "id": "127e505d-4e89-4419-9628-08289d1714cb",
   "metadata": {},
   "source": [
    "List Function:\n",
    "--------------"
   ]
  },
  {
   "cell_type": "code",
   "execution_count": 9,
   "id": "52e36f49-4a1a-47fe-b87c-e5f444cba9a1",
   "metadata": {},
   "outputs": [
    {
     "name": "stdout",
     "output_type": "stream",
     "text": [
      "[12, 20, 30, 18, 25, 28, 25, 18, 35, 25]\n"
     ]
    }
   ],
   "source": [
    "ageValues = [12, 20, 30, 18, 25, 28, 25, 18, 35, 25]\n",
    "\n",
    "print(ageValues)"
   ]
  },
  {
   "cell_type": "code",
   "execution_count": 10,
   "id": "dfa0834f-bff1-4aa8-8053-4cc3c70c6699",
   "metadata": {},
   "outputs": [
    {
     "name": "stdout",
     "output_type": "stream",
     "text": [
      "10\n"
     ]
    }
   ],
   "source": [
    "print(len(ageValues))"
   ]
  },
  {
   "cell_type": "code",
   "execution_count": 11,
   "id": "1d10d011-1020-43b4-8cb8-c6427721b79b",
   "metadata": {},
   "outputs": [
    {
     "name": "stdout",
     "output_type": "stream",
     "text": [
      "3\n"
     ]
    }
   ],
   "source": [
    "# To Find the count 25 in given variable\n",
    "\n",
    "print(ageValues.count(25))"
   ]
  },
  {
   "cell_type": "code",
   "execution_count": 12,
   "id": "9f97f501-410d-4a7a-bfbb-3aa294f2fe67",
   "metadata": {},
   "outputs": [
    {
     "name": "stdout",
     "output_type": "stream",
     "text": [
      "4\n"
     ]
    }
   ],
   "source": [
    "# To find the indexvalue 25 in given variable\n",
    "\n",
    "print(ageValues.index(25))"
   ]
  },
  {
   "cell_type": "code",
   "execution_count": 13,
   "id": "85035d70-6621-4a58-9eb7-bf8833b9b1df",
   "metadata": {},
   "outputs": [
    {
     "name": "stdout",
     "output_type": "stream",
     "text": [
      "12\n"
     ]
    }
   ],
   "source": [
    "# To find the minimum value of given variable\n",
    "\n",
    "print(min(ageValues))"
   ]
  },
  {
   "cell_type": "code",
   "execution_count": 14,
   "id": "e565f4da-09df-4840-975a-b317ba5537d2",
   "metadata": {},
   "outputs": [
    {
     "name": "stdout",
     "output_type": "stream",
     "text": [
      "35\n"
     ]
    }
   ],
   "source": [
    "# To find the maximum value of given variable\n",
    "\n",
    "print(max(ageValues))"
   ]
  },
  {
   "cell_type": "code",
   "execution_count": 15,
   "id": "a9cafb43-ac65-40ea-9ab3-f0c8edcc5566",
   "metadata": {},
   "outputs": [
    {
     "name": "stdout",
     "output_type": "stream",
     "text": [
      "236\n"
     ]
    }
   ],
   "source": [
    "print(sum(ageValues))"
   ]
  },
  {
   "cell_type": "markdown",
   "id": "eca7e122-11e6-4c5c-a09f-ad73777f8266",
   "metadata": {},
   "source": [
    "Change the Values:\n",
    "------------------"
   ]
  },
  {
   "cell_type": "code",
   "execution_count": 19,
   "id": "cdbe07f2-59bb-4c99-8f4c-15ac5f33f817",
   "metadata": {},
   "outputs": [
    {
     "name": "stdout",
     "output_type": "stream",
     "text": [
      "[101, 'Sara', 25, 9500912258, 'TN'] <class 'list'>\n"
     ]
    }
   ],
   "source": [
    "studentDetails = [101, 'Sara', 25, 9500912258, 'TN']\n",
    "\n",
    "print(studentDetails, type(studentDetails))"
   ]
  },
  {
   "cell_type": "code",
   "execution_count": 20,
   "id": "7898995c-08bf-43f7-a586-7a8bd9934460",
   "metadata": {},
   "outputs": [
    {
     "name": "stdout",
     "output_type": "stream",
     "text": [
      "[101, 'Sara Dev', 25, 9500912258, 'TN']\n"
     ]
    }
   ],
   "source": [
    "# To change the values Sara to Sara Dev\n",
    "\n",
    "studentDetails[1] = 'Sara Dev'\n",
    "\n",
    "print(studentDetails)"
   ]
  },
  {
   "cell_type": "code",
   "execution_count": 21,
   "id": "84debc41-cb46-4735-80b5-ad7598bd398d",
   "metadata": {},
   "outputs": [
    {
     "name": "stdout",
     "output_type": "stream",
     "text": [
      "[101, 'Sara Dev', 25, 9500912258, 'TN', 'Female', 10]\n"
     ]
    }
   ],
   "source": [
    "# To add the a single value in studentDetails variable\n",
    "\n",
    "studentDetails.append('Female')\n",
    "studentDetails.append(10)\n",
    "\n",
    "print(studentDetails)"
   ]
  },
  {
   "cell_type": "code",
   "execution_count": 22,
   "id": "e4a81471-d135-42eb-8d67-8c6339b653ee",
   "metadata": {},
   "outputs": [
    {
     "name": "stdout",
     "output_type": "stream",
     "text": [
      "[101, 'Sara Dev', 25, 9500912258, 'TN', 'Female', 10, 'Mathematics', 10001, 'India']\n"
     ]
    }
   ],
   "source": [
    "# To add the Another variable values in studentDetails variable\n",
    "\n",
    "values = ['Mathematics', 10001, 'India']\n",
    "\n",
    "studentDetails.extend(values)\n",
    "\n",
    "print(studentDetails)"
   ]
  },
  {
   "cell_type": "code",
   "execution_count": 23,
   "id": "54a96eea-6e60-4480-88e9-efcb0f978dc7",
   "metadata": {},
   "outputs": [
    {
     "name": "stdout",
     "output_type": "stream",
     "text": [
      "[101, 'Sara Dev', 25, 9500912258, 'Dindigul', 'TN', 'Female', 10, 'Mathematics', 10001, 'India']\n"
     ]
    }
   ],
   "source": [
    "# To Insert the Dindigul values in before TN values\n",
    "\n",
    "studentDetails.insert(4, 'Dindigul')\n",
    "\n",
    "print(studentDetails)"
   ]
  },
  {
   "cell_type": "markdown",
   "id": "906dfee4-0bf2-40b4-904c-a95b1f0dbe79",
   "metadata": {},
   "source": [
    "Delete the particular Values\n",
    "----------------------------"
   ]
  },
  {
   "cell_type": "code",
   "execution_count": 24,
   "id": "a8237630-2c0c-4095-99cb-72d4e4ff0369",
   "metadata": {},
   "outputs": [
    {
     "name": "stdout",
     "output_type": "stream",
     "text": [
      "[101, 'Sara Dev', 25, 9500912258, 'Dindigul', 'TN', 'Female', 10, 'Mathematics', 10001, 'India']\n"
     ]
    }
   ],
   "source": [
    "print(studentDetails)"
   ]
  },
  {
   "cell_type": "code",
   "execution_count": 25,
   "id": "783ef57f-3c4d-42ad-b4b2-b1ede33ed48a",
   "metadata": {},
   "outputs": [
    {
     "name": "stdout",
     "output_type": "stream",
     "text": [
      "[101, 'Sara Dev', 25, 9500912258, 'Dindigul', 'TN', 'Female', 10, 'Mathematics', 10001]\n"
     ]
    }
   ],
   "source": [
    "# To delete the last index value\n",
    "\n",
    "studentDetails.pop()\n",
    "\n",
    "print(studentDetails)"
   ]
  },
  {
   "cell_type": "code",
   "execution_count": 26,
   "id": "1ce1153b-5dac-4feb-aefe-265f63010f44",
   "metadata": {},
   "outputs": [
    {
     "name": "stdout",
     "output_type": "stream",
     "text": [
      "[101, 'Sara Dev', 9500912258, 'Dindigul', 'TN', 'Female', 10, 'Mathematics', 10001]\n"
     ]
    }
   ],
   "source": [
    "# To delete the Separate index value\n",
    "\n",
    "studentDetails.pop(2)\n",
    "\n",
    "print(studentDetails)"
   ]
  },
  {
   "cell_type": "code",
   "execution_count": 27,
   "id": "34990c88-16c7-415c-84f4-e840b417d5fe",
   "metadata": {},
   "outputs": [
    {
     "name": "stdout",
     "output_type": "stream",
     "text": [
      "[101, 'Sara Dev', 9500912258, 'Dindigul', 'Female', 10, 'Mathematics', 10001]\n"
     ]
    }
   ],
   "source": [
    "# To delete the Separate value\n",
    "\n",
    "studentDetails.remove('TN')\n",
    "\n",
    "print(studentDetails)"
   ]
  },
  {
   "cell_type": "code",
   "execution_count": null,
   "id": "65d2aaf7-730a-458f-a6fc-48f0a0dfb208",
   "metadata": {},
   "outputs": [],
   "source": [
    "'''\n",
    "ToDay Task:\n",
    "-----------\n",
    "\n",
    "Q1.\n",
    "To write the python code for beolow output. Using List Functions\n",
    "\n",
    "[12, 20, 30, 18, 25, 28, 25, 18, 35, 25]\n",
    "\n",
    "Unique Values are:\n",
    "[12, 30, 28, 35, 20]\n",
    "\n",
    "Douplicate values are:\n",
    "[18, 25]\n",
    "\n",
    "Values Count for number of times:\n",
    "\n",
    "12 - 1\n",
    "20 - 1\n",
    "30 - 1\n",
    "18 - 2\n",
    "25 - 3\n",
    "28 - 1\n",
    "35 - 1\n",
    "\n",
    "25's values Index Positions - [4, 6, 9]\n",
    "\n",
    "'''"
   ]
  }
 ],
 "metadata": {
  "kernelspec": {
   "display_name": "Python 3 (ipykernel)",
   "language": "python",
   "name": "python3"
  },
  "language_info": {
   "codemirror_mode": {
    "name": "ipython",
    "version": 3
   },
   "file_extension": ".py",
   "mimetype": "text/x-python",
   "name": "python",
   "nbconvert_exporter": "python",
   "pygments_lexer": "ipython3",
   "version": "3.11.9"
  }
 },
 "nbformat": 4,
 "nbformat_minor": 5
}
