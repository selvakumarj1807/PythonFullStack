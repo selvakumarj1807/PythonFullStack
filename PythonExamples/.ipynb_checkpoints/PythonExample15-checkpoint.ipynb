{
 "cells": [
  {
   "cell_type": "markdown",
   "id": "79e1134f-ed29-47c2-918d-f9e799e88498",
   "metadata": {},
   "source": [
    "Python DateTime Modules\n",
    "-----------------------"
   ]
  },
  {
   "cell_type": "code",
   "execution_count": 1,
   "id": "eb8d5ce8-56d9-4b2b-a459-eca0bd39570d",
   "metadata": {},
   "outputs": [],
   "source": [
    "import datetime"
   ]
  },
  {
   "cell_type": "markdown",
   "id": "5d9737e8-8bc1-4b64-a6c0-e2815cb04204",
   "metadata": {},
   "source": [
    "Fetch System Current Date & Time\n",
    "--------------------------------"
   ]
  },
  {
   "cell_type": "code",
   "execution_count": 5,
   "id": "fec1f340-752f-41ff-b436-436020dd4875",
   "metadata": {},
   "outputs": [
    {
     "name": "stdout",
     "output_type": "stream",
     "text": [
      "currentDate :  2025-05-26\n"
     ]
    }
   ],
   "source": [
    "currentDate = datetime.date.today()\n",
    "\n",
    "print('currentDate : ', currentDate)"
   ]
  },
  {
   "cell_type": "code",
   "execution_count": 26,
   "id": "74b5a2f3-5cd7-4e33-923e-29d31e990dbe",
   "metadata": {},
   "outputs": [
    {
     "name": "stdout",
     "output_type": "stream",
     "text": [
      "currentDateTime :  2025-05-26 20:21:58.444848\n",
      "--------------------------------------------------\n",
      "Current Date :  2025-05-26\n",
      "Current Time :  20:21:58.444848\n"
     ]
    }
   ],
   "source": [
    "currentDateTime = datetime.datetime.now()\n",
    "\n",
    "print('currentDateTime : ', currentDateTime)\n",
    "\n",
    "print('--------------------------------------------------')\n",
    "\n",
    "currentDate = currentDateTime.date()\n",
    "\n",
    "currentTime = currentDateTime.time()\n",
    "\n",
    "print('Current Date : ', currentDate)\n",
    "\n",
    "print('Current Time : ', currentTime)"
   ]
  },
  {
   "cell_type": "markdown",
   "id": "2883c29f-135f-457b-a4cb-62ac92efefbb",
   "metadata": {},
   "source": [
    "Create Date & Time\n",
    "------------------"
   ]
  },
  {
   "cell_type": "code",
   "execution_count": 16,
   "id": "199ccd2d-d237-47cf-ac6b-0e0c19b77cd8",
   "metadata": {},
   "outputs": [
    {
     "name": "stdout",
     "output_type": "stream",
     "text": [
      "1999-07-18\n",
      "23:45:50.000010\n"
     ]
    }
   ],
   "source": [
    "# Date\n",
    "\n",
    "customDate = datetime.date(1999, 7,18)\n",
    "\n",
    "print(customDate)\n",
    "\n",
    "# Time\n",
    "\n",
    "customTime = datetime.time(23,45,50,10)\n",
    "\n",
    "print(customTime)"
   ]
  },
  {
   "cell_type": "markdown",
   "id": "035ca3d8-859e-4b4e-a26e-8bde863eadca",
   "metadata": {},
   "source": [
    "To Split Day, Month, Year, Hour, Minutes, Seconds, Micro Seconds\n",
    "----------------------------------------------------------------"
   ]
  },
  {
   "cell_type": "code",
   "execution_count": 20,
   "id": "25700c9c-0a3a-46b3-9d5a-a7cf657d3d62",
   "metadata": {},
   "outputs": [
    {
     "name": "stdout",
     "output_type": "stream",
     "text": [
      "1999-07-18\n",
      "--------------------------\n",
      "Day :  18\n",
      "Month :  7\n",
      "Year :  1999\n",
      "-----------------------------------------------------------------------------------\n",
      "23:45:50.000010\n",
      "--------------------------\n",
      "Hour :  23\n",
      "Minutes :  45\n",
      "Seconds :  50\n",
      "Micro Seconds :  10\n"
     ]
    }
   ],
   "source": [
    "# Date\n",
    "\n",
    "customDate = datetime.date(1999, 7,18)\n",
    "\n",
    "print(customDate)\n",
    "\n",
    "print('--------------------------')\n",
    "\n",
    "print('Day : ', customDate.day)\n",
    "\n",
    "print('Month : ', customDate.month)\n",
    "\n",
    "print('Year : ', customDate.year)\n",
    "\n",
    "\n",
    "print('-----------------------------------------------------------------------------------')\n",
    "\n",
    "# Time\n",
    "\n",
    "customTime = datetime.time(23,45,50,10)\n",
    "\n",
    "print(customTime)\n",
    "\n",
    "print('--------------------------')\n",
    "\n",
    "print('Hour : ', customTime.hour)\n",
    "\n",
    "print('Minutes : ', customTime.minute)\n",
    "\n",
    "print('Seconds : ', customTime.second)\n",
    "\n",
    "print('Micro Seconds : ', customTime.microsecond)"
   ]
  },
  {
   "cell_type": "markdown",
   "id": "ee87fd6e-336a-4fcf-a48b-432a8b244281",
   "metadata": {},
   "source": [
    "Date Time Example 01\n",
    "--------------------"
   ]
  },
  {
   "cell_type": "code",
   "execution_count": 25,
   "id": "ea014bf8-76df-4059-ab02-9fde2140abdd",
   "metadata": {},
   "outputs": [
    {
     "name": "stdout",
     "output_type": "stream",
     "text": [
      "1999-07-18\n",
      "--------------------------\n",
      "currentDate :  2025-05-26\n",
      "-----------------------------------------------------------------------------------\n",
      "9444 days, 0:00:00\n"
     ]
    }
   ],
   "source": [
    "# To find the number of days between Two Dates\n",
    "\n",
    "customDate = datetime.date(1999, 7,18)\n",
    "\n",
    "print(customDate)\n",
    "\n",
    "print('--------------------------')\n",
    "\n",
    "currentDate = datetime.date.today()\n",
    "\n",
    "print('currentDate : ', currentDate)\n",
    "\n",
    "print('-----------------------------------------------------------------------------------')\n",
    "\n",
    "numberOfDays = currentDate - customDate\n",
    "\n",
    "print(numberOfDays)\n"
   ]
  },
  {
   "cell_type": "markdown",
   "id": "b5745c70-9da9-440b-8db9-93623309287a",
   "metadata": {},
   "source": [
    "Change Date Time Format\n",
    "-----------------------"
   ]
  },
  {
   "cell_type": "code",
   "execution_count": 31,
   "id": "559be18b-a5de-4ce2-bf60-695874c03ab8",
   "metadata": {},
   "outputs": [
    {
     "name": "stdout",
     "output_type": "stream",
     "text": [
      "currentDateTime :  2025-05-26 20:27:12.468776\n",
      "-----------------------------------------------------------------------------\n",
      "Date Format 01 :  May / 26 / 2025 - Monday\n",
      "--------------------------\n",
      "Time Format 12 Hour : 08:27:12 PM\n"
     ]
    }
   ],
   "source": [
    "currentDateTime = datetime.datetime.now()\n",
    "\n",
    "print('currentDateTime : ', currentDateTime)\n",
    "\n",
    "print('-----------------------------------------------------------------------------')\n",
    "\n",
    "dateFormat01 = currentDateTime.strftime(\"%B / %d / %Y - %A\")\n",
    "\n",
    "print('Date Format 01 : ', dateFormat01)\n",
    "\n",
    "\n",
    "print('--------------------------')\n",
    "\n",
    "# Time format - 12 Hour with minutes and seconds\n",
    "\n",
    "timeFormat12hr = currentDateTime.strftime(\"%I:%M:%S %p\")\n",
    "\n",
    "print('Time Format 12 Hour :', timeFormat12hr)"
   ]
  },
  {
   "cell_type": "code",
   "execution_count": null,
   "id": "9ed6d3ae-5c1e-453f-9fd8-03eb2833b90d",
   "metadata": {},
   "outputs": [],
   "source": []
  }
 ],
 "metadata": {
  "kernelspec": {
   "display_name": "Python 3 (ipykernel)",
   "language": "python",
   "name": "python3"
  },
  "language_info": {
   "codemirror_mode": {
    "name": "ipython",
    "version": 3
   },
   "file_extension": ".py",
   "mimetype": "text/x-python",
   "name": "python",
   "nbconvert_exporter": "python",
   "pygments_lexer": "ipython3",
   "version": "3.13.2"
  }
 },
 "nbformat": 4,
 "nbformat_minor": 5
}
