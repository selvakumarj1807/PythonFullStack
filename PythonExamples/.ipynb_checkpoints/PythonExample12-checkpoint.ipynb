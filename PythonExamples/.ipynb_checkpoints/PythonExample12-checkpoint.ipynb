{
 "cells": [
  {
   "cell_type": "markdown",
   "id": "efccaded-7208-4d34-94ab-114002084ef7",
   "metadata": {},
   "source": [
    "Python Functions:\n",
    "-----------------\n",
    "\n",
    "    A Function is a Block of code which only runs when it is called.\n",
    "\n",
    "1. No Return Type Without Argument\n",
    "2. No Return Type With Argument\n",
    "3. Return Type Without Argument\n",
    "4. Return Type With Argument"
   ]
  },
  {
   "cell_type": "markdown",
   "id": "8b38ec14-b4a1-4a8a-8fcd-18a8a4a731ea",
   "metadata": {},
   "source": [
    "# 1. No Return Type Without Argument:\n",
    "-------------------------------------"
   ]
  },
  {
   "cell_type": "code",
   "execution_count": 1,
   "id": "9459aa18-0bd3-4cfe-ac75-d93a99cae44d",
   "metadata": {},
   "outputs": [],
   "source": [
    "# Example 01\n",
    "\n",
    "def welcome():\n",
    "    print('Welcome Python Functions')"
   ]
  },
  {
   "cell_type": "code",
   "execution_count": 2,
   "id": "8bb8027e-ce0e-4506-9af7-aa4157269bab",
   "metadata": {},
   "outputs": [
    {
     "name": "stdout",
     "output_type": "stream",
     "text": [
      "Welcome Python Functions\n",
      "----------------------------------------------------------------------------\n",
      "Welcome Python Functions\n"
     ]
    }
   ],
   "source": [
    "welcome()\n",
    "\n",
    "print('----------------------------------------------------------------------------')\n",
    "\n",
    "welcome()"
   ]
  },
  {
   "cell_type": "code",
   "execution_count": 10,
   "id": "dbd5a5d8-d3e2-4def-9ef3-a32d6f43f695",
   "metadata": {},
   "outputs": [],
   "source": [
    "# Example 02\n",
    "\n",
    "def add():\n",
    "    a = int(input('Enter a Value 01 : '))\n",
    "\n",
    "    b = int(input('Enter a Value 02 : '))\n",
    "\n",
    "    print(a, ' + ', b, ' = ', a + b)\n",
    "\n",
    "    print(a, ' - ', b, ' = ', a - b)"
   ]
  },
  {
   "cell_type": "code",
   "execution_count": 11,
   "id": "09a70bb6-b872-4427-a3c5-a714ecf1b917",
   "metadata": {},
   "outputs": [
    {
     "name": "stdin",
     "output_type": "stream",
     "text": [
      "Enter a Value 01 :  20\n",
      "Enter a Value 02 :  10\n"
     ]
    },
    {
     "name": "stdout",
     "output_type": "stream",
     "text": [
      "20  +  10  =  30\n",
      "20  -  10  =  10\n",
      "-----------------------------------------------\n"
     ]
    },
    {
     "name": "stdin",
     "output_type": "stream",
     "text": [
      "Enter a Value 01 :  20\n",
      "Enter a Value 02 :  15\n"
     ]
    },
    {
     "name": "stdout",
     "output_type": "stream",
     "text": [
      "20  +  15  =  35\n",
      "20  -  15  =  5\n"
     ]
    }
   ],
   "source": [
    "add()\n",
    "\n",
    "print('-----------------------------------------------')\n",
    "\n",
    "add()"
   ]
  },
  {
   "cell_type": "markdown",
   "id": "b36465a0-973e-40bd-bd67-c7ebccc9867a",
   "metadata": {},
   "source": [
    "# 2. No Return Type With Argument\n",
    "---------------------------------"
   ]
  },
  {
   "cell_type": "code",
   "execution_count": 7,
   "id": "707ee1ef-020c-47c2-9f4f-0b9bb45b0a3b",
   "metadata": {},
   "outputs": [],
   "source": [
    "def add(a, b):\n",
    "    print(a, ' + ', b, ' = ', a + b)"
   ]
  },
  {
   "cell_type": "code",
   "execution_count": 8,
   "id": "e02ef6b2-9a0b-48fb-abd2-e4a3a2fc1e95",
   "metadata": {},
   "outputs": [
    {
     "name": "stdout",
     "output_type": "stream",
     "text": [
      "10  +  20  =  30\n",
      "-----------------------------------------------\n",
      "25  +  25  =  50\n"
     ]
    }
   ],
   "source": [
    "add(10, 20)\n",
    "\n",
    "print('-----------------------------------------------')\n",
    "\n",
    "add(25, 25)"
   ]
  },
  {
   "cell_type": "code",
   "execution_count": null,
   "id": "837c055b-dda0-4741-8b08-72aca8c36fbd",
   "metadata": {},
   "outputs": [],
   "source": []
  }
 ],
 "metadata": {
  "kernelspec": {
   "display_name": "Python 3 (ipykernel)",
   "language": "python",
   "name": "python3"
  },
  "language_info": {
   "codemirror_mode": {
    "name": "ipython",
    "version": 3
   },
   "file_extension": ".py",
   "mimetype": "text/x-python",
   "name": "python",
   "nbconvert_exporter": "python",
   "pygments_lexer": "ipython3",
   "version": "3.11.9"
  }
 },
 "nbformat": 4,
 "nbformat_minor": 5
}
