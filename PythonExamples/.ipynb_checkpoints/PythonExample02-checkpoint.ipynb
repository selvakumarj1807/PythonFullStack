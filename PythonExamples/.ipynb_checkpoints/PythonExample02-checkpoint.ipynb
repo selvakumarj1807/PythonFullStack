{
 "cells": [
  {
   "cell_type": "markdown",
   "id": "2fd7680e-6705-4919-ac13-d6f512f469bd",
   "metadata": {},
   "source": [
    "Operators :\n",
    "-----------\n",
    "\n",
    "    1. Arithmatic Operators\n",
    "    2. Assignment Operators\n",
    "    3. Relational or comparision Operators\n",
    "    4. Logical Operators\n",
    "    5. In, Not In\n",
    "    6. Is, IS Not\n",
    "    7. Bitwise Operators"
   ]
  },
  {
   "cell_type": "markdown",
   "id": "7efda853-0922-4096-a01f-ff454f1f15fe",
   "metadata": {},
   "source": [
    "# 1. Arithmatic Operators :\n",
    "---------------------------"
   ]
  },
  {
   "cell_type": "code",
   "execution_count": 11,
   "id": "4fb5f984-6602-4a29-86eb-b4fc9db86ac5",
   "metadata": {},
   "outputs": [
    {
     "name": "stdout",
     "output_type": "stream",
     "text": [
      "Addition ( + ): 12\n",
      "Subtraction ( - ): 8\n",
      "Multiplication ( * ) : 20\n",
      "Division ( / ) : 5.0\n",
      "Modulas ( % ) : 0\n",
      "--------------------------------------------------------------\n",
      "Division ( / ) : 3.5\n",
      "Modulas ( % ) : 1\n",
      "--------------------------------------------------------------\n",
      "Floor Division ( // ) : 3\n",
      "Exponentiation ( ** ) : 49\n"
     ]
    }
   ],
   "source": [
    "a = 10\n",
    "\n",
    "b = 2\n",
    "\n",
    "print('Addition ( + ):', a + b)\n",
    "\n",
    "print('Subtraction ( - ):', a - b)\n",
    "\n",
    "print('Multiplication ( * ) :', a * b)\n",
    "\n",
    "print('Division ( / ) :', a / b) # Return Quotient Value\n",
    "\n",
    "print('Modulas ( % ) :', a % b) # Return Remainder Value\n",
    "\n",
    "print('--------------------------------------------------------------')\n",
    "\n",
    "a = 7\n",
    "\n",
    "b = 2\n",
    "\n",
    "print('Division ( / ) :', a / b)\n",
    "\n",
    "print('Modulas ( % ) :', a % b)\n",
    "\n",
    "print('--------------------------------------------------------------')\n",
    "\n",
    "a = 7\n",
    "\n",
    "b = 2\n",
    "\n",
    "print('Floor Division ( // ) :', a // b)\n",
    "\n",
    "print('Exponentiation ( ** ) :', a ** b) # a ** b --> 7 ** 2 --> 7 * 7 --> 49\n"
   ]
  },
  {
   "cell_type": "markdown",
   "id": "1fbab1d4-84e3-4648-8830-e79ffe2ecd12",
   "metadata": {},
   "source": [
    "# 2. Arithmatic Assignment Operators :\n",
    "--------------------------------------"
   ]
  },
  {
   "cell_type": "code",
   "execution_count": 8,
   "id": "5e83b05e-4db7-4704-b27e-31ed1953c9a9",
   "metadata": {},
   "outputs": [
    {
     "name": "stdout",
     "output_type": "stream",
     "text": [
      "10\n",
      "20\n",
      "a += 1 :  21\n",
      "--------------------------------\n",
      "20\n",
      "a -= 1 :  19\n"
     ]
    }
   ],
   "source": [
    "# Assignment Operators\n",
    "\n",
    "a = 10\n",
    "\n",
    "print(a)\n",
    "\n",
    "# Arithmatic Assignment Operators : (+=, -=, *=, /=, //=, **=, %=)\n",
    "\n",
    "a = 20\n",
    "print(a)\n",
    "\n",
    "a += 1 # a = a + 1\n",
    "\n",
    "print('a += 1 : ', a)\n",
    "\n",
    "print('--------------------------------')\n",
    "\n",
    "a = 20\n",
    "print(a)\n",
    "\n",
    "a -= 1 # a = a - 1\n",
    "\n",
    "print('a -= 1 : ', a)"
   ]
  },
  {
   "cell_type": "markdown",
   "id": "c4157a6e-1a85-437a-b0d3-897d806e0bb2",
   "metadata": {},
   "source": [
    "# 3. Relational or comparision Operators :\n",
    "------------------------------------------\n",
    "    ( ==, !=, <, >, <=, >=)"
   ]
  },
  {
   "cell_type": "code",
   "execution_count": 12,
   "id": "71ac1ac1-068a-446a-a484-5eb29099b292",
   "metadata": {},
   "outputs": [
    {
     "name": "stdout",
     "output_type": "stream",
     "text": [
      "a == b :  False\n",
      "a != b :  True\n",
      "True\n",
      "False\n",
      "True\n",
      "False\n"
     ]
    }
   ],
   "source": [
    "a = 10\n",
    "\n",
    "b = 15\n",
    "\n",
    "print('a == b : ', a == b) # 10 == 15 -to Check two given nuber is equal\n",
    "\n",
    "print('a != b : ', a != b) # 10 != 15 -to Check two given nuber is not equal\n",
    "\n",
    "print(a < b) # 10 < 15\n",
    "\n",
    "print(a > b) # 10 > 15\n",
    "\n",
    "print(a <= b) # 10 <= 15\n",
    "\n",
    "print(a >= b) # 10 >= 15"
   ]
  },
  {
   "cell_type": "markdown",
   "id": "2be09def-de6d-49c8-b9ca-f1befc0607a0",
   "metadata": {},
   "source": [
    "If \n",
    "--"
   ]
  },
  {
   "cell_type": "code",
   "execution_count": 15,
   "id": "59e4d7e1-9066-4285-a2a4-065c0b30b46d",
   "metadata": {},
   "outputs": [
    {
     "name": "stdout",
     "output_type": "stream",
     "text": [
      "True\n",
      "18 you are eligible for vote\n"
     ]
    }
   ],
   "source": [
    "age = 18\n",
    "\n",
    "print(age >= 18)\n",
    "\n",
    "if (age >= 18):\n",
    "    print(age, 'you are eligible for vote')"
   ]
  },
  {
   "cell_type": "markdown",
   "id": "ee92e395-e9da-4663-887b-b01eb095e910",
   "metadata": {},
   "source": [
    "If & Else\n",
    "---------"
   ]
  },
  {
   "cell_type": "code",
   "execution_count": 17,
   "id": "3325dd55-0b0a-47eb-a02a-7c7ff964ddc6",
   "metadata": {},
   "outputs": [
    {
     "name": "stdout",
     "output_type": "stream",
     "text": [
      "False\n",
      "10 you are not eligible for vote\n"
     ]
    }
   ],
   "source": [
    "age = 10\n",
    "\n",
    "print(age >= 18)\n",
    "\n",
    "if (age >= 18):\n",
    "    print(age, 'you are eligible for vote')\n",
    "\n",
    "else:\n",
    "    print(age, 'you are not eligible for vote')"
   ]
  },
  {
   "cell_type": "markdown",
   "id": "25f2a9a2-a3f1-4dc2-b428-eabb43fb7748",
   "metadata": {},
   "source": [
    "Elif\n",
    "----"
   ]
  },
  {
   "cell_type": "code",
   "execution_count": 20,
   "id": "99bae18d-8a2b-45e5-a876-09195c450819",
   "metadata": {},
   "outputs": [
    {
     "name": "stdout",
     "output_type": "stream",
     "text": [
      "age > 18 :  False\n",
      "age >= 18 :  True\n",
      "18  is Partially Vote Elgible\n"
     ]
    }
   ],
   "source": [
    "age = 18\n",
    "\n",
    "print('age > 18 : ', age > 18)\n",
    "\n",
    "print('age >= 18 : ', age == 18)\n",
    "\n",
    "if (age > 18):\n",
    "    print(age, 'you are eligible for vote')\n",
    "elif (age >= 18):\n",
    "    print(age, ' is Partially Vote Elgible')\n",
    "else:\n",
    "    print(age, 'you are not eligible for vote')"
   ]
  },
  {
   "cell_type": "markdown",
   "id": "a586370d-7b27-4a58-a407-0f42033ea304",
   "metadata": {},
   "source": [
    "# 4. Logical Operators\n",
    "----------------------\n",
    "    (and, or, not)"
   ]
  },
  {
   "cell_type": "code",
   "execution_count": 27,
   "id": "6a9d561d-e693-4219-94eb-a24cb967defe",
   "metadata": {},
   "outputs": [
    {
     "name": "stdout",
     "output_type": "stream",
     "text": [
      "a == b :  False\n",
      "a != b :  True\n",
      "Logical and Operators :  False\n",
      "Logical or Operators :  True\n",
      "Logical not Operators :  True\n",
      "Logical not Operators :  True\n"
     ]
    }
   ],
   "source": [
    "a = 10\n",
    "\n",
    "b = 15\n",
    "\n",
    "print('a == b : ', a == b)\n",
    "\n",
    "print('a != b : ', a != b)\n",
    "\n",
    "# Logical and Operators\n",
    "\n",
    "print('Logical and Operators : ', (a == b) and (a != b)) # Any one condition have a false then everything is false\n",
    "\n",
    "# Logical or Operators\n",
    "\n",
    "print('Logical or Operators : ', (a == b) or (a != b)) # Any one condition have a true then everything is true\n",
    "\n",
    "# Logical not Operators\n",
    "\n",
    "print('Logical not Operators : ', not(a == b))\n",
    "\n",
    "print('Logical not Operators : ', not((a == b) and (a != b)))\n",
    "\n"
   ]
  },
  {
   "cell_type": "code",
   "execution_count": null,
   "id": "ae0a5dfa-750a-47e2-8bdb-012538881176",
   "metadata": {},
   "outputs": [],
   "source": [
    "'''\n",
    "ToDay Task :\n",
    "\n",
    "How to Write the python code for below Output\n",
    "\n",
    "Logical and Operators\n",
    "\n",
    "True + False = False\n",
    "False + True = False\n",
    "False + False = False\n",
    "True + True = True\n",
    "\n",
    "Logical or Operators\n",
    "\n",
    "True + False = True\n",
    "False + True = True\n",
    "False + False = False\n",
    "True + True = True\n",
    "\n",
    "Logical not Operators\n",
    "\n",
    "not(False) = True\n",
    "\n",
    "not(True) = False\n",
    "\n",
    "not((False) and (True)) = True\n",
    "\n",
    "not((False) or (True)) = False\n",
    "\n",
    "\n",
    "'''"
   ]
  },
  {
   "cell_type": "markdown",
   "id": "43d66c0d-7ed7-42bf-a5af-1794a0ba19fd",
   "metadata": {},
   "source": [
    "# 5. In, Not In Operators\n",
    "-------------------------"
   ]
  },
  {
   "cell_type": "code",
   "execution_count": 4,
   "id": "9818c572-e141-4555-9700-4f513ae89cf4",
   "metadata": {},
   "outputs": [
    {
     "name": "stdout",
     "output_type": "stream",
     "text": [
      "['Sara', 25, 9500912258, 'TN'] <class 'list'>\n",
      "-------------------------------------------------------------------\n",
      "True\n",
      "False\n",
      "-------------------------------------------------------------------\n",
      "False\n",
      "True\n"
     ]
    }
   ],
   "source": [
    "'''\n",
    "List is a collection of Data Type. \n",
    "Used for Store n number of values and diffrent datatype values can be store in a single variable\n",
    "List values are declare ' [ ] '.\n",
    "'''\n",
    "\n",
    "studentDetails = ['Sara', 25, 9500912258, 'TN']\n",
    "\n",
    "print(studentDetails, type(studentDetails))\n",
    "\n",
    "print('-------------------------------------------------------------------')\n",
    "\n",
    "# In Operators\n",
    "\n",
    "print('Sara' in studentDetails)\n",
    "\n",
    "print('Ram' in studentDetails)\n",
    "\n",
    "print('-------------------------------------------------------------------')\n",
    "\n",
    "# Not in OPerators\n",
    "\n",
    "print('Sara' not in studentDetails)\n",
    "\n",
    "print('Ram' not in studentDetails)\n",
    "\n"
   ]
  },
  {
   "cell_type": "markdown",
   "id": "a14b29fc-e73f-4365-b8a7-52c2bb4c3e7f",
   "metadata": {},
   "source": [
    "# 6. Is, IS Not Operators\n",
    "-------------------------"
   ]
  },
  {
   "cell_type": "code",
   "execution_count": 12,
   "id": "13767aa2-bc4c-4e85-9b82-8e563f7fe06c",
   "metadata": {},
   "outputs": [
    {
     "name": "stdout",
     "output_type": "stream",
     "text": [
      "admin  -  2310986053680\n",
      "admin  -  2310986053680\n",
      "True\n",
      "--------------------------------------------------\n",
      "['Sara', 25, 9500912258, 'TN']  -  2310986090752\n",
      "['Sara', 25, 9500912258, 'TN']  -  2310986090240\n",
      "False\n",
      "--------------------------------------------------\n",
      "True\n"
     ]
    }
   ],
   "source": [
    "a = 'admin'\n",
    "\n",
    "b = 'admin'\n",
    "\n",
    "print(a, ' - ', id(a))\n",
    "\n",
    "print(b, ' - ', id(b))\n",
    "\n",
    "print(a is b)\n",
    "\n",
    "print('--------------------------------------------------')\n",
    "\n",
    "list1 = ['Sara', 25, 9500912258, 'TN']\n",
    "\n",
    "list2 = ['Sara', 25, 9500912258, 'TN']\n",
    "\n",
    "print(list1, ' - ', id(list1))\n",
    "\n",
    "print(list2, ' - ', id(list2))\n",
    "\n",
    "print(list1 is list2)\n",
    "\n",
    "print('--------------------------------------------------')\n",
    "\n",
    "print(list1 is not list2)\n"
   ]
  },
  {
   "cell_type": "markdown",
   "id": "f8357569-f886-4691-a729-17d0fe6f7905",
   "metadata": {},
   "source": [
    "# 7. Bitwise OPerators :\n",
    "------------------------"
   ]
  },
  {
   "cell_type": "code",
   "execution_count": null,
   "id": "e46f1360-da26-4dc3-8201-e86f2290f13d",
   "metadata": {},
   "outputs": [],
   "source": [
    "'''\n",
    "& - Bitwise and Operators\n",
    "| - Bitwise or Operators\n",
    "^ - Bitwise xor Operators\n",
    "~ - Bitwise not OPerators\n",
    "\n",
    "left Shift Operators\n",
    "Right Shift Operators\n",
    "'''\n",
    "\n",
    "'''\n",
    "0 = False\n",
    "1 = True\n",
    "'''"
   ]
  },
  {
   "cell_type": "code",
   "execution_count": 2,
   "id": "6d23528a-2b06-4a3e-9f64-3dbf57dc5b26",
   "metadata": {},
   "outputs": [
    {
     "name": "stdout",
     "output_type": "stream",
     "text": [
      "Bitwise and Operators :  2\n"
     ]
    }
   ],
   "source": [
    "# 1. & - Bitwise and Operators\n",
    "'''\n",
    "a = 10 = 1010\n",
    "\n",
    "b = 2  = 0010 (&) Any one value have False everythig is False\n",
    "-------------\n",
    "         0010\n",
    "'''\n",
    "\n",
    "a = 10\n",
    "\n",
    "b = 2\n",
    "\n",
    "print('Bitwise and Operators : ', a & b)"
   ]
  },
  {
   "cell_type": "code",
   "execution_count": 3,
   "id": "241a17eb-bd74-49c3-9fd7-93010bdc29e0",
   "metadata": {},
   "outputs": [
    {
     "name": "stdout",
     "output_type": "stream",
     "text": [
      "Bitwise or Operators :  10\n"
     ]
    }
   ],
   "source": [
    "# 2. | - Bitwise or Operators\n",
    "'''\n",
    "a = 10 = 1010\n",
    "\n",
    "b = 2  = 0010 (|) Any one value have True everythig is True\n",
    "-------------\n",
    "         1010\n",
    "'''\n",
    "\n",
    "a = 10\n",
    "\n",
    "b = 2\n",
    "\n",
    "print('Bitwise or Operators : ', a | b)"
   ]
  },
  {
   "cell_type": "code",
   "execution_count": 4,
   "id": "d62d8422-ec00-44e8-ad43-64df936ee20f",
   "metadata": {},
   "outputs": [
    {
     "name": "stdout",
     "output_type": "stream",
     "text": [
      "Bitwise xor Operators :  8\n"
     ]
    }
   ],
   "source": [
    "# 3. | - Bitwise xor Operators\n",
    "'''\n",
    "a = 10 = 1010\n",
    "\n",
    "b = 2  = 0010 (^) Both values are have True everythig is False\n",
    "-------------\n",
    "         1000\n",
    "'''\n",
    "\n",
    "a = 10\n",
    "\n",
    "b = 2\n",
    "\n",
    "print('Bitwise xor Operators : ', a ^ b)"
   ]
  },
  {
   "cell_type": "code",
   "execution_count": 8,
   "id": "823c79c7-86e0-47cf-8584-10669471b82a",
   "metadata": {},
   "outputs": [
    {
     "name": "stdout",
     "output_type": "stream",
     "text": [
      "Bitwise not OPerators :  -11\n",
      "Bitwise not OPerators :  8\n"
     ]
    }
   ],
   "source": [
    "# 4. ~ - Bitwise not OPerators\n",
    "\n",
    "'''\n",
    "a = 10\n",
    "~a = ~10 = -(a + 1) = -(10 + 1) = -(11) = -11\n",
    "'''\n",
    "\n",
    "a = 10\n",
    "\n",
    "print('Bitwise not OPerators : ', ~a)\n",
    "\n",
    "'''\n",
    "b = -9\n",
    "~b = ~(-9) = -(b + 1) = -(-9 + 1) = -(-8) = 8\n",
    "'''\n",
    "\n",
    "b = -9\n",
    "\n",
    "print('Bitwise not OPerators : ', ~b)\n"
   ]
  },
  {
   "cell_type": "code",
   "execution_count": 11,
   "id": "46b64140-1a5c-44b5-8a27-9fb5ee765173",
   "metadata": {},
   "outputs": [
    {
     "name": "stdout",
     "output_type": "stream",
     "text": [
      "left Shift Operators :  40\n",
      "left Shift Operators :  80\n"
     ]
    }
   ],
   "source": [
    "# left Shift Operators\n",
    "\n",
    "'''\n",
    "a = 10 << 2 = a * (2 * 2) = 10 * (2 * 2) = 10 * (4) = 40\n",
    "'''\n",
    "\n",
    "a = 10\n",
    "\n",
    "print('left Shift Operators : ', a << 2)\n",
    "\n",
    "'''\n",
    "b = 10 << 3 = b * (2 * 2 * 2) = 10 * (2 * 2 * 2) = 10 * (8) = 80\n",
    "'''\n",
    "b = 10\n",
    "\n",
    "print('left Shift Operators : ', b << 3)\n"
   ]
  },
  {
   "cell_type": "code",
   "execution_count": 13,
   "id": "698d921f-29c0-4706-87be-6c79d4ca0f5e",
   "metadata": {},
   "outputs": [
    {
     "name": "stdout",
     "output_type": "stream",
     "text": [
      "Rigth Shift Operators :  2\n",
      "Rigth Shift Operators :  1\n"
     ]
    }
   ],
   "source": [
    "# Rigth Shift Operators\n",
    "\n",
    "'''\n",
    "a = 10 >> 2 = a / (2 * 2) = 10 / (2 * 2) = 10 / (4) = 2.5\n",
    "'''\n",
    "\n",
    "a = 10\n",
    "\n",
    "print('Rigth Shift Operators : ', a >> 2)\n",
    "\n",
    "'''\n",
    "b = 10 >> 3 = b / (2 * 2 * 2) = 10 / (2 * 2 * 2) = 10 / (8) = 1.25\n",
    "'''\n",
    "b = 10\n",
    "\n",
    "print('Rigth Shift Operators : ', b >> 3)\n"
   ]
  },
  {
   "cell_type": "code",
   "execution_count": null,
   "id": "066f3f80-b050-4eb3-8ec4-046cbc84e672",
   "metadata": {},
   "outputs": [],
   "source": []
  }
 ],
 "metadata": {
  "kernelspec": {
   "display_name": "Python 3 (ipykernel)",
   "language": "python",
   "name": "python3"
  },
  "language_info": {
   "codemirror_mode": {
    "name": "ipython",
    "version": 3
   },
   "file_extension": ".py",
   "mimetype": "text/x-python",
   "name": "python",
   "nbconvert_exporter": "python",
   "pygments_lexer": "ipython3",
   "version": "3.11.9"
  }
 },
 "nbformat": 4,
 "nbformat_minor": 5
}
