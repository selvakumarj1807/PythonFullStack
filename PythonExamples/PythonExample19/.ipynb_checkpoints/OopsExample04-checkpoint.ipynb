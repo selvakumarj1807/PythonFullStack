{
 "cells": [
  {
   "cell_type": "markdown",
   "id": "0e3e2e5c-52ec-46bd-86ca-711c8cfcaf1d",
   "metadata": {},
   "source": [
    "Property Decretor\n",
    "-----------------"
   ]
  },
  {
   "cell_type": "code",
   "execution_count": 12,
   "id": "88972228-3618-4dfc-b4b3-ed7e1f6c7584",
   "metadata": {},
   "outputs": [],
   "source": [
    "class Student:\n",
    "    def __init__(self, name, age):\n",
    "        self.name = name\n",
    "        self.age = age\n",
    "\n",
    "    @property\n",
    "    def detail(self):\n",
    "        return self.name + ' your age is ' + str(self.age)"
   ]
  },
  {
   "cell_type": "code",
   "execution_count": 15,
   "id": "74e6cfc3-4c37-433a-acf8-82af993f9a3f",
   "metadata": {},
   "outputs": [
    {
     "name": "stdin",
     "output_type": "stream",
     "text": [
      "Enter your name :  Selva\n",
      "Enter your age :  25\n"
     ]
    },
    {
     "name": "stdout",
     "output_type": "stream",
     "text": [
      "Selva\n",
      "25\n",
      "Selva your age is 25\n"
     ]
    }
   ],
   "source": [
    "name = input('Enter your name : ')\n",
    "age = (int(input('Enter your age : ')))\n",
    "\n",
    "student01 = Student(name, age)\n",
    "\n",
    "print(student01.name)\n",
    "\n",
    "print(student01.age)\n",
    "\n",
    "print(student01.detail)"
   ]
  },
  {
   "cell_type": "markdown",
   "id": "1edc29d1-b96f-4090-8030-f1ee76b6dc9f",
   "metadata": {},
   "source": [
    "property getter and setter\n",
    "--------------------------"
   ]
  },
  {
   "cell_type": "code",
   "execution_count": 32,
   "id": "e6d6937d-26a4-4d43-a7e3-d8ac92f04a78",
   "metadata": {},
   "outputs": [],
   "source": [
    "class Student:\n",
    "    def __init__(self, total):\n",
    "        self._total = total\n",
    "\n",
    "    def average(self):\n",
    "        return self._total / 3\n",
    "\n",
    "    @property\n",
    "    def total(self):\n",
    "        return self._total\n",
    "\n",
    "    @total.setter\n",
    "    def total(self, t):\n",
    "        if t < 0 or t > 500:\n",
    "            print('Total value is above 500 or below 0')\n",
    "\n",
    "        else:\n",
    "            print('Total value is valid')\n",
    "\n",
    "            self._total = t"
   ]
  },
  {
   "cell_type": "code",
   "execution_count": 34,
   "id": "cc46786a-82e5-4619-a8da-980e28e7bd96",
   "metadata": {},
   "outputs": [
    {
     "name": "stdout",
     "output_type": "stream",
     "text": [
      "0.0\n",
      "0\n",
      "--------------------------------------------------\n",
      "Total value is valid\n",
      "--------------------------------------------------\n",
      "116.66666666666667\n",
      "350\n",
      "--------------------------------------------------\n",
      "Total value is valid\n",
      "--------------------------------------------------\n",
      "150.0\n",
      "450\n",
      "--------------------------------------------------\n",
      "Total value is above 500 or below 0\n",
      "--------------------------------------------------\n",
      "150.0\n",
      "450\n"
     ]
    }
   ],
   "source": [
    "studebt01 = Student(0)\n",
    "\n",
    "print(studebt01.average())\n",
    "\n",
    "print(studebt01.total)\n",
    "\n",
    "print('--------------------------------------------------')\n",
    "\n",
    "studebt01.total = 350\n",
    "\n",
    "print('--------------------------------------------------')\n",
    "\n",
    "print(studebt01.average())\n",
    "\n",
    "print(studebt01.total)\n",
    "\n",
    "print('--------------------------------------------------')\n",
    "\n",
    "studebt01.total = 450\n",
    "\n",
    "print('--------------------------------------------------')\n",
    "\n",
    "print(studebt01.average())\n",
    "\n",
    "print(studebt01.total)\n",
    "\n",
    "print('--------------------------------------------------')\n",
    "\n",
    "studebt01.total = 550\n",
    "\n",
    "print('--------------------------------------------------')\n",
    "\n",
    "print(studebt01.average())\n",
    "\n",
    "print(studebt01.total)\n"
   ]
  },
  {
   "cell_type": "code",
   "execution_count": null,
   "id": "37397152-8582-429e-8e2a-d71a736bbe8b",
   "metadata": {},
   "outputs": [],
   "source": [
    "'''\n",
    "Today Task\n",
    "----------\n",
    "\n",
    "Welcom, Mobile number is valid or not\n",
    "\n",
    "student01 = 'No Mobile'\n",
    "\n",
    "The student01 mobile number is walid - 9500912258\n",
    "\n",
    "The student01 mobile number is in walid - 95009\n",
    "\n",
    "'''"
   ]
  }
 ],
 "metadata": {
  "kernelspec": {
   "display_name": "Python 3 (ipykernel)",
   "language": "python",
   "name": "python3"
  },
  "language_info": {
   "codemirror_mode": {
    "name": "ipython",
    "version": 3
   },
   "file_extension": ".py",
   "mimetype": "text/x-python",
   "name": "python",
   "nbconvert_exporter": "python",
   "pygments_lexer": "ipython3",
   "version": "3.13.2"
  }
 },
 "nbformat": 4,
 "nbformat_minor": 5
}
