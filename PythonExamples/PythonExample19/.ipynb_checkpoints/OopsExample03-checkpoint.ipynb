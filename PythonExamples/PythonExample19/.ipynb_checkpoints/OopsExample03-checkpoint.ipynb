{
 "cells": [
  {
   "cell_type": "markdown",
   "id": "0bda7848-0110-41a4-b88c-69e02de6f0f1",
   "metadata": {},
   "source": [
    "Create Functions in a Class: \n",
    "----------------------------"
   ]
  },
  {
   "cell_type": "code",
   "execution_count": 7,
   "id": "3e5423f4-8cdc-4c9a-8849-5859296ce5a8",
   "metadata": {},
   "outputs": [],
   "source": [
    "class Student:\n",
    "    name = 'Sara'\n",
    "    age = 25\n",
    "\n",
    "    def studentDetails():\n",
    "        print(Student.name, ' your age is ', Student.age)\n",
    "    "
   ]
  },
  {
   "cell_type": "markdown",
   "id": "cd3a0ac7-41e5-4d7b-a150-fd5c3f74e0bd",
   "metadata": {},
   "source": [
    "Call the Function from the Class name\n",
    "-------------------------------------"
   ]
  },
  {
   "cell_type": "code",
   "execution_count": 8,
   "id": "f7ce36d8-413d-408c-8396-b220714f6238",
   "metadata": {},
   "outputs": [
    {
     "name": "stdout",
     "output_type": "stream",
     "text": [
      "Sara  your age is  25\n"
     ]
    }
   ],
   "source": [
    "Student.studentDetails()"
   ]
  },
  {
   "cell_type": "markdown",
   "id": "d8208c5d-ec30-4cb3-ac92-64fd64f406a4",
   "metadata": {},
   "source": [
    "Object Creation:\n",
    "----------------"
   ]
  },
  {
   "cell_type": "code",
   "execution_count": 24,
   "id": "4ac20c1e-df64-4fc2-abfd-19d7944f6814",
   "metadata": {},
   "outputs": [
    {
     "name": "stdout",
     "output_type": "stream",
     "text": [
      "User Name  -  User Age\n"
     ]
    }
   ],
   "source": [
    "# Class Creation\n",
    "\n",
    "class Student:\n",
    "    name = 'User Name'\n",
    "    age = 'User Age'\n",
    "\n",
    "    def studentDetails(self):\n",
    "        print(self.name, ' your age is ', self.age)\n",
    "    \n",
    "# Object Creation 01\n",
    "\n",
    "student01 = Student()\n",
    "\n",
    "# Call the Variable from Object name\n",
    "\n",
    "print(Student.name, ' - ', Student.age)"
   ]
  },
  {
   "cell_type": "markdown",
   "id": "b6fc88e4-9701-4be9-aa57-b47343fe54bf",
   "metadata": {},
   "source": [
    "Call the Function from Object name\n",
    "----------------------------------"
   ]
  },
  {
   "cell_type": "code",
   "execution_count": 25,
   "id": "a62484c0-4d24-4855-b8a1-49a23fb39cca",
   "metadata": {},
   "outputs": [
    {
     "name": "stdout",
     "output_type": "stream",
     "text": [
      "User Name  your age is  User Age\n"
     ]
    }
   ],
   "source": [
    "student01.studentDetails()"
   ]
  },
  {
   "cell_type": "markdown",
   "id": "ca380411-2c1a-4ec7-808e-29347afc9502",
   "metadata": {},
   "source": [
    "Change a values from the Object name in Class Variable\n",
    "------------------------------------------------------"
   ]
  },
  {
   "cell_type": "code",
   "execution_count": 26,
   "id": "2bbd0e0b-77e4-4ca9-81be-5e945b607c84",
   "metadata": {},
   "outputs": [
    {
     "name": "stdout",
     "output_type": "stream",
     "text": [
      "User Name  -  User Age\n",
      "Selva  -  26\n",
      "Selva  your age is  26\n"
     ]
    }
   ],
   "source": [
    "student01.name = 'Selva'\n",
    "\n",
    "student01.age = 26\n",
    "\n",
    "# Call the Variable from Class name\n",
    "\n",
    "print(Student.name, ' - ', Student.age)\n",
    "\n",
    "# Call the Variable from Object name\n",
    "\n",
    "print(student01.name, ' - ', student01.age)\n",
    "\n",
    "\n",
    "# Call the Function from Object name\n",
    "\n",
    "student01.studentDetails()"
   ]
  },
  {
   "cell_type": "code",
   "execution_count": 23,
   "id": "90ef12ca-119d-4b8b-86eb-a39debb6a812",
   "metadata": {},
   "outputs": [
    {
     "name": "stdout",
     "output_type": "stream",
     "text": [
      "User Name  -  User Age\n",
      "Admin  -  22\n",
      "Admin  your age is  22\n"
     ]
    }
   ],
   "source": [
    "# Object Creation 02\n",
    "\n",
    "student02 = Student()\n",
    "\n",
    "student02.name = 'Admin'\n",
    "\n",
    "student02.age = 22\n",
    "\n",
    "# Call the Variable from Class name\n",
    "\n",
    "print(Student.name, ' - ', Student.age)\n",
    "\n",
    "# Call the Variable from Object name\n",
    "\n",
    "print(student02.name, ' - ', student02.age)\n",
    "\n",
    "\n",
    "# Call the Function from Object name\n",
    "\n",
    "student02.studentDetails()"
   ]
  },
  {
   "cell_type": "code",
   "execution_count": null,
   "id": "7640a4c4-17c0-4125-9e94-0e3ffd06f630",
   "metadata": {},
   "outputs": [],
   "source": [
    "'''\n",
    "__init__ - method\n",
    "--------------------\n",
    "'''"
   ]
  },
  {
   "cell_type": "code",
   "execution_count": 27,
   "id": "40f9873e-8b02-44b0-b98e-1043e625b6e5",
   "metadata": {},
   "outputs": [
    {
     "name": "stdout",
     "output_type": "stream",
     "text": [
      "--------------------------------------------------------------------\n",
      "__init__ - method for or Constructure method for value Intilaization\n",
      "--------------------------------------------------------------------\n",
      "Selva  -  25\n",
      "Selva  your age is  25\n"
     ]
    }
   ],
   "source": [
    "# Class Creation\n",
    "\n",
    "class Student:\n",
    "    def __init__(self, name, age):\n",
    "        self.name = name\n",
    "        self.age = age\n",
    "        print('__init__ - method for or Constructure method for value Intilaization')\n",
    "\n",
    "    def studentDetails(self):\n",
    "        print(self.name, ' your age is ', self.age)\n",
    "    \n",
    "\n",
    "print('--------------------------------------------------------------------')\n",
    "# Object Creation 01\n",
    "\n",
    "student01 = Student('Selva', 25)\n",
    "\n",
    "print('--------------------------------------------------------------------')\n",
    "\n",
    "# Call the Variable from Object name\n",
    "\n",
    "print(student01.name, ' - ', student01.age)\n",
    "\n",
    "\n",
    "# Call the Function from Object name\n",
    "\n",
    "student01.studentDetails()"
   ]
  },
  {
   "cell_type": "code",
   "execution_count": 28,
   "id": "c2096207-2d02-4b25-9400-469923c8899f",
   "metadata": {},
   "outputs": [
    {
     "name": "stdout",
     "output_type": "stream",
     "text": [
      "__init__ - method for or Constructure method for value Intilaization\n",
      "--------------------------------------------------------------------\n",
      "Admin  -  22\n",
      "Admin  your age is  22\n"
     ]
    }
   ],
   "source": [
    "# Object Creation 02\n",
    "\n",
    "student02 = Student('Admin', 22)\n",
    "\n",
    "print('--------------------------------------------------------------------')\n",
    "\n",
    "# Call the Variable from Object name\n",
    "\n",
    "print(student02.name, ' - ', student02.age)\n",
    "\n",
    "\n",
    "# Call the Function from Object name\n",
    "\n",
    "student02.studentDetails()"
   ]
  },
  {
   "cell_type": "code",
   "execution_count": 29,
   "id": "a881d523-f9a1-4ae7-90f3-b9c805fbb3ad",
   "metadata": {},
   "outputs": [
    {
     "name": "stdout",
     "output_type": "stream",
     "text": [
      "Selva  your age is  25\n",
      "Admin  your age is  22\n"
     ]
    }
   ],
   "source": [
    "# Call the Function from Object name 01\n",
    "\n",
    "student01.studentDetails()\n",
    "\n",
    "# Call the Function from Object name 02\n",
    "\n",
    "student02.studentDetails()"
   ]
  },
  {
   "cell_type": "code",
   "execution_count": null,
   "id": "946bf797-ff6e-4d31-9919-dd2d67adad9c",
   "metadata": {},
   "outputs": [],
   "source": []
  }
 ],
 "metadata": {
  "kernelspec": {
   "display_name": "Python 3 (ipykernel)",
   "language": "python",
   "name": "python3"
  },
  "language_info": {
   "codemirror_mode": {
    "name": "ipython",
    "version": 3
   },
   "file_extension": ".py",
   "mimetype": "text/x-python",
   "name": "python",
   "nbconvert_exporter": "python",
   "pygments_lexer": "ipython3",
   "version": "3.13.2"
  }
 },
 "nbformat": 4,
 "nbformat_minor": 5
}
