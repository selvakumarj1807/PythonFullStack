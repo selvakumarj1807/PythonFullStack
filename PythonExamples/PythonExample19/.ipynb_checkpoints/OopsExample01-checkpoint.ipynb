{
 "cells": [
  {
   "cell_type": "markdown",
   "id": "e31271ae-6894-41e8-b69f-53cf4f63be54",
   "metadata": {},
   "source": [
    "Oops - Object Oriented Programming Language\n",
    "-------------------------------------------"
   ]
  },
  {
   "cell_type": "code",
   "execution_count": 1,
   "id": "a035aa09-0ab1-4f4c-a69e-f55ad5f3efce",
   "metadata": {},
   "outputs": [
    {
     "name": "stdout",
     "output_type": "stream",
     "text": [
      "10 <class 'int'>\n"
     ]
    }
   ],
   "source": [
    "a = 10\n",
    "\n",
    "print(a, type(a))"
   ]
  },
  {
   "cell_type": "markdown",
   "id": "b45ab8e7-a606-4416-a0e2-0433d628e150",
   "metadata": {},
   "source": [
    "Create the Class\n",
    "----------------"
   ]
  },
  {
   "cell_type": "code",
   "execution_count": 2,
   "id": "d50bc61d-052f-46cd-8036-cb5a76137804",
   "metadata": {},
   "outputs": [
    {
     "name": "stdout",
     "output_type": "stream",
     "text": [
      "----------------------------------------------------------\n",
      "<class 'type'>\n"
     ]
    }
   ],
   "source": [
    "class car:\n",
    "    pass\n",
    "\n",
    "print('----------------------------------------------------------')\n",
    "\n",
    "print(type(car))"
   ]
  },
  {
   "cell_type": "markdown",
   "id": "bb8e7f28-bc88-40ee-aa88-df8bc46f82a7",
   "metadata": {},
   "source": [
    "Create the Object \n",
    "-----------------"
   ]
  },
  {
   "cell_type": "code",
   "execution_count": 3,
   "id": "c23e23e8-d9cc-4ffb-9dfe-df7bff7cd232",
   "metadata": {},
   "outputs": [
    {
     "name": "stdout",
     "output_type": "stream",
     "text": [
      "<class '__main__.car'>\n"
     ]
    }
   ],
   "source": [
    "swift = car()\n",
    "\n",
    "print(type(swift))"
   ]
  },
  {
   "cell_type": "markdown",
   "id": "c4ef9c38-687a-42e6-9bd7-aa2406e41e45",
   "metadata": {},
   "source": [
    "Check the Object is Created for Class\n",
    "-------------------------------------"
   ]
  },
  {
   "cell_type": "code",
   "execution_count": 8,
   "id": "bb8fd51d-6dfd-44e7-9573-d13b960d075f",
   "metadata": {},
   "outputs": [
    {
     "name": "stdout",
     "output_type": "stream",
     "text": [
      "True\n",
      "----------------------------------------------------------\n",
      "True\n",
      "----------------------------------------------------------\n",
      "False\n"
     ]
    }
   ],
   "source": [
    "print(isinstance(swift, car))\n",
    "\n",
    "print('----------------------------------------------------------')\n",
    "\n",
    "print(isinstance(a, int))\n",
    "\n",
    "print('----------------------------------------------------------')\n",
    "\n",
    "print(isinstance(a, float))"
   ]
  },
  {
   "cell_type": "markdown",
   "id": "b16f1b8d-a613-46c5-8758-cefbb888ce77",
   "metadata": {},
   "source": [
    "Class Variable Declaration\n",
    "--------------------------"
   ]
  },
  {
   "cell_type": "code",
   "execution_count": 9,
   "id": "54bf18e0-307b-4d54-9ef2-5de8a804b83e",
   "metadata": {},
   "outputs": [],
   "source": [
    "class Car:\n",
    "    carName = 'Swift'\n",
    "    model = 2025\n"
   ]
  },
  {
   "cell_type": "markdown",
   "id": "fda2db3c-6869-40fd-83f5-7347969e5692",
   "metadata": {},
   "source": [
    "Call the Class Variable and Values\n",
    "----------------------------------"
   ]
  },
  {
   "cell_type": "code",
   "execution_count": 12,
   "id": "713d05ab-ad0a-407f-8882-9882c6c0dd1e",
   "metadata": {},
   "outputs": [
    {
     "name": "stdout",
     "output_type": "stream",
     "text": [
      "Swift\n",
      "2025\n"
     ]
    }
   ],
   "source": [
    "# Get Attribute method\n",
    "\n",
    "print(getattr(Car, 'carName'))\n",
    "\n",
    "# Dot Notation\n",
    "\n",
    "print(Car.model)"
   ]
  },
  {
   "cell_type": "markdown",
   "id": "e91100d3-18ab-4e31-ac1e-ce29eb3b7e46",
   "metadata": {},
   "source": [
    "Add variable and values into the Class\n",
    "--------------------------------------"
   ]
  },
  {
   "cell_type": "code",
   "execution_count": 14,
   "id": "b3fa8195-f804-49b2-8060-c536821eecdc",
   "metadata": {},
   "outputs": [
    {
     "name": "stdout",
     "output_type": "stream",
     "text": [
      "----------------------------------------------------------\n",
      "----------------------------------------------------------\n",
      "Admin  your age is  25\n"
     ]
    }
   ],
   "source": [
    "class User:\n",
    "    pass\n",
    "\n",
    "print('----------------------------------------------------------')\n",
    "\n",
    "# Set attribute method\n",
    "\n",
    "setattr(User, 'name', 'Admin')\n",
    "\n",
    "# Dot Notation method\n",
    "\n",
    "User.age = 25\n",
    "\n",
    "print('----------------------------------------------------------')\n",
    "\n",
    "print(User.name , ' your age is ', User.age )\n"
   ]
  },
  {
   "cell_type": "markdown",
   "id": "3bc74a2e-8ec3-4ffc-8ae3-851520353032",
   "metadata": {},
   "source": [
    "Remove the Class Variable & Values\n",
    "----------------------------------"
   ]
  },
  {
   "cell_type": "code",
   "execution_count": 21,
   "id": "772d655d-c7bc-49fe-bae1-9865bfa3f6db",
   "metadata": {},
   "outputs": [
    {
     "name": "stdout",
     "output_type": "stream",
     "text": [
      "----------------------------------------------------------\n",
      "Selva  your age is  25  -  9500912258\n",
      "----------------------------------------------------------\n"
     ]
    }
   ],
   "source": [
    "class User:\n",
    "    name = 'Selva'\n",
    "    age = 25\n",
    "    mobile = 9500912258\n",
    "\n",
    "print('----------------------------------------------------------')\n",
    "\n",
    "print(User.name , ' your age is ', User.age, ' - ', User.mobile )\n",
    "\n",
    "print('----------------------------------------------------------')\n",
    "\n",
    "# Delattribute method\n",
    "\n",
    "delattr(User, 'age')\n",
    "\n",
    "# del  method\n",
    "\n",
    "del(User.mobile)\n"
   ]
  },
  {
   "cell_type": "code",
   "execution_count": null,
   "id": "a148a7fd-358e-4d67-b2d3-84e84acb2e7f",
   "metadata": {},
   "outputs": [],
   "source": []
  }
 ],
 "metadata": {
  "kernelspec": {
   "display_name": "Python 3 (ipykernel)",
   "language": "python",
   "name": "python3"
  },
  "language_info": {
   "codemirror_mode": {
    "name": "ipython",
    "version": 3
   },
   "file_extension": ".py",
   "mimetype": "text/x-python",
   "name": "python",
   "nbconvert_exporter": "python",
   "pygments_lexer": "ipython3",
   "version": "3.13.2"
  }
 },
 "nbformat": 4,
 "nbformat_minor": 5
}
