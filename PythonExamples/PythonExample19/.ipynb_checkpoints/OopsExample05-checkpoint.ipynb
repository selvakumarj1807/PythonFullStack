{
 "cells": [
  {
   "cell_type": "markdown",
   "id": "a4e850c8-37b0-4261-9dfa-1c4734eedc82",
   "metadata": {},
   "source": [
    "Inheritance\n",
    "-----------\n",
    "\n",
    "1. Single Inheritance\n",
    "2. Multiple Inheritance\n",
    "3. Multilevel Inheritance"
   ]
  },
  {
   "cell_type": "markdown",
   "id": "28dbe3bb-6099-4701-92f6-be80cfc5f400",
   "metadata": {},
   "source": [
    "# 1. Single Inheritance\n",
    "-----------------------"
   ]
  },
  {
   "cell_type": "code",
   "execution_count": 6,
   "id": "aead69db-a812-470f-8322-c0cdec3e1249",
   "metadata": {},
   "outputs": [],
   "source": [
    "# Class 01 Creation\n",
    "\n",
    "class Department:\n",
    "    departmentName = 'BA'\n",
    "    year = 2025\n",
    "\n",
    "    def departmentDetails(self):\n",
    "        print('Department Name :', self.departmentName)\n",
    "        print('Year : ', self.year)\n",
    "\n",
    "# Class 02 Creation\n",
    "\n",
    "class Student(Department):\n",
    "    name = 'Sara'\n",
    "    age = 25\n",
    "\n",
    "    def studentDetails(self):\n",
    "        print('Student Name : ', self.name)\n",
    "        print('Student Age : ', self.age)\n",
    "\n",
    "# Object Creation\n",
    "\n",
    "studentObject01 = Student()"
   ]
  },
  {
   "cell_type": "code",
   "execution_count": 7,
   "id": "b694cfe7-5005-4520-977e-ce75ac5b5c3a",
   "metadata": {},
   "outputs": [
    {
     "name": "stdout",
     "output_type": "stream",
     "text": [
      "Student Name :  Sara\n",
      "Student Age :  25\n",
      "Department Name : BA\n",
      "Year :  2025\n"
     ]
    }
   ],
   "source": [
    "# Call the Class functions using Student Object\n",
    "\n",
    "studentObject01.studentDetails()\n",
    "\n",
    "studentObject01.departmentDetails()"
   ]
  },
  {
   "cell_type": "markdown",
   "id": "7b8a25ec-f13d-4f7e-80a9-8eb8f38af5b3",
   "metadata": {},
   "source": [
    "# 2. Multiple Inheritance\n",
    "-------------------------"
   ]
  },
  {
   "cell_type": "code",
   "execution_count": 16,
   "id": "277ffc57-e271-4f3f-85a4-120ebb2548b0",
   "metadata": {},
   "outputs": [],
   "source": [
    "# Class 01 Creation\n",
    "\n",
    "class Father:\n",
    "    def playing(self):\n",
    "        print('Father have a Football Playing skill')\n",
    "\n",
    "    def fishing(self):\n",
    "        print('Father have a Fishing skill')\n",
    "\n",
    "# Class 02 Creation\n",
    "\n",
    "class Mother:\n",
    "    def playing(self):\n",
    "        print('Mother have a Football Playing skill')\n",
    "\n",
    "    def cooking(self):\n",
    "        print('Mother have a Cooking skill')\n",
    "\n",
    "\n",
    "# Class 03 Creation\n",
    "\n",
    "class Son(Mother, Father):\n",
    "    def reading(self):\n",
    "        print('Son have a Reading  skill')\n",
    "\n",
    "\n",
    "# Object Creation for Son\n",
    "\n",
    "sonObject01 = Son()"
   ]
  },
  {
   "cell_type": "code",
   "execution_count": 18,
   "id": "004f7b54-b093-47f8-a9e0-4638a18f0d15",
   "metadata": {},
   "outputs": [
    {
     "name": "stdout",
     "output_type": "stream",
     "text": [
      "Son have a Reading  skill\n",
      "Mother have a Cooking skill\n",
      "Father have a Fishing skill\n",
      "Mother have a Football Playing skill\n"
     ]
    }
   ],
   "source": [
    "# Call the Class Functions using Son Object\n",
    "\n",
    "sonObject01.reading()\n",
    "\n",
    "sonObject01.cooking()\n",
    "\n",
    "sonObject01.fishing()\n",
    "\n",
    "sonObject01.playing()"
   ]
  },
  {
   "cell_type": "markdown",
   "id": "952c5779-2021-4af8-8248-abe20da847d3",
   "metadata": {},
   "source": [
    "# 3. Multilevel Inheritance\n",
    "---------------------------"
   ]
  },
  {
   "cell_type": "code",
   "execution_count": 19,
   "id": "ab86387d-42ec-4847-aa3e-941167f5d74f",
   "metadata": {},
   "outputs": [],
   "source": [
    "# Class 01 Creation\n",
    "\n",
    "class Father:\n",
    "    def playing(self):\n",
    "        print('Father have a Football Playing skill')\n",
    "\n",
    "    def fishing(self):\n",
    "        print('Father have a Fishing skill')\n",
    "\n",
    "# Class 02 Creation\n",
    "\n",
    "class Mother(Father):\n",
    "    def playing(self):\n",
    "        print('Mother have a Football Playing skill')\n",
    "\n",
    "    def cooking(self):\n",
    "        print('Mother have a Cooking skill')\n",
    "\n",
    "\n",
    "# Class 03 Creation\n",
    "\n",
    "class Son(Mother):\n",
    "    def reading(self):\n",
    "        print('Son have a Reading  skill')\n",
    "\n",
    "\n",
    "# Object Creation for Son\n",
    "\n",
    "sonObject01 = Son()"
   ]
  },
  {
   "cell_type": "code",
   "execution_count": 20,
   "id": "6356384a-7537-4a88-b314-ab685d004d69",
   "metadata": {},
   "outputs": [
    {
     "name": "stdout",
     "output_type": "stream",
     "text": [
      "Son have a Reading  skill\n",
      "Mother have a Cooking skill\n",
      "Father have a Fishing skill\n",
      "Mother have a Football Playing skill\n"
     ]
    }
   ],
   "source": [
    "# Call the Class Functions using Son Object\n",
    "\n",
    "sonObject01.reading()\n",
    "\n",
    "sonObject01.cooking()\n",
    "\n",
    "sonObject01.fishing()\n",
    "\n",
    "sonObject01.playing()"
   ]
  },
  {
   "cell_type": "markdown",
   "id": "abfd92a6-3466-45f4-b828-6cc8e406dbd2",
   "metadata": {},
   "source": [
    "Diomand Problem :\n",
    "-----------------"
   ]
  },
  {
   "cell_type": "code",
   "execution_count": 27,
   "id": "3c932010-b171-4512-a8b1-4ffeace3a8db",
   "metadata": {},
   "outputs": [
    {
     "name": "stdout",
     "output_type": "stream",
     "text": [
      "--------------------------------------------------------------------\n"
     ]
    }
   ],
   "source": [
    "class A:\n",
    "    def display(self):\n",
    "        print('I am a class of A')\n",
    "\n",
    "class B:\n",
    "    def display(self):\n",
    "        print('I am a class of B')\n",
    "\n",
    "class C:\n",
    "    def display(self):\n",
    "        print('I am a class of C')\n",
    "\n",
    "class D(C,B):\n",
    "    def display(self):\n",
    "        print('I am a class of D')\n",
    "\n",
    "print('--------------------------------------------------------------------')\n",
    "\n",
    "object01 = D()"
   ]
  },
  {
   "cell_type": "code",
   "execution_count": 28,
   "id": "24f530df-33ee-4073-af93-fa9822acca2d",
   "metadata": {},
   "outputs": [
    {
     "name": "stdout",
     "output_type": "stream",
     "text": [
      "I am a class of A\n"
     ]
    }
   ],
   "source": [
    "object01.display()"
   ]
  },
  {
   "cell_type": "code",
   "execution_count": null,
   "id": "9ede79fe-c8a9-4741-b720-93acf7c69e00",
   "metadata": {},
   "outputs": [],
   "source": []
  }
 ],
 "metadata": {
  "kernelspec": {
   "display_name": "Python 3 (ipykernel)",
   "language": "python",
   "name": "python3"
  },
  "language_info": {
   "codemirror_mode": {
    "name": "ipython",
    "version": 3
   },
   "file_extension": ".py",
   "mimetype": "text/x-python",
   "name": "python",
   "nbconvert_exporter": "python",
   "pygments_lexer": "ipython3",
   "version": "3.13.2"
  }
 },
 "nbformat": 4,
 "nbformat_minor": 5
}
