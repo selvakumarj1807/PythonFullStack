{
 "cells": [
  {
   "cell_type": "markdown",
   "id": "93c04797-a58c-4c43-bcaa-aa85e09c54d1",
   "metadata": {},
   "source": [
    "Abstraction & Encapsulation:\n",
    "----------------------------"
   ]
  },
  {
   "cell_type": "code",
   "execution_count": 10,
   "id": "8282b816-c366-44af-aa4d-11495b462682",
   "metadata": {},
   "outputs": [],
   "source": [
    "#Library Management Project\n",
    "\n",
    "class LibraryManagent:\n",
    "    def __init__(self, books):\n",
    "        self.books = books\n",
    "\n",
    "    def displayBooks(self):\n",
    "        for book in self.books:\n",
    "            print(book)\n",
    "\n",
    "        print('')\n",
    "\n",
    "    def borrowBook(self, book):\n",
    "        if book in self.books:\n",
    "            print('Yes your Book is there')\n",
    "            self.books.remove(book)\n",
    "            print('Borrow book Successfully!')\n",
    "            print('')\n",
    "\n",
    "        else:\n",
    "            print('No your Book is Not in your Library')\n",
    "            print('')\n",
    "\n",
    "    def receiveBook(self, book):\n",
    "        self.books.append(book)\n",
    "        print('Receive Book Successfully!. Thank You !')\n",
    "        print('')\n"
   ]
  },
  {
   "cell_type": "code",
   "execution_count": 13,
   "id": "9bd3cfe2-eb3c-4efa-a5b1-13ca5b12f381",
   "metadata": {},
   "outputs": [
    {
     "name": "stdout",
     "output_type": "stream",
     "text": [
      " 1. Display Book \n",
      " 2. Borrow Book \n",
      " 3. Receive Book\n"
     ]
    },
    {
     "name": "stdin",
     "output_type": "stream",
     "text": [
      "Enter Your Choice (1, 2, 3) :  1\n"
     ]
    },
    {
     "name": "stdout",
     "output_type": "stream",
     "text": [
      "\n",
      "C\n",
      "C++\n",
      "Java\n",
      "\n",
      " 1. Display Book \n",
      " 2. Borrow Book \n",
      " 3. Receive Book\n"
     ]
    },
    {
     "name": "stdin",
     "output_type": "stream",
     "text": [
      "Enter Your Choice (1, 2, 3) :  2\n"
     ]
    },
    {
     "name": "stdout",
     "output_type": "stream",
     "text": [
      "\n"
     ]
    },
    {
     "name": "stdin",
     "output_type": "stream",
     "text": [
      "Enter your book name :  Java\n"
     ]
    },
    {
     "name": "stdout",
     "output_type": "stream",
     "text": [
      "Yes your Book is there\n",
      "Borrow book Successfully!\n",
      "\n",
      " 1. Display Book \n",
      " 2. Borrow Book \n",
      " 3. Receive Book\n"
     ]
    },
    {
     "name": "stdin",
     "output_type": "stream",
     "text": [
      "Enter Your Choice (1, 2, 3) :  3\n"
     ]
    },
    {
     "name": "stdout",
     "output_type": "stream",
     "text": [
      "\n"
     ]
    },
    {
     "name": "stdin",
     "output_type": "stream",
     "text": [
      "Enter your book name :  Java\n"
     ]
    },
    {
     "name": "stdout",
     "output_type": "stream",
     "text": [
      "Receive Book Successfully!. Thank You !\n",
      "\n",
      " 1. Display Book \n",
      " 2. Borrow Book \n",
      " 3. Receive Book\n"
     ]
    },
    {
     "name": "stdin",
     "output_type": "stream",
     "text": [
      "Enter Your Choice (1, 2, 3) :  1\n"
     ]
    },
    {
     "name": "stdout",
     "output_type": "stream",
     "text": [
      "\n",
      "C\n",
      "C++\n",
      "Java\n",
      "\n",
      " 1. Display Book \n",
      " 2. Borrow Book \n",
      " 3. Receive Book\n"
     ]
    },
    {
     "name": "stdin",
     "output_type": "stream",
     "text": [
      "Enter Your Choice (1, 2, 3) :  3\n"
     ]
    },
    {
     "name": "stdout",
     "output_type": "stream",
     "text": [
      "\n"
     ]
    },
    {
     "name": "stdin",
     "output_type": "stream",
     "text": [
      "Enter your book name :  Python \n"
     ]
    },
    {
     "name": "stdout",
     "output_type": "stream",
     "text": [
      "Receive Book Successfully!. Thank You !\n",
      "\n",
      " 1. Display Book \n",
      " 2. Borrow Book \n",
      " 3. Receive Book\n"
     ]
    },
    {
     "name": "stdin",
     "output_type": "stream",
     "text": [
      "Enter Your Choice (1, 2, 3) :  1\n"
     ]
    },
    {
     "name": "stdout",
     "output_type": "stream",
     "text": [
      "\n",
      "C\n",
      "C++\n",
      "Java\n",
      "Python \n",
      "\n",
      " 1. Display Book \n",
      " 2. Borrow Book \n",
      " 3. Receive Book\n"
     ]
    },
    {
     "name": "stdin",
     "output_type": "stream",
     "text": [
      "Enter Your Choice (1, 2, 3) :  5\n"
     ]
    },
    {
     "name": "stdout",
     "output_type": "stream",
     "text": [
      "\n"
     ]
    }
   ],
   "source": [
    "books = ['C', 'C++', 'Java']\n",
    "\n",
    "# Object Creation\n",
    "\n",
    "libraryObject01 = LibraryManagent(books)\n",
    "\n",
    "msg = ' 1. Display Book \\n 2. Borrow Book \\n 3. Receive Book'\n",
    "\n",
    "while True:\n",
    "    print(msg)\n",
    "\n",
    "    choice = input('Enter Your Choice (1, 2, 3) : ')\n",
    "    print('')\n",
    "\n",
    "    if choice == '1':\n",
    "        libraryObject01.displayBooks()\n",
    "\n",
    "    elif choice == '2':\n",
    "        book = input('Enter your book name : ')\n",
    "\n",
    "        libraryObject01.borrowBook(book)\n",
    "\n",
    "    elif choice == '3':\n",
    "        book = input('Enter your book name : ')\n",
    "\n",
    "        libraryObject01.receiveBook(book)\n",
    "\n",
    "    else:\n",
    "        break\n",
    "\n",
    "    "
   ]
  },
  {
   "cell_type": "code",
   "execution_count": null,
   "id": "3771c7ca-d839-4168-b0e8-175f065387d3",
   "metadata": {},
   "outputs": [
    {
     "name": "stdout",
     "output_type": "stream",
     "text": [
      " 1. Display Book \n",
      " 2. Borrow Book \n",
      " 3. Receive Book\n"
     ]
    },
    {
     "name": "stdin",
     "output_type": "stream",
     "text": [
      "Enter Your Choice (1, 2, 3) :  1\n"
     ]
    },
    {
     "name": "stdout",
     "output_type": "stream",
     "text": [
      "\n",
      "Tamil\n",
      "English\n",
      "Maths\n",
      "\n",
      " 1. Display Book \n",
      " 2. Borrow Book \n",
      " 3. Receive Book\n"
     ]
    },
    {
     "name": "stdin",
     "output_type": "stream",
     "text": [
      "Enter Your Choice (1, 2, 3) :  2\n"
     ]
    },
    {
     "name": "stdout",
     "output_type": "stream",
     "text": [
      "\n"
     ]
    },
    {
     "name": "stdin",
     "output_type": "stream",
     "text": [
      "Enter your book name :  C\n"
     ]
    },
    {
     "name": "stdout",
     "output_type": "stream",
     "text": [
      "No your Book is Not in your Library\n",
      "\n",
      " 1. Display Book \n",
      " 2. Borrow Book \n",
      " 3. Receive Book\n"
     ]
    },
    {
     "name": "stdin",
     "output_type": "stream",
     "text": [
      "Enter Your Choice (1, 2, 3) :  2\n"
     ]
    },
    {
     "name": "stdout",
     "output_type": "stream",
     "text": [
      "\n"
     ]
    },
    {
     "name": "stdin",
     "output_type": "stream",
     "text": [
      "Enter your book name :  Tamil\n"
     ]
    },
    {
     "name": "stdout",
     "output_type": "stream",
     "text": [
      "Yes your Book is there\n",
      "Borrow book Successfully!\n",
      "\n",
      " 1. Display Book \n",
      " 2. Borrow Book \n",
      " 3. Receive Book\n"
     ]
    },
    {
     "name": "stdin",
     "output_type": "stream",
     "text": [
      "Enter Your Choice (1, 2, 3) :  1\n"
     ]
    },
    {
     "name": "stdout",
     "output_type": "stream",
     "text": [
      "\n",
      "English\n",
      "Maths\n",
      "\n",
      " 1. Display Book \n",
      " 2. Borrow Book \n",
      " 3. Receive Book\n"
     ]
    },
    {
     "name": "stdin",
     "output_type": "stream",
     "text": [
      "Enter Your Choice (1, 2, 3) :  3\n"
     ]
    },
    {
     "name": "stdout",
     "output_type": "stream",
     "text": [
      "\n"
     ]
    },
    {
     "name": "stdin",
     "output_type": "stream",
     "text": [
      "Enter your book name :  Tamil\n"
     ]
    },
    {
     "name": "stdout",
     "output_type": "stream",
     "text": [
      "Receive Book Successfully!. Thank You !\n",
      "\n",
      " 1. Display Book \n",
      " 2. Borrow Book \n",
      " 3. Receive Book\n"
     ]
    },
    {
     "name": "stdin",
     "output_type": "stream",
     "text": [
      "Enter Your Choice (1, 2, 3) :  1\n"
     ]
    },
    {
     "name": "stdout",
     "output_type": "stream",
     "text": [
      "\n",
      "English\n",
      "Maths\n",
      "Tamil\n",
      "\n",
      " 1. Display Book \n",
      " 2. Borrow Book \n",
      " 3. Receive Book\n"
     ]
    }
   ],
   "source": [
    "# Example 02\n",
    "\n",
    "books = ['Tamil', 'English', 'Maths']\n",
    "\n",
    "# Object Creation\n",
    "\n",
    "libraryObject02 = LibraryManagent(books)\n",
    "\n",
    "msg = ' 1. Display Book \\n 2. Borrow Book \\n 3. Receive Book'\n",
    "\n",
    "while True:\n",
    "    print(msg)\n",
    "\n",
    "    choice = input('Enter Your Choice (1, 2, 3) : ')\n",
    "    print('')\n",
    "\n",
    "    if choice == '1':\n",
    "        libraryObject02.displayBooks()\n",
    "\n",
    "    elif choice == '2':\n",
    "        book = input('Enter your book name : ')\n",
    "\n",
    "        libraryObject02.borrowBook(book)\n",
    "\n",
    "    elif choice == '3':\n",
    "        book = input('Enter your book name : ')\n",
    "\n",
    "        libraryObject02.receiveBook(book)\n",
    "\n",
    "    else:\n",
    "        break\n",
    "\n",
    "    "
   ]
  },
  {
   "cell_type": "code",
   "execution_count": null,
   "id": "fa6e4329-72b6-4294-b1ab-988946374d27",
   "metadata": {},
   "outputs": [],
   "source": []
  }
 ],
 "metadata": {
  "kernelspec": {
   "display_name": "Python 3 (ipykernel)",
   "language": "python",
   "name": "python3"
  },
  "language_info": {
   "codemirror_mode": {
    "name": "ipython",
    "version": 3
   },
   "file_extension": ".py",
   "mimetype": "text/x-python",
   "name": "python",
   "nbconvert_exporter": "python",
   "pygments_lexer": "ipython3",
   "version": "3.13.2"
  }
 },
 "nbformat": 4,
 "nbformat_minor": 5
}
