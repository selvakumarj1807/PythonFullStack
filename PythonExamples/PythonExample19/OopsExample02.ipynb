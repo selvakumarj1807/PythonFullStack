{
 "cells": [
  {
   "cell_type": "markdown",
   "id": "2fe2e075-a1a5-4f39-8534-e498c6eaed52",
   "metadata": {},
   "source": [
    "Object\n",
    "------"
   ]
  },
  {
   "cell_type": "code",
   "execution_count": 14,
   "id": "719139fb-d7e2-4a10-96e4-c23cc4ede643",
   "metadata": {},
   "outputs": [],
   "source": [
    "class Course:\n",
    "    subject = 'Python'"
   ]
  },
  {
   "cell_type": "code",
   "execution_count": 8,
   "id": "9cc8a162-1c08-4d83-bb94-57bce5834c00",
   "metadata": {},
   "outputs": [
    {
     "name": "stdout",
     "output_type": "stream",
     "text": [
      "Class Variable Values :  Python\n"
     ]
    }
   ],
   "source": [
    "print('Class Variable Values : ', Course.subject)"
   ]
  },
  {
   "cell_type": "code",
   "execution_count": 15,
   "id": "5da6d060-3796-4ade-af5e-0690222baecb",
   "metadata": {},
   "outputs": [
    {
     "name": "stdout",
     "output_type": "stream",
     "text": [
      "Object 01 befor value assign :  Python\n",
      "----------------------------------------\n",
      "Object 01 after value assign :  Java\n",
      "Class Variable Values :  Python\n"
     ]
    }
   ],
   "source": [
    "# Object Creation\n",
    "\n",
    "batch01 = Course()\n",
    "\n",
    "print('Object 01 befor value assign : ',batch01.subject)\n",
    "\n",
    "print('----------------------------------------')\n",
    "\n",
    "batch01.subject = 'Java'\n",
    "\n",
    "print('Object 01 after value assign : ', batch01.subject)\n",
    "\n",
    "print('Class Variable Values : ', Course.subject)"
   ]
  },
  {
   "cell_type": "code",
   "execution_count": 16,
   "id": "72905424-2555-4ceb-9fc7-23511b5012d1",
   "metadata": {},
   "outputs": [
    {
     "name": "stdout",
     "output_type": "stream",
     "text": [
      "Object 02 befor value assign :  Python\n",
      "----------------------------------------\n",
      "Object 02 after value assign :  C++\n",
      "Class Variable Values :  Python\n"
     ]
    }
   ],
   "source": [
    "# Object Creation\n",
    "\n",
    "batch02 = Course()\n",
    "\n",
    "print('Object 02 befor value assign : ',batch02.subject)\n",
    "\n",
    "print('----------------------------------------')\n",
    "\n",
    "batch02.subject = 'C++'\n",
    "\n",
    "print('Object 02 after value assign : ', batch02.subject)\n",
    "\n",
    "print('Class Variable Values : ', Course.subject)"
   ]
  },
  {
   "cell_type": "code",
   "execution_count": 17,
   "id": "e7d4eb9b-2f49-4a30-969e-aa18c147ea89",
   "metadata": {},
   "outputs": [
    {
     "name": "stdout",
     "output_type": "stream",
     "text": [
      "Object 03 befor value assign :  Python\n",
      "----------------------------------------\n",
      "Object 03 after value assign :  C\n",
      "Class Variable Values :  Python\n"
     ]
    }
   ],
   "source": [
    "# Object Creation\n",
    "\n",
    "batch03 = Course()\n",
    "\n",
    "print('Object 03 befor value assign : ',batch03.subject)\n",
    "\n",
    "print('----------------------------------------')\n",
    "\n",
    "batch03.subject = 'C'\n",
    "\n",
    "print('Object 03 after value assign : ', batch03.subject)\n",
    "\n",
    "print('Class Variable Values : ', Course.subject)"
   ]
  },
  {
   "cell_type": "code",
   "execution_count": 19,
   "id": "30ef0465-a3ef-4c9d-a34e-6516025feef8",
   "metadata": {},
   "outputs": [
    {
     "name": "stdout",
     "output_type": "stream",
     "text": [
      "Object 01 after value assign :  Java\n",
      "Object 02 after value assign :  C++\n",
      "Object 03 after value assign :  C\n",
      "Class Variable Values :  Python\n"
     ]
    }
   ],
   "source": [
    "# Object 01 variable\n",
    "print('Object 01 after value assign : ', batch01.subject)\n",
    "\n",
    "# Object 02 variable\n",
    "print('Object 02 after value assign : ', batch02.subject)\n",
    "\n",
    "# Object 03 variable\n",
    "print('Object 03 after value assign : ', batch03.subject)\n",
    "\n",
    "# Class Variable and Values\n",
    "print('Class Variable Values : ', Course.subject)\n"
   ]
  },
  {
   "cell_type": "code",
   "execution_count": null,
   "id": "fc8db211-682d-4ed6-9904-3aeb0690955f",
   "metadata": {},
   "outputs": [],
   "source": []
  }
 ],
 "metadata": {
  "kernelspec": {
   "display_name": "Python 3 (ipykernel)",
   "language": "python",
   "name": "python3"
  },
  "language_info": {
   "codemirror_mode": {
    "name": "ipython",
    "version": 3
   },
   "file_extension": ".py",
   "mimetype": "text/x-python",
   "name": "python",
   "nbconvert_exporter": "python",
   "pygments_lexer": "ipython3",
   "version": "3.13.2"
  }
 },
 "nbformat": 4,
 "nbformat_minor": 5
}
