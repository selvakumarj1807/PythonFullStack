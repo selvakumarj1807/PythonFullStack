{
 "cells": [
  {
   "cell_type": "markdown",
   "id": "403a02ff-ca70-4a4e-b3a9-f9093ab0461e",
   "metadata": {},
   "source": [
    "List\n",
    "----\n",
    "\n",
    "1. List is a Collection of Data Type\n",
    "2. Declare with in [ ]\n",
    "3. It's used for store multiple values and Diffrent Data type values can store in a single variable.\n",
    "4. It's Values are store index based."
   ]
  },
  {
   "cell_type": "code",
   "execution_count": 5,
   "id": "1e06868c-8ff7-402c-80bd-bd4e65090c19",
   "metadata": {},
   "outputs": [
    {
     "name": "stdout",
     "output_type": "stream",
     "text": [
      "20 <class 'int'>\n"
     ]
    }
   ],
   "source": [
    "age = 20\n",
    "\n",
    "print(age, type(age))"
   ]
  },
  {
   "cell_type": "code",
   "execution_count": 3,
   "id": "85320ad0-bff5-433d-8ef8-981da9866970",
   "metadata": {},
   "outputs": [
    {
     "name": "stdout",
     "output_type": "stream",
     "text": [
      "[10, 20, 30, 18, 25, 28] <class 'list'>\n"
     ]
    }
   ],
   "source": [
    "ageValues = [10, 20, 30, 18, 25, 28]\n",
    "\n",
    "print(ageValues, type(ageValues))"
   ]
  },
  {
   "cell_type": "code",
   "execution_count": 7,
   "id": "1fb6d479-4601-4412-9b44-d7bcd9593ebe",
   "metadata": {},
   "outputs": [
    {
     "name": "stdout",
     "output_type": "stream",
     "text": [
      "10\n",
      "20\n",
      "30\n",
      "18\n",
      "25\n",
      "28\n"
     ]
    }
   ],
   "source": [
    "# For Loop\n",
    "\n",
    "for i in ageValues:\n",
    "    print(i)"
   ]
  },
  {
   "cell_type": "code",
   "execution_count": 8,
   "id": "41e4652d-b9a8-4223-b871-c8686c138ba0",
   "metadata": {},
   "outputs": [
    {
     "name": "stdout",
     "output_type": "stream",
     "text": [
      "[30, 18]\n"
     ]
    }
   ],
   "source": [
    "# List Manipulation\n",
    "\n",
    "print(ageValues[2:4])"
   ]
  },
  {
   "cell_type": "code",
   "execution_count": 10,
   "id": "77fc17eb-db08-4494-8c5a-2cb4148a8f82",
   "metadata": {},
   "outputs": [
    {
     "name": "stdout",
     "output_type": "stream",
     "text": [
      "70 is not There\n"
     ]
    }
   ],
   "source": [
    "# If \n",
    "\n",
    "age = 70\n",
    "\n",
    "if age in ageValues:\n",
    "    print(age, 'is There')\n",
    "else:\n",
    "    print(age, 'is not There')"
   ]
  },
  {
   "cell_type": "markdown",
   "id": "d2fc8a94-da08-41ac-a583-55cd55a12b57",
   "metadata": {},
   "source": [
    "Sort\n",
    "----\n",
    "\n",
    "1. smallest values to largest values\n",
    "2. largest values to smallest values"
   ]
  },
  {
   "cell_type": "code",
   "execution_count": 11,
   "id": "fbe3d6a6-012c-4604-aef4-380e8225e089",
   "metadata": {},
   "outputs": [
    {
     "name": "stdout",
     "output_type": "stream",
     "text": [
      "[10, 20, 30, 18, 25, 28]\n"
     ]
    }
   ],
   "source": [
    "print(ageValues)"
   ]
  },
  {
   "cell_type": "code",
   "execution_count": 12,
   "id": "35458802-8dbf-44de-8222-1fe914040939",
   "metadata": {},
   "outputs": [
    {
     "name": "stdout",
     "output_type": "stream",
     "text": [
      "[10, 18, 20, 25, 28, 30]\n"
     ]
    }
   ],
   "source": [
    "# smallest values to largest values\n",
    "\n",
    "ageValues.sort()\n",
    "\n",
    "print(ageValues)"
   ]
  },
  {
   "cell_type": "code",
   "execution_count": 13,
   "id": "c865ba8c-1b99-4026-a46a-e40256920471",
   "metadata": {},
   "outputs": [
    {
     "name": "stdout",
     "output_type": "stream",
     "text": [
      "[30, 28, 25, 20, 18, 10]\n"
     ]
    }
   ],
   "source": [
    "# largest values to smallest values\n",
    "\n",
    "ageValues.sort(reverse=True)\n",
    "\n",
    "print(ageValues)"
   ]
  },
  {
   "cell_type": "code",
   "execution_count": 19,
   "id": "768636e1-091a-4e08-828e-e2592c0eed07",
   "metadata": {},
   "outputs": [
    {
     "name": "stdout",
     "output_type": "stream",
     "text": [
      "['sa', 'tara', 'sara dev', 'sri', 'kowsalya', 'deepa'] <class 'list'>\n",
      "['deepa', 'kowsalya', 'sa', 'sara dev', 'sri', 'tara']\n",
      "['sa', 'sri', 'tara', 'deepa', 'kowsalya', 'sara dev']\n"
     ]
    }
   ],
   "source": [
    "# Sorting String Values\n",
    "\n",
    "names = ['sa', 'tara', 'sara dev', 'sri', 'kowsalya', 'deepa']\n",
    "\n",
    "print(names, type(names))\n",
    "\n",
    "# a -> z sorting \n",
    "names.sort()\n",
    "\n",
    "print(names)\n",
    "\n",
    "# sorting Key length values\n",
    "\n",
    "names.sort(key = len)\n",
    "\n",
    "print(names)"
   ]
  },
  {
   "cell_type": "code",
   "execution_count": 14,
   "id": "cbba6d86-ec49-41e3-ab1f-b27d7695650e",
   "metadata": {},
   "outputs": [
    {
     "name": "stdout",
     "output_type": "stream",
     "text": [
      "[101, 'Sara', 25, 9500912258, 'TN'] <class 'list'>\n"
     ]
    }
   ],
   "source": [
    "studentDetails = [101, 'Sara', 25, 9500912258, 'TN']\n",
    "\n",
    "print(studentDetails, type(studentDetails))"
   ]
  },
  {
   "cell_type": "code",
   "execution_count": 15,
   "id": "18faeba5-ee21-4586-9771-3cc9704e8eec",
   "metadata": {},
   "outputs": [
    {
     "name": "stdout",
     "output_type": "stream",
     "text": [
      "Sara\n"
     ]
    }
   ],
   "source": [
    "print(studentDetails[1])"
   ]
  },
  {
   "cell_type": "code",
   "execution_count": null,
   "id": "8606f6eb-cff8-460d-96f0-2d3f3344cef1",
   "metadata": {},
   "outputs": [],
   "source": [
    "'''\n",
    "ToDay Task:\n",
    "-----------\n",
    "\n",
    "Q1. \n",
    "To write the python code for below output using Python List\n",
    "\n",
    "Id : 101\n",
    "Name : Sara\n",
    "Age : 25\n",
    "Mobile : 9500912258\n",
    "State : TN\n",
    "\n",
    "Q2.\n",
    "To write the python code for below output using Python List\n",
    "\n",
    "[30, 28, 25, 20, 18, 10]\n",
    "\n",
    "Odd age values:\n",
    "25\n",
    "\n",
    "Even age values:\n",
    "10, 18, 20, 28, 30\n",
    "\n",
    "'''"
   ]
  }
 ],
 "metadata": {
  "kernelspec": {
   "display_name": "Python 3 (ipykernel)",
   "language": "python",
   "name": "python3"
  },
  "language_info": {
   "codemirror_mode": {
    "name": "ipython",
    "version": 3
   },
   "file_extension": ".py",
   "mimetype": "text/x-python",
   "name": "python",
   "nbconvert_exporter": "python",
   "pygments_lexer": "ipython3",
   "version": "3.11.9"
  }
 },
 "nbformat": 4,
 "nbformat_minor": 5
}
