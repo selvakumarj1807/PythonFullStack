{
 "cells": [
  {
   "cell_type": "markdown",
   "id": "efccaded-7208-4d34-94ab-114002084ef7",
   "metadata": {},
   "source": [
    "Python Functions:\n",
    "-----------------\n",
    "\n",
    "    A Function is a Block of code which only runs when it is called.\n",
    "\n",
    "1. No Return Type Without Argument\n",
    "2. No Return Type With Argument\n",
    "3. Return Type Without Argument\n",
    "4. Return Type With Argument"
   ]
  },
  {
   "cell_type": "markdown",
   "id": "8b38ec14-b4a1-4a8a-8fcd-18a8a4a731ea",
   "metadata": {},
   "source": [
    "# 1. No Return Type Without Argument:\n",
    "-------------------------------------"
   ]
  },
  {
   "cell_type": "code",
   "execution_count": 1,
   "id": "9459aa18-0bd3-4cfe-ac75-d93a99cae44d",
   "metadata": {},
   "outputs": [],
   "source": [
    "# Example 01\n",
    "\n",
    "def welcome():\n",
    "    print('Welcome Python Functions')"
   ]
  },
  {
   "cell_type": "code",
   "execution_count": 2,
   "id": "8bb8027e-ce0e-4506-9af7-aa4157269bab",
   "metadata": {},
   "outputs": [
    {
     "name": "stdout",
     "output_type": "stream",
     "text": [
      "Welcome Python Functions\n",
      "----------------------------------------------------------------------------\n",
      "Welcome Python Functions\n"
     ]
    }
   ],
   "source": [
    "welcome()\n",
    "\n",
    "print('----------------------------------------------------------------------------')\n",
    "\n",
    "welcome()"
   ]
  },
  {
   "cell_type": "code",
   "execution_count": 10,
   "id": "dbd5a5d8-d3e2-4def-9ef3-a32d6f43f695",
   "metadata": {},
   "outputs": [],
   "source": [
    "# Example 02\n",
    "\n",
    "def add():\n",
    "    a = int(input('Enter a Value 01 : '))\n",
    "\n",
    "    b = int(input('Enter a Value 02 : '))\n",
    "\n",
    "    print(a, ' + ', b, ' = ', a + b)\n",
    "\n",
    "    print(a, ' - ', b, ' = ', a - b)"
   ]
  },
  {
   "cell_type": "code",
   "execution_count": 11,
   "id": "09a70bb6-b872-4427-a3c5-a714ecf1b917",
   "metadata": {},
   "outputs": [
    {
     "name": "stdin",
     "output_type": "stream",
     "text": [
      "Enter a Value 01 :  20\n",
      "Enter a Value 02 :  10\n"
     ]
    },
    {
     "name": "stdout",
     "output_type": "stream",
     "text": [
      "20  +  10  =  30\n",
      "20  -  10  =  10\n",
      "-----------------------------------------------\n"
     ]
    },
    {
     "name": "stdin",
     "output_type": "stream",
     "text": [
      "Enter a Value 01 :  20\n",
      "Enter a Value 02 :  15\n"
     ]
    },
    {
     "name": "stdout",
     "output_type": "stream",
     "text": [
      "20  +  15  =  35\n",
      "20  -  15  =  5\n"
     ]
    }
   ],
   "source": [
    "add()\n",
    "\n",
    "print('-----------------------------------------------')\n",
    "\n",
    "add()"
   ]
  },
  {
   "cell_type": "markdown",
   "id": "b36465a0-973e-40bd-bd67-c7ebccc9867a",
   "metadata": {},
   "source": [
    "# 2. No Return Type With Argument\n",
    "---------------------------------"
   ]
  },
  {
   "cell_type": "code",
   "execution_count": 7,
   "id": "707ee1ef-020c-47c2-9f4f-0b9bb45b0a3b",
   "metadata": {},
   "outputs": [],
   "source": [
    "def add(a, b):\n",
    "    print(a, ' + ', b, ' = ', a + b)"
   ]
  },
  {
   "cell_type": "code",
   "execution_count": 8,
   "id": "e02ef6b2-9a0b-48fb-abd2-e4a3a2fc1e95",
   "metadata": {},
   "outputs": [
    {
     "name": "stdout",
     "output_type": "stream",
     "text": [
      "10  +  20  =  30\n",
      "-----------------------------------------------\n",
      "25  +  25  =  50\n"
     ]
    }
   ],
   "source": [
    "add(10, 20)\n",
    "\n",
    "print('-----------------------------------------------')\n",
    "\n",
    "add(25, 25)"
   ]
  },
  {
   "cell_type": "markdown",
   "id": "c50d441d-4c7b-40d4-8e34-cff5c3435e18",
   "metadata": {},
   "source": [
    "# 3. Return Type Without Argument\n",
    "---------------------------------"
   ]
  },
  {
   "cell_type": "code",
   "execution_count": 1,
   "id": "515cdf40-35b7-4383-aba6-eb857303224c",
   "metadata": {},
   "outputs": [],
   "source": [
    "def add():\n",
    "    a = int(input('Enter a Value 01 : '))\n",
    "\n",
    "    b = int(input('Enter a Value 02 : '))\n",
    "\n",
    "    c = a + b\n",
    "\n",
    "    return c"
   ]
  },
  {
   "cell_type": "code",
   "execution_count": 3,
   "id": "893a9f7f-fc77-4893-ae36-9f10f217fe19",
   "metadata": {},
   "outputs": [
    {
     "name": "stdin",
     "output_type": "stream",
     "text": [
      "Enter a Value 01 :  21\n",
      "Enter a Value 02 :  32\n"
     ]
    },
    {
     "name": "stdout",
     "output_type": "stream",
     "text": [
      "a + b =  53\n",
      "-----------------------------------------------\n"
     ]
    },
    {
     "name": "stdin",
     "output_type": "stream",
     "text": [
      "Enter a Value 01 :  24\n",
      "Enter a Value 02 :  14\n"
     ]
    },
    {
     "name": "stdout",
     "output_type": "stream",
     "text": [
      "38\n"
     ]
    }
   ],
   "source": [
    "print('a + b = ', add())\n",
    "\n",
    "print('-----------------------------------------------')\n",
    "\n",
    "answer = add()\n",
    "\n",
    "print(answer)"
   ]
  },
  {
   "cell_type": "markdown",
   "id": "9464a365-625b-4822-b666-70b1b928f28d",
   "metadata": {},
   "source": [
    "# 4. Return Type With Argument\n",
    "------------------------------"
   ]
  },
  {
   "cell_type": "code",
   "execution_count": 4,
   "id": "562da763-6d2a-4a28-86f9-3544da4b0452",
   "metadata": {},
   "outputs": [],
   "source": [
    "def add(a, b):\n",
    "    c = a + b\n",
    "\n",
    "    return c"
   ]
  },
  {
   "cell_type": "code",
   "execution_count": 5,
   "id": "5e2f9bba-f769-4ded-ba96-6622b9a89b34",
   "metadata": {},
   "outputs": [
    {
     "name": "stdout",
     "output_type": "stream",
     "text": [
      "a + b =  7\n",
      "-----------------------------------------------\n",
      "22\n"
     ]
    }
   ],
   "source": [
    "print('a + b = ', add(2, 5))\n",
    "\n",
    "print('-----------------------------------------------')\n",
    "\n",
    "answer = add(10, 12)\n",
    "\n",
    "print(answer)"
   ]
  },
  {
   "cell_type": "markdown",
   "id": "edcc67de-9e68-40f0-a1a0-799ff3f22e7b",
   "metadata": {},
   "source": [
    "# Lambda Function\n",
    "-----------------"
   ]
  },
  {
   "cell_type": "code",
   "execution_count": 9,
   "id": "80caa604-b8a2-494b-88f6-9d01999ad8bb",
   "metadata": {},
   "outputs": [
    {
     "name": "stdout",
     "output_type": "stream",
     "text": [
      "1999\n",
      "1997\n",
      "2009\n"
     ]
    }
   ],
   "source": [
    "age = lambda a: 2025 - a\n",
    "\n",
    "print(age(26))\n",
    "\n",
    "print(age(28))\n",
    "\n",
    "print(age(16))"
   ]
  },
  {
   "cell_type": "code",
   "execution_count": 10,
   "id": "769ff6df-9c89-4c96-8a00-7ae3dbff503c",
   "metadata": {},
   "outputs": [
    {
     "name": "stdout",
     "output_type": "stream",
     "text": [
      "30\n",
      "5\n"
     ]
    }
   ],
   "source": [
    "add = lambda a, b: a + b\n",
    "\n",
    "print(add(10, 20))\n",
    "\n",
    "print(add(2, 3))"
   ]
  },
  {
   "cell_type": "code",
   "execution_count": null,
   "id": "3f59a867-3dbe-430e-bc64-5a72ba05249c",
   "metadata": {},
   "outputs": [],
   "source": []
  }
 ],
 "metadata": {
  "kernelspec": {
   "display_name": "Python 3 (ipykernel)",
   "language": "python",
   "name": "python3"
  },
  "language_info": {
   "codemirror_mode": {
    "name": "ipython",
    "version": 3
   },
   "file_extension": ".py",
   "mimetype": "text/x-python",
   "name": "python",
   "nbconvert_exporter": "python",
   "pygments_lexer": "ipython3",
   "version": "3.11.9"
  }
 },
 "nbformat": 4,
 "nbformat_minor": 5
}
