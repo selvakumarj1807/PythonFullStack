{
 "cells": [
  {
   "cell_type": "markdown",
   "id": "082bed58-2666-4348-ac20-609e2b1d3959",
   "metadata": {},
   "source": [
    "Tuple\n",
    "-----\n",
    "\n",
    "1. Tuple is a Collection of Data Type\n",
    "2. Declare with in ( )\n",
    "3. It's used for store multiple values and Diffrent Data type values can store in a single variable.\n",
    "4. It's Values are store index based.\n",
    "5. Tuple is a immutable"
   ]
  },
  {
   "cell_type": "code",
   "execution_count": 1,
   "id": "45339e22-c47b-4248-bd84-7ee69741d8a5",
   "metadata": {},
   "outputs": [
    {
     "name": "stdout",
     "output_type": "stream",
     "text": [
      "(18, 20, 10, 30, 26, 49) <class 'tuple'>\n"
     ]
    }
   ],
   "source": [
    "age = (18,20,10,30,26,49)\n",
    "\n",
    "print(age, type(age))"
   ]
  },
  {
   "cell_type": "markdown",
   "id": "d66d402d-5e8b-4fd4-a0e8-3d732d0b1dc9",
   "metadata": {},
   "source": [
    "TypeCasting\n",
    "-----------"
   ]
  },
  {
   "cell_type": "code",
   "execution_count": 6,
   "id": "d8bf752d-ed3c-4165-b409-41fceeaefa87",
   "metadata": {},
   "outputs": [
    {
     "name": "stdout",
     "output_type": "stream",
     "text": [
      "350 <class 'int'>\n",
      "90.5 <class 'float'>\n",
      "-----------------------------------------------------\n",
      "350.0 <class 'float'>\n",
      "90 <class 'int'>\n"
     ]
    }
   ],
   "source": [
    "totalMark = 350\n",
    "\n",
    "average = 90.5\n",
    "\n",
    "print(totalMark, type(totalMark))\n",
    "\n",
    "print(average, type(average))\n",
    "\n",
    "print('-----------------------------------------------------')\n",
    "\n",
    "totalMark = float(totalMark)\n",
    "\n",
    "average = int(average)\n",
    "\n",
    "print(totalMark, type(totalMark))\n",
    "\n",
    "print(average, type(average))"
   ]
  },
  {
   "cell_type": "markdown",
   "id": "513fb913-bb0c-469e-ab9b-65a7dfe9b971",
   "metadata": {},
   "source": [
    "Change the Tuple DataType Values using Type Casting(List) Method\n",
    "----------------------------------------------------------------"
   ]
  },
  {
   "cell_type": "code",
   "execution_count": 10,
   "id": "dd2adb02-5452-419e-bf7b-1e6b7dc21736",
   "metadata": {},
   "outputs": [
    {
     "name": "stdout",
     "output_type": "stream",
     "text": [
      "(18, 20, 10, 30, 26, 49) <class 'tuple'>\n",
      "-----------------------------------------------------\n",
      "[18, 20, 10, 30, 26, 49] <class 'list'>\n",
      "-----------------------------------------------------\n",
      "[18, 'TN', 10, 30, 26, 49, 'admin'] <class 'list'>\n",
      "-----------------------------------------------------\n",
      "(18, 'TN', 10, 30, 26, 49, 'admin') <class 'tuple'>\n"
     ]
    }
   ],
   "source": [
    "age = (18,20,10,30,26,49)\n",
    "\n",
    "print(age, type(age))\n",
    "\n",
    "print('-----------------------------------------------------')\n",
    "\n",
    "age = list(age)\n",
    "\n",
    "print(age, type(age))\n",
    "\n",
    "print('-----------------------------------------------------')\n",
    "\n",
    "age.append('admin')\n",
    "\n",
    "age[1] = 'TN'\n",
    "\n",
    "print(age, type(age))\n",
    "\n",
    "print('-----------------------------------------------------')\n",
    "\n",
    "age = tuple(age)\n",
    "\n",
    "print(age, type(age))"
   ]
  },
  {
   "cell_type": "code",
   "execution_count": null,
   "id": "0d3d366e-d02b-4b2b-ab53-88f54d87faa0",
   "metadata": {},
   "outputs": [],
   "source": []
  }
 ],
 "metadata": {
  "kernelspec": {
   "display_name": "Python 3 (ipykernel)",
   "language": "python",
   "name": "python3"
  },
  "language_info": {
   "codemirror_mode": {
    "name": "ipython",
    "version": 3
   },
   "file_extension": ".py",
   "mimetype": "text/x-python",
   "name": "python",
   "nbconvert_exporter": "python",
   "pygments_lexer": "ipython3",
   "version": "3.11.9"
  }
 },
 "nbformat": 4,
 "nbformat_minor": 5
}
