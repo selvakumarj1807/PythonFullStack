{
 "cells": [
  {
   "cell_type": "markdown",
   "id": "86b28047-b344-4f50-8ded-563ed146bbe4",
   "metadata": {},
   "source": [
    "For Loop\n",
    "--------"
   ]
  },
  {
   "cell_type": "code",
   "execution_count": 1,
   "id": "991b3950-665a-405a-8229-c544d994ea3f",
   "metadata": {},
   "outputs": [
    {
     "name": "stdout",
     "output_type": "stream",
     "text": [
      "0\n",
      "1\n",
      "2\n",
      "3\n",
      "4\n",
      "5\n",
      "6\n",
      "7\n",
      "8\n",
      "9\n"
     ]
    }
   ],
   "source": [
    "for i in range(10):\n",
    "    print(i)"
   ]
  },
  {
   "cell_type": "code",
   "execution_count": 3,
   "id": "8cb68bb3-f951-44f2-b0c6-0fc1574340e2",
   "metadata": {},
   "outputs": [
    {
     "name": "stdout",
     "output_type": "stream",
     "text": [
      "1\n",
      "3\n",
      "5\n",
      "7\n",
      "9\n"
     ]
    }
   ],
   "source": [
    "# To Find Add Numbers\n",
    "\n",
    "for i in range(1,10,2):\n",
    "    print(i)"
   ]
  },
  {
   "cell_type": "code",
   "execution_count": 5,
   "id": "62cb16f2-7e05-4e24-a9bf-6ae8a3ce9dc6",
   "metadata": {},
   "outputs": [
    {
     "name": "stdout",
     "output_type": "stream",
     "text": [
      "0\n",
      "2\n",
      "4\n",
      "6\n",
      "8\n"
     ]
    }
   ],
   "source": [
    "# To Find Eve Numbers\n",
    "\n",
    "for i in range(0,10,2):\n",
    "    print(i)"
   ]
  },
  {
   "cell_type": "code",
   "execution_count": 7,
   "id": "a9e47986-8a26-4e38-910d-ed8e6800855a",
   "metadata": {},
   "outputs": [
    {
     "name": "stdin",
     "output_type": "stream",
     "text": [
      "Enter your Name :  selva\n",
      "Enter your Age :  22\n"
     ]
    },
    {
     "name": "stdout",
     "output_type": "stream",
     "text": [
      "-------------------\n",
      "selva  age is  22\n",
      "\n"
     ]
    },
    {
     "name": "stdin",
     "output_type": "stream",
     "text": [
      "Enter your Name :  Kumar\n",
      "Enter your Age :  23\n"
     ]
    },
    {
     "name": "stdout",
     "output_type": "stream",
     "text": [
      "-------------------\n",
      "Kumar  age is  23\n",
      "\n"
     ]
    }
   ],
   "source": [
    "for i in range(2):\n",
    "    name = input('Enter your Name : ')\n",
    "    age = int(input('Enter your Age : '))\n",
    "\n",
    "    print('-------------------')\n",
    "\n",
    "    print(name, ' age is ', age)\n",
    "    print('')"
   ]
  },
  {
   "cell_type": "code",
   "execution_count": 12,
   "id": "688864b0-acd6-46b6-879b-5df0d56def3d",
   "metadata": {},
   "outputs": [
    {
     "name": "stdout",
     "output_type": "stream",
     "text": [
      "0, 1, 2, 3, 4, 5, 6, 7, 8, 9, "
     ]
    }
   ],
   "source": [
    "for i in range(10):\n",
    "    print(i, end=', ')"
   ]
  },
  {
   "cell_type": "code",
   "execution_count": null,
   "id": "f8968997-805e-4f1e-84b6-3aec629ff7e8",
   "metadata": {},
   "outputs": [],
   "source": [
    "'''\n",
    "Q1\n",
    "To Write the Python code for Below output using for Loop\n",
    "\n",
    "1 * 2 = 2\n",
    "2 * 2 = 4\n",
    "3 * 2 = 6\n",
    "4 * 2 = 8\n",
    "5 * 2 = 10\n",
    "\n",
    "Q2\n",
    "To Write the Python code for Below output using for Loop\n",
    "\n",
    "1. selva  age is  22\n",
    "2. Kumar  age is  23\n",
    "3. selva  age is  22\n",
    "4. Kumar  age is  23\n",
    "\n",
    "Q3\n",
    "To Write the Python code (Fibbonasi Series) for Below output using for Loop or While Loop\n",
    "\n",
    "0, 1, 1, 2, 3, 5, 8\n",
    "\n",
    "\n",
    "'''"
   ]
  }
 ],
 "metadata": {
  "kernelspec": {
   "display_name": "Python 3 (ipykernel)",
   "language": "python",
   "name": "python3"
  },
  "language_info": {
   "codemirror_mode": {
    "name": "ipython",
    "version": 3
   },
   "file_extension": ".py",
   "mimetype": "text/x-python",
   "name": "python",
   "nbconvert_exporter": "python",
   "pygments_lexer": "ipython3",
   "version": "3.11.9"
  }
 },
 "nbformat": 4,
 "nbformat_minor": 5
}
