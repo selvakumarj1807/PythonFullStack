{
 "cells": [
  {
   "cell_type": "markdown",
   "id": "033b0ae0-be61-40c0-9abf-2de3a7ba170e",
   "metadata": {},
   "source": [
    "Conditional Statements :\n",
    "------------------------\n",
    "\n",
    "1. If\n",
    "2. If Else\n",
    "3. If Elif Else\n",
    "4. Nested If\n",
    "\n",
    "Loop Statement:\n",
    "---------------\n",
    "\n",
    "1. While Loop\n",
    "2. For Loop\n",
    "3. Nested Loop"
   ]
  },
  {
   "cell_type": "markdown",
   "id": "84d7b42d-001a-4cc7-8b7c-f54dbe298079",
   "metadata": {},
   "source": [
    "Python Input:\n",
    "-------------"
   ]
  },
  {
   "cell_type": "code",
   "execution_count": 3,
   "id": "67128224-dc6b-422a-b682-aea354b53d98",
   "metadata": {},
   "outputs": [
    {
     "name": "stdin",
     "output_type": "stream",
     "text": [
      "Enter your Name :  selva\n"
     ]
    },
    {
     "name": "stdout",
     "output_type": "stream",
     "text": [
      "selva\n"
     ]
    }
   ],
   "source": [
    "name = input('Enter your Name : ')\n",
    "\n",
    "print(name)"
   ]
  },
  {
   "cell_type": "code",
   "execution_count": 4,
   "id": "c8753d71-9af1-42b2-b039-2d32d37ee379",
   "metadata": {},
   "outputs": [
    {
     "name": "stdin",
     "output_type": "stream",
     "text": [
      "Enter your age :  26\n"
     ]
    },
    {
     "name": "stdout",
     "output_type": "stream",
     "text": [
      "26\n",
      "-----------------------------------\n",
      "To Find the Birth Of year :  1999\n"
     ]
    }
   ],
   "source": [
    "age = int(input('Enter your age : '))\n",
    "\n",
    "print(age)\n",
    "\n",
    "print('-----------------------------------')\n",
    "\n",
    "print('To Find the Birth Of year : ', 2025 - age )"
   ]
  },
  {
   "cell_type": "markdown",
   "id": "c8f2f3ab-9ae6-4e85-8513-e646edd2373c",
   "metadata": {},
   "source": [
    "# 1. If\n",
    "-------"
   ]
  },
  {
   "cell_type": "code",
   "execution_count": 26,
   "id": "984870cc-7ca2-408e-907c-1a4c76048a70",
   "metadata": {},
   "outputs": [
    {
     "name": "stdin",
     "output_type": "stream",
     "text": [
      "Enter a mark1 Value :  100\n",
      "Enter a mark2 Value :  20\n",
      "Enter a mark3 Value :  15\n"
     ]
    },
    {
     "name": "stdout",
     "output_type": "stream",
     "text": [
      "---------------------------------\n",
      "Mark1 :  100 Mark2 :  20 Mark3 :  15\n",
      "---------------------------------\n",
      "True\n",
      "False\n",
      "False\n",
      "---------------------------------\n",
      "False\n"
     ]
    }
   ],
   "source": [
    "mark1 = int(input('Enter a mark1 Value : '))\n",
    "\n",
    "mark2 = int(input('Enter a mark2 Value : '))\n",
    "\n",
    "mark3 = int(input('Enter a mark3 Value : '))\n",
    "\n",
    "print('---------------------------------')\n",
    "\n",
    "print('Mark1 : ', mark1, 'Mark2 : ', mark2, 'Mark3 : ', mark3)\n",
    "\n",
    "print('---------------------------------')\n",
    "\n",
    "print(mark1 >= 35)\n",
    "\n",
    "print(mark2 >= 35)\n",
    "\n",
    "print(mark3 >= 35)\n",
    "\n",
    "print('---------------------------------')\n",
    "\n",
    "print(mark1 >= 35 and mark2 >= 35 and mark3 >= 35)"
   ]
  },
  {
   "cell_type": "code",
   "execution_count": 13,
   "id": "8c44eb0a-e648-4e96-9695-9d6ff0b3fdad",
   "metadata": {},
   "outputs": [
    {
     "name": "stdout",
     "output_type": "stream",
     "text": [
      "The Student have Pass the Subject\n"
     ]
    }
   ],
   "source": [
    "# Use Single Condition in If Statement\n",
    "\n",
    "if mark1 >= 35:\n",
    "    print('The Student have Pass the Subject')"
   ]
  },
  {
   "cell_type": "code",
   "execution_count": 14,
   "id": "c85cff05-b45a-4e85-8e62-5ff7abb62a6d",
   "metadata": {},
   "outputs": [],
   "source": [
    "# Use Multiple Conditions in If Statement\n",
    "\n",
    "if (mark1 >= 35 and mark2 >= 35 and mark3 >= 35):\n",
    "    print('The Student have Pass the Over all Subject')"
   ]
  },
  {
   "cell_type": "markdown",
   "id": "186f0fe3-c121-43eb-a30b-eb14c5000349",
   "metadata": {},
   "source": [
    "# 2. If Else\n",
    "------------"
   ]
  },
  {
   "cell_type": "code",
   "execution_count": 17,
   "id": "eae37cf8-23da-4b96-b958-57ea82806b48",
   "metadata": {},
   "outputs": [
    {
     "name": "stdout",
     "output_type": "stream",
     "text": [
      "The Student have Pass the Over all Subject\n"
     ]
    }
   ],
   "source": [
    "if (mark1 >= 35 and mark2 >= 35 and mark3 >= 35):\n",
    "    print('The Student have Pass the Over all Subject')\n",
    "\n",
    "else:\n",
    "    print('The Stedent have Fail the Any One of the subjects')"
   ]
  },
  {
   "cell_type": "markdown",
   "id": "31e453c2-6786-48a3-acb3-7c8f908cdc2d",
   "metadata": {},
   "source": [
    "# 3. Nested If\n",
    "--------------"
   ]
  },
  {
   "cell_type": "code",
   "execution_count": 23,
   "id": "cf328315-34b6-4ebe-b24d-3cbc601ba162",
   "metadata": {},
   "outputs": [
    {
     "name": "stdout",
     "output_type": "stream",
     "text": [
      "The Student have Pass the Over all Subject\n",
      "Total :  210\n",
      "Average :  70.0\n",
      "D Grade\n"
     ]
    }
   ],
   "source": [
    "# Example 01\n",
    "#-----------\n",
    "\n",
    "if (mark1 >= 35 and mark2 >= 35 and mark3 >= 35):\n",
    "    print('The Student have Pass the Over all Subject')\n",
    "\n",
    "    toatl = mark1 + mark2 + mark3\n",
    "\n",
    "    average = toatl / 3\n",
    "\n",
    "    print('Total : ', toatl)\n",
    "\n",
    "    print('Average : ', average)\n",
    "\n",
    "    # 90 above and 100 below(90 - 100)\n",
    "    if (average >= 90 and average <= 100):\n",
    "        print('A+ Grade')\n",
    "\n",
    "    else:\n",
    "        print('D Grade')\n",
    "\n",
    "else:\n",
    "    print('The Stedent have Fail the Any One of the subjects')"
   ]
  },
  {
   "cell_type": "code",
   "execution_count": 28,
   "id": "f362e13c-e0e5-4790-80c9-7efd20d55af1",
   "metadata": {},
   "outputs": [
    {
     "name": "stdout",
     "output_type": "stream",
     "text": [
      "The Stedent have Fail the Any One of the subjects\n",
      "Mark 02 :  20 So You are fail\n",
      "Mark 03 :  15 So You are fail\n"
     ]
    }
   ],
   "source": [
    "# Example 02\n",
    "#-----------\n",
    "\n",
    "if (mark1 >= 35 and mark2 >= 35 and mark3 >= 35):\n",
    "    print('The Student have Pass the Over all Subject')\n",
    "\n",
    "    toatl = mark1 + mark2 + mark3\n",
    "\n",
    "    average = toatl / 3\n",
    "\n",
    "    print('Total : ', toatl)\n",
    "\n",
    "    print('Average : ', average)\n",
    "\n",
    "    # 90 above and 100 below(90 - 100)\n",
    "    if (average >= 90 and average <= 100):\n",
    "        print('A+ Grade')\n",
    "\n",
    "    else:\n",
    "        print('D Grade')\n",
    "\n",
    "else:\n",
    "    print('The Stedent have Fail the Any One of the subjects')\n",
    "\n",
    "    if (mark1 <= 35):\n",
    "        print('Mark 01 : ', mark1, 'So You are fail')\n",
    "\n",
    "    if (mark2 <= 35):\n",
    "        print('Mark 02 : ', mark2, 'So You are fail')\n",
    "\n",
    "    if (mark3 <= 35):\n",
    "        print('Mark 03 : ', mark3, 'So You are fail')"
   ]
  },
  {
   "cell_type": "code",
   "execution_count": null,
   "id": "a810fde5-8fc2-42cc-8429-25ca79663930",
   "metadata": {},
   "outputs": [],
   "source": [
    "'''\n",
    "ToDay Task\n",
    "\n",
    "To Create Pass or Fail Statements Use If, If Else, Nested If based On Above Functionalities\n",
    "\n",
    "For Subjects Like (Tamil, English, Maths, Science, SocialScience)\n",
    "\n",
    "To give a Both Positive Output(To Find Total Average and Grade) and Negative Output (Fail, Number Of Fail Subjetc Like Above Functionalities)\n",
    "'''"
   ]
  },
  {
   "cell_type": "code",
   "execution_count": null,
   "id": "208af4ab-a108-4065-8be0-19b061b802d1",
   "metadata": {},
   "outputs": [],
   "source": [
    "# 4. If Elif Else\n",
    "\n",
    "total = int(input('Enter your Total Mark with in 500 : '))\n",
    "\n",
    "average = total / 5\n",
    "\n",
    "print(average, '-',average >= 90, ' and ', average <= 100, ' : ', average >= 90 and average <= 100)\n",
    "\n",
    "print(average, '-',average >= 80, ' and ', average <= 90, ' : ', average >= 80 and average <= 90)\n",
    "\n",
    "print(average, '-',average >= 70, ' and ', average <= 80, ' : ', average >= 70 and average <= 80)\n",
    "\n",
    "\n",
    "print('----------------------------------------------')\n",
    "\n",
    "if (average >= 90 and average <= 100): \n",
    "    print('A+ Grade')\n",
    "elif (average >= 80 and average <= 90):\n",
    "    print('B+ Grade')\n",
    "elif (average >= 70 and average <= 80):\n",
    "    print('C+ Grade')\n",
    "else:\n",
    "    print('D Grade')"
   ]
  },
  {
   "cell_type": "code",
   "execution_count": 5,
   "id": "ccd4b46f-2b40-49ad-9a07-988c823353b9",
   "metadata": {},
   "outputs": [
    {
     "name": "stdin",
     "output_type": "stream",
     "text": [
      "Enter your Total Mark with in 500 :  190\n"
     ]
    },
    {
     "name": "stdout",
     "output_type": "stream",
     "text": [
      "38.0 - False  and  True  :  False\n",
      "38.0 - False  and  True  :  False\n",
      "38.0 - False  and  True  :  False\n",
      "38.0 - False\n",
      "----------------------------------------------\n",
      "D Grade\n"
     ]
    }
   ],
   "source": [
    "# 4. If Elif Else\n",
    "\n",
    "total = int(input('Enter your Total Mark with in 500 : '))\n",
    "\n",
    "average = total / 5\n",
    "\n",
    "print(average, '-',average >= 90, ' and ', average <= 100, ' : ', average >= 90 and average <= 100)\n",
    "\n",
    "print(average, '-',average >= 80, ' and ', average <= 90, ' : ', average >= 80 and average <= 90)\n",
    "\n",
    "print(average, '-',average >= 70, ' and ', average <= 80, ' : ', average >= 70 and average <= 80)\n",
    "\n",
    "print(average, '-',average >= 50)\n",
    "\n",
    "print('----------------------------------------------')\n",
    "\n",
    "if (average >= 90 and average <= 100): \n",
    "    print('A+ Grade')\n",
    "elif (average >= 80 and average <= 90):\n",
    "    print('B+ Grade')\n",
    "elif (average >= 70 and average <= 80):\n",
    "    print('C+ Grade')\n",
    "elif (average >= 50):\n",
    "    print('D+ Grade')\n",
    "else:\n",
    "    print('D Grade')"
   ]
  },
  {
   "cell_type": "code",
   "execution_count": null,
   "id": "471c2b4d-bed1-4c55-bfcf-75558bbdabb5",
   "metadata": {},
   "outputs": [],
   "source": []
  }
 ],
 "metadata": {
  "kernelspec": {
   "display_name": "Python 3 (ipykernel)",
   "language": "python",
   "name": "python3"
  },
  "language_info": {
   "codemirror_mode": {
    "name": "ipython",
    "version": 3
   },
   "file_extension": ".py",
   "mimetype": "text/x-python",
   "name": "python",
   "nbconvert_exporter": "python",
   "pygments_lexer": "ipython3",
   "version": "3.11.9"
  }
 },
 "nbformat": 4,
 "nbformat_minor": 5
}
