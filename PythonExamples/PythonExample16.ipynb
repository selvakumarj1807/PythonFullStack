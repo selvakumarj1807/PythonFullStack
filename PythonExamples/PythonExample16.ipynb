{
 "cells": [
  {
   "cell_type": "markdown",
   "id": "60865a14-974d-427e-896b-372b265c3c27",
   "metadata": {},
   "source": [
    "Random Module :\n",
    "---------------"
   ]
  },
  {
   "cell_type": "code",
   "execution_count": 3,
   "id": "9345b77d-6f5e-4493-9d19-1ce75327a361",
   "metadata": {},
   "outputs": [],
   "source": [
    "import random"
   ]
  },
  {
   "cell_type": "code",
   "execution_count": 7,
   "id": "19e69e6b-2cbe-4c51-a6c7-059f38ad1bce",
   "metadata": {},
   "outputs": [
    {
     "name": "stdout",
     "output_type": "stream",
     "text": [
      "8\n"
     ]
    }
   ],
   "source": [
    "x = random.randint(1, 10)\n",
    "\n",
    "print(x)"
   ]
  },
  {
   "cell_type": "code",
   "execution_count": 9,
   "id": "b4b13851-5530-4e3f-8c57-c581cce6f737",
   "metadata": {},
   "outputs": [
    {
     "name": "stdout",
     "output_type": "stream",
     "text": [
      "26\n"
     ]
    }
   ],
   "source": [
    "ageValues = [18, 20, 25, 26, 28]\n",
    "\n",
    "x = random.choice(ageValues)\n",
    "\n",
    "print(x)"
   ]
  },
  {
   "cell_type": "code",
   "execution_count": 14,
   "id": "be5c373e-2398-42f8-9512-42efb1c92f86",
   "metadata": {},
   "outputs": [
    {
     "name": "stdout",
     "output_type": "stream",
     "text": [
      "Dev\n"
     ]
    }
   ],
   "source": [
    "nameValues = ['selva', 'admin', 'Dev', 'LM']\n",
    "\n",
    "x = random.choice(nameValues)\n",
    "\n",
    "print(x)"
   ]
  },
  {
   "cell_type": "code",
   "execution_count": 19,
   "id": "fa99f3ae-73cd-4918-88ff-d1a2759dc6a8",
   "metadata": {},
   "outputs": [
    {
     "name": "stdin",
     "output_type": "stream",
     "text": [
      "Enter a age Values seperated by comma :  1,2,3,4\n"
     ]
    },
    {
     "name": "stdout",
     "output_type": "stream",
     "text": [
      "['1', '2', '3', '4'] <class 'list'>\n",
      "---------------------------------------------------\n",
      "1 <class 'str'>\n",
      "---------------------------------------------------\n",
      "1 <class 'int'>\n"
     ]
    }
   ],
   "source": [
    "x = input('Enter a age Values seperated by comma : ')\n",
    "\n",
    "a = x.split(',')\n",
    "\n",
    "print(a, type(a))\n",
    "\n",
    "print('---------------------------------------------------')\n",
    "\n",
    "print(a[0], type(a[0]))\n",
    "\n",
    "print('---------------------------------------------------')\n",
    "\n",
    "b = int(a[0])\n",
    "\n",
    "print(b, type(b))"
   ]
  },
  {
   "cell_type": "code",
   "execution_count": null,
   "id": "5d4a6945-549a-4464-8236-d6c3c8e76291",
   "metadata": {},
   "outputs": [],
   "source": []
  }
 ],
 "metadata": {
  "kernelspec": {
   "display_name": "Python 3 (ipykernel)",
   "language": "python",
   "name": "python3"
  },
  "language_info": {
   "codemirror_mode": {
    "name": "ipython",
    "version": 3
   },
   "file_extension": ".py",
   "mimetype": "text/x-python",
   "name": "python",
   "nbconvert_exporter": "python",
   "pygments_lexer": "ipython3",
   "version": "3.13.2"
  }
 },
 "nbformat": 4,
 "nbformat_minor": 5
}
