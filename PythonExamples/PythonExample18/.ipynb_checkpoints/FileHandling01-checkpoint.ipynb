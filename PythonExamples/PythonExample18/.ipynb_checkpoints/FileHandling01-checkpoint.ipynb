{
 "cells": [
  {
   "cell_type": "markdown",
   "id": "e55cd2e9-0ab2-408c-9495-a4818df76f45",
   "metadata": {},
   "source": [
    "File Handling :\n",
    "---------------"
   ]
  },
  {
   "cell_type": "markdown",
   "id": "475101ab-d7e9-49e6-96a7-5cafbe9b15f1",
   "metadata": {},
   "source": [
    "# 01 File Read Method\n",
    "---------------------"
   ]
  },
  {
   "cell_type": "code",
   "execution_count": 4,
   "id": "c0852547-53f5-41e3-9102-68685496d9c2",
   "metadata": {},
   "outputs": [
    {
     "name": "stdout",
     "output_type": "stream",
     "text": [
      "Hi Welcome to Python File Handling\n"
     ]
    }
   ],
   "source": [
    "# File Read Method\n",
    "\n",
    "try:\n",
    "    fileRead = open('test.txt', 'r')\n",
    "\n",
    "except Exception as e:\n",
    "    print(e)\n",
    "\n",
    "else:\n",
    "    print(fileRead.read())\n",
    "\n",
    "    fileRead.close()\n"
   ]
  },
  {
   "cell_type": "markdown",
   "id": "0c940eab-586c-45f7-b9d9-df04ef617ca0",
   "metadata": {},
   "source": [
    "# 02 File Write Method:\n",
    "-----------------------"
   ]
  },
  {
   "cell_type": "code",
   "execution_count": 5,
   "id": "20779ded-5bd9-4f5c-8db8-581e6d246971",
   "metadata": {},
   "outputs": [],
   "source": [
    "# File Write Method\n",
    "# Example 01\n",
    "\n",
    "try:\n",
    "    fileWrite = open('test.txt', 'w')\n",
    "\n",
    "except Exception as e:\n",
    "    print(e)\n",
    "\n",
    "else:\n",
    "    fileWrite.write('File Handling Write method')\n",
    "    \n",
    "    fileWrite.close()\n"
   ]
  },
  {
   "cell_type": "code",
   "execution_count": 7,
   "id": "7facc7c8-b10a-4a47-b033-4acc52c8faf8",
   "metadata": {},
   "outputs": [
    {
     "name": "stdout",
     "output_type": "stream",
     "text": [
      "File Handling Write method\n",
      "------------------------------------------------------------------\n",
      "------------------------------------------------------------------\n",
      "File Handling Write method Second Time\n"
     ]
    }
   ],
   "source": [
    "# File Write Method\n",
    "# Example 02\n",
    "\n",
    "fileRead = open('test.txt', 'r')\n",
    "\n",
    "print(fileRead.read())\n",
    "\n",
    "fileRead.close()\n",
    "\n",
    "print('------------------------------------------------------------------')\n",
    "\n",
    "fileWrite = open('test.txt', 'w')\n",
    "\n",
    "fileWrite.write('File Handling Write method Second Time')\n",
    "    \n",
    "fileWrite.close()\n",
    "\n",
    "print('------------------------------------------------------------------')\n",
    "\n",
    "fileRead = open('test.txt', 'r')\n",
    "\n",
    "print(fileRead.read())\n",
    "\n",
    "fileRead.close()"
   ]
  },
  {
   "cell_type": "markdown",
   "id": "c4e8e812-0085-456a-8c47-65ef4389dd71",
   "metadata": {},
   "source": [
    "# 03 File Append Method:\n",
    "------------------------"
   ]
  },
  {
   "cell_type": "code",
   "execution_count": 8,
   "id": "59a21de6-1160-4431-91e5-c003cd7db620",
   "metadata": {},
   "outputs": [
    {
     "name": "stdout",
     "output_type": "stream",
     "text": [
      "File Handling Write method Second Time\n",
      "------------------------------------------------------------------\n",
      "------------------------------------------------------------------\n",
      "File Handling Write method Second Time File Handling Append method\n"
     ]
    }
   ],
   "source": [
    "# File Append Method\n",
    "\n",
    "fileRead = open('test.txt', 'r')\n",
    "\n",
    "print(fileRead.read())\n",
    "\n",
    "fileRead.close()\n",
    "\n",
    "print('------------------------------------------------------------------')\n",
    "\n",
    "fileAppend = open('test.txt', 'a')\n",
    "\n",
    "fileAppend.write(' File Handling Append method')\n",
    "    \n",
    "fileAppend.close()\n",
    "\n",
    "print('------------------------------------------------------------------')\n",
    "\n",
    "fileRead = open('test.txt', 'r')\n",
    "\n",
    "print(fileRead.read())\n",
    "\n",
    "fileRead.close()"
   ]
  },
  {
   "cell_type": "markdown",
   "id": "f71c0654-c677-4bb0-b2e7-12ec6b28957c",
   "metadata": {},
   "source": [
    "# 04 Read Lines\n",
    "---------------"
   ]
  },
  {
   "cell_type": "code",
   "execution_count": 19,
   "id": "159564e6-bf62-4325-a61c-3f0a5376ca59",
   "metadata": {},
   "outputs": [
    {
     "name": "stdout",
     "output_type": "stream",
     "text": [
      "This is because paragraphs show a reader where the subdivisions of an essay begin and end, and thus help the\n",
      "\n"
     ]
    }
   ],
   "source": [
    "fileRead = open('multipleLine.txt', 'r')\n",
    "\n",
    "# print(fileRead.read())\n",
    "\n",
    "# print(fileRead.readline())\n",
    "\n",
    "# print(fileRead.readline(5))\n",
    "\n",
    "# print(fileRead.readlines())\n",
    "\n",
    "Para = fileRead.readlines()\n",
    "\n",
    "# print(Para, type(Para))\n",
    "\n",
    "print(Para[2]) # To get a 3 Line in a paragraph\n",
    "\n",
    "fileRead.close()"
   ]
  },
  {
   "cell_type": "markdown",
   "id": "a0ea49f1-575c-4f05-ab3b-1b6eb44a503d",
   "metadata": {},
   "source": [
    "# 05 File Delete :\n",
    "------------------"
   ]
  },
  {
   "cell_type": "code",
   "execution_count": 22,
   "id": "6c801dac-29a3-4735-aa15-ea5173294be2",
   "metadata": {},
   "outputs": [
    {
     "name": "stdout",
     "output_type": "stream",
     "text": [
      "File is there\n",
      "File Deleted Successfully\n"
     ]
    }
   ],
   "source": [
    "# File Delete Method\n",
    "# Create the sampleDelete.txt file First and Do the next step\n",
    "\n",
    "import os\n",
    "\n",
    "if (os.path.exists('sampleDelete.txt')):\n",
    "    print('File is there')\n",
    "\n",
    "    os.remove('sampleDelete.txt')\n",
    "\n",
    "    print('File Deleted Successfully')\n",
    "\n",
    "else:\n",
    "    print('File is not in your Folder')"
   ]
  },
  {
   "cell_type": "code",
   "execution_count": null,
   "id": "11253fe8-079c-4c32-a8f9-c67d85329369",
   "metadata": {},
   "outputs": [],
   "source": []
  }
 ],
 "metadata": {
  "kernelspec": {
   "display_name": "Python 3 (ipykernel)",
   "language": "python",
   "name": "python3"
  },
  "language_info": {
   "codemirror_mode": {
    "name": "ipython",
    "version": 3
   },
   "file_extension": ".py",
   "mimetype": "text/x-python",
   "name": "python",
   "nbconvert_exporter": "python",
   "pygments_lexer": "ipython3",
   "version": "3.13.2"
  }
 },
 "nbformat": 4,
 "nbformat_minor": 5
}
