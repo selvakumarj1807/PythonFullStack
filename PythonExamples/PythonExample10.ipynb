{
 "cells": [
  {
   "cell_type": "markdown",
   "id": "b493284e-380f-4cad-ba9a-c1662971183d",
   "metadata": {},
   "source": [
    "Set\n",
    "---\n",
    "\n",
    "1. Set is a Collection of Data Type\n",
    "2. Declare with in { }\n",
    "3. It's used for store multiple values and Diffrent Data type values can store in a single variable.\n",
    "4. It's Values are store non index based.\n",
    "5. It's Used for Remove Duplicate values"
   ]
  },
  {
   "cell_type": "code",
   "execution_count": 3,
   "id": "120deca3-c97b-45f5-888f-426bb0f537f2",
   "metadata": {},
   "outputs": [
    {
     "name": "stdout",
     "output_type": "stream",
     "text": [
      "{35, 20, 40, 25, 10, 30, 15} <class 'set'>\n"
     ]
    }
   ],
   "source": [
    "age = {10,20,15,25,10,35,30,25,40,30,20,15,35,30}\n",
    "\n",
    "print(age, type(age))"
   ]
  },
  {
   "cell_type": "markdown",
   "id": "5a229c2e-4251-4dbc-aa05-f04e9ef65b94",
   "metadata": {},
   "source": [
    "Copy\n",
    "----"
   ]
  },
  {
   "cell_type": "code",
   "execution_count": 8,
   "id": "04908dd7-62e0-466d-9cf9-a6b33503e120",
   "metadata": {},
   "outputs": [
    {
     "name": "stdout",
     "output_type": "stream",
     "text": [
      "{25, 'selva', 101}\n",
      "{25, 'selva', 101}\n",
      "{25, 'selva', 'TamilNadu', 101}\n",
      "{25, 'selva', 'TamilNadu', 101}\n",
      "-----------------------------------------------------------------\n",
      "{25, 'selva', 101}\n",
      "{25, 'selva', 101}\n",
      "{25, 'selva', 'TamilNadu', 101}\n",
      "{25, 'selva', 101}\n"
     ]
    }
   ],
   "source": [
    "details = {101, 'selva', 25, 'selva', 25, }\n",
    "\n",
    "print(details)\n",
    "\n",
    "studentDetals = details\n",
    "\n",
    "print(studentDetals)\n",
    "\n",
    "# Add a values in Set Data Type Variable\n",
    "\n",
    "studentDetals.add('TamilNadu')\n",
    "\n",
    "print(studentDetals)\n",
    "print(details)\n",
    "\n",
    "print('-----------------------------------------------------------------')\n",
    "\n",
    "details = {101, 'selva', 25, 'selva', 25, }\n",
    "\n",
    "print(details)\n",
    "\n",
    "studentDetals = details.copy()\n",
    "\n",
    "print(studentDetals)\n",
    "\n",
    "# Add a values in Set Data Type Variable\n",
    "\n",
    "studentDetals.add('TamilNadu')\n",
    "\n",
    "print(studentDetals)\n",
    "print(details)"
   ]
  },
  {
   "cell_type": "markdown",
   "id": "74b32792-6e22-43dd-b520-ed987e8bbc8e",
   "metadata": {},
   "source": [
    "Add two set Datatype Variables\n",
    "------------------------------"
   ]
  },
  {
   "cell_type": "code",
   "execution_count": 12,
   "id": "3bb734bd-4f5f-4b5b-97dc-f7d2b589bb2f",
   "metadata": {},
   "outputs": [
    {
     "name": "stdout",
     "output_type": "stream",
     "text": [
      "{25, 'selva', 101}\n",
      "{'Trichy', \"St Joseph's College\"}\n",
      "-----------------------------------------------------------------\n",
      "{'Trichy', 'selva', 101, \"St Joseph's College\", 25}\n"
     ]
    }
   ],
   "source": [
    "studentDetails = {101, 'selva', 25}\n",
    "\n",
    "collegeDetails = {\"St Joseph's College\", 'Trichy'}\n",
    "\n",
    "print(studentDetails)\n",
    "\n",
    "print(collegeDetails)\n",
    "\n",
    "print('-----------------------------------------------------------------')\n",
    "\n",
    "studentDetails.update(collegeDetails)\n",
    "\n",
    "print(studentDetails)"
   ]
  },
  {
   "cell_type": "markdown",
   "id": "d1d9f4f2-6775-47d5-9bcd-c505d3291e1f",
   "metadata": {},
   "source": [
    "Delete the values from the Given Set\n",
    "------------------------------------"
   ]
  },
  {
   "cell_type": "code",
   "execution_count": 15,
   "id": "492d186b-1368-46c5-9fce-6ee37e4bda83",
   "metadata": {},
   "outputs": [
    {
     "name": "stdout",
     "output_type": "stream",
     "text": [
      "{'Trichy', 'selva', 101, \"St Joseph's College\", 25}\n",
      "-----------------------------------------------------------------\n",
      "{'selva', 101, \"St Joseph's College\", 25}\n",
      "-----------------------------------------------------------------\n",
      "{'selva', 101, \"St Joseph's College\"}\n"
     ]
    }
   ],
   "source": [
    "studentDetails = {101, 'selva', 25, \"St Joseph's College\", 'Trichy'}\n",
    "\n",
    "print(studentDetails)\n",
    "\n",
    "print('-----------------------------------------------------------------')\n",
    "# Use Remove Function\n",
    "\n",
    "studentDetails.remove('Trichy')\n",
    "\n",
    "print(studentDetails)\n",
    "\n",
    "print('-----------------------------------------------------------------')\n",
    "# Use Discard Function\n",
    "\n",
    "studentDetails.discard(25)\n",
    "\n",
    "print(studentDetails)"
   ]
  },
  {
   "cell_type": "markdown",
   "id": "8a70b495-78f3-4c3c-8ffb-6800c5dda4a1",
   "metadata": {},
   "source": [
    "Difference Between discard & remove\n",
    "-----------------------------------"
   ]
  },
  {
   "cell_type": "code",
   "execution_count": 22,
   "id": "2f357c43-47c8-44d6-baef-7422bc5b8e84",
   "metadata": {},
   "outputs": [
    {
     "name": "stdout",
     "output_type": "stream",
     "text": [
      "{'Trichy', 'selva', 101, \"St Joseph's College\", 25}\n",
      "-----------------------------------------------------------------\n",
      "{'Trichy', 'selva', 101, \"St Joseph's College\"}\n",
      "--------------------------\n",
      "{'Trichy', 'selva', 101, \"St Joseph's College\"}\n",
      "-----------------------------------------------------------------\n",
      "{'selva', 101, \"St Joseph's College\", 25}\n",
      "--------------------------\n"
     ]
    },
    {
     "ename": "KeyError",
     "evalue": "9500912258",
     "output_type": "error",
     "traceback": [
      "\u001b[31m---------------------------------------------------------------------------\u001b[39m",
      "\u001b[31mKeyError\u001b[39m                                  Traceback (most recent call last)",
      "\u001b[36mCell\u001b[39m\u001b[36m \u001b[39m\u001b[32mIn[22]\u001b[39m\u001b[32m, line 34\u001b[39m\n\u001b[32m     31\u001b[39m \u001b[38;5;28mprint\u001b[39m(\u001b[33m'\u001b[39m\u001b[33m--------------------------\u001b[39m\u001b[33m'\u001b[39m)\n\u001b[32m     33\u001b[39m \u001b[38;5;66;03m# Example 02\u001b[39;00m\n\u001b[32m---> \u001b[39m\u001b[32m34\u001b[39m \u001b[43mstudentDetails\u001b[49m\u001b[43m.\u001b[49m\u001b[43mremove\u001b[49m\u001b[43m(\u001b[49m\u001b[32;43m9500912258\u001b[39;49m\u001b[43m)\u001b[49m\n\u001b[32m     36\u001b[39m \u001b[38;5;28mprint\u001b[39m(studentDetails)\n",
      "\u001b[31mKeyError\u001b[39m: 9500912258"
     ]
    }
   ],
   "source": [
    "studentDetails = {101, 'selva', 25, \"St Joseph's College\", 'Trichy'}\n",
    "\n",
    "print(studentDetails)\n",
    "\n",
    "print('-----------------------------------------------------------------')\n",
    "# Use Discard Function\n",
    "\n",
    "# Example 01\n",
    "studentDetails.discard(25)\n",
    "\n",
    "print(studentDetails)\n",
    "\n",
    "print('--------------------------')\n",
    "\n",
    "# Example 02\n",
    "studentDetails.discard(9500912258)\n",
    "\n",
    "print(studentDetails)\n",
    "\n",
    "print('-----------------------------------------------------------------')\n",
    "\n",
    "studentDetails = {101, 'selva', 25, \"St Joseph's College\", 'Trichy'}\n",
    "\n",
    "# Use Remove Function\n",
    "\n",
    "# Example 01\n",
    "studentDetails.remove(\"Trichy\")\n",
    "\n",
    "print(studentDetails)\n",
    "\n",
    "print('--------------------------')\n",
    "\n",
    "# Example 02\n",
    "studentDetails.remove(9500912258)\n",
    "\n",
    "print(studentDetails)\n"
   ]
  },
  {
   "cell_type": "markdown",
   "id": "396cdd9a-695f-4705-889a-1758b34c0bac",
   "metadata": {},
   "source": [
    "Union, Intersection, symmetrcDifference\n",
    "---------------------------------------"
   ]
  },
  {
   "cell_type": "code",
   "execution_count": 2,
   "id": "088502c2-902e-418e-88d5-97b8eec017ae",
   "metadata": {},
   "outputs": [
    {
     "name": "stdout",
     "output_type": "stream",
     "text": [
      "{1, 2, 3, 4, 5, 6}\n",
      "{3, 4, 6, 7, 8, 9, 10}\n",
      "---------------------------------------------\n",
      "{1, 2, 3, 4, 5, 6, 7, 8, 9, 10}\n",
      "---------------------------------------------\n",
      "{1, 2, 3, 4, 5, 6}\n",
      "{3, 4, 6, 7, 8, 9, 10}\n"
     ]
    }
   ],
   "source": [
    "# Union\n",
    "\n",
    "set1 = {1,2,3,4,5,6,1,2}\n",
    "\n",
    "set2 = {6,7,8,9,10,3,4}\n",
    "\n",
    "print(set1)\n",
    "\n",
    "print(set2)\n",
    "\n",
    "print('---------------------------------------------')\n",
    "\n",
    "unionValues = set1.union(set2)\n",
    "\n",
    "print(unionValues)\n",
    "\n",
    "print('---------------------------------------------')\n",
    "\n",
    "print(set1)\n",
    "\n",
    "print(set2)"
   ]
  },
  {
   "cell_type": "code",
   "execution_count": 3,
   "id": "a8253073-4028-42a9-b0dc-286e385ef793",
   "metadata": {},
   "outputs": [
    {
     "name": "stdout",
     "output_type": "stream",
     "text": [
      "{3, 4, 6}\n"
     ]
    }
   ],
   "source": [
    "# Intersection\n",
    "\n",
    "set1 = {1,2,3,4,5,6,1,2}\n",
    "\n",
    "set2 = {6,7,8,9,10,3,4}\n",
    "\n",
    "intersetionValues = set1.intersection(set2)\n",
    "\n",
    "print(intersetionValues)"
   ]
  },
  {
   "cell_type": "code",
   "execution_count": 4,
   "id": "2ee0fa21-9ad8-4a15-a3eb-4769b19c7af0",
   "metadata": {},
   "outputs": [
    {
     "name": "stdout",
     "output_type": "stream",
     "text": [
      "{1, 2, 5, 7, 8, 9, 10}\n"
     ]
    }
   ],
   "source": [
    "# Symmetric_difference\n",
    "\n",
    "set1 = {1,2,3,4,5,6,1,2}\n",
    "\n",
    "set2 = {6,7,8,9,10,3,4}\n",
    "\n",
    "symmetric_differenceValues = set1.symmetric_difference(set2)\n",
    "\n",
    "print(symmetric_differenceValues)"
   ]
  },
  {
   "cell_type": "code",
   "execution_count": null,
   "id": "3d1d9f63-99bf-4b45-8691-0f4333aad14a",
   "metadata": {},
   "outputs": [],
   "source": []
  }
 ],
 "metadata": {
  "kernelspec": {
   "display_name": "Python 3 (ipykernel)",
   "language": "python",
   "name": "python3"
  },
  "language_info": {
   "codemirror_mode": {
    "name": "ipython",
    "version": 3
   },
   "file_extension": ".py",
   "mimetype": "text/x-python",
   "name": "python",
   "nbconvert_exporter": "python",
   "pygments_lexer": "ipython3",
   "version": "3.11.9"
  }
 },
 "nbformat": 4,
 "nbformat_minor": 5
}
